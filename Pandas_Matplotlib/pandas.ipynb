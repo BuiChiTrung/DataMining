{
 "cells": [
  {
   "cell_type": "markdown",
   "metadata": {
    "slideshow": {
     "slide_type": "slide"
    }
   },
   "source": [
    "# Pandas\n",
    "\n",
    "Pandas is an powerful Python module for data analysis. It provides a new data structure called a \"dataframe\". This is similar to the data.frame structure in R and can be treated almost like an in-memory database."
   ]
  },
  {
   "cell_type": "markdown",
   "metadata": {
    "slideshow": {
     "slide_type": "fragment"
    }
   },
   "source": [
    "## Import modules"
   ]
  },
  {
   "cell_type": "code",
   "execution_count": 1,
   "metadata": {},
   "outputs": [],
   "source": [
    "import pandas as pd\n",
    "import numpy as np"
   ]
  },
  {
   "cell_type": "code",
   "execution_count": 2,
   "metadata": {
    "slideshow": {
     "slide_type": "slide"
    }
   },
   "outputs": [
    {
     "output_type": "error",
     "ename": "SyntaxError",
     "evalue": "invalid syntax (<ipython-input-2-f0b504393dc5>, line 3)",
     "traceback": [
      "\u001b[0;36m  File \u001b[0;32m\"<ipython-input-2-f0b504393dc5>\"\u001b[0;36m, line \u001b[0;32m3\u001b[0m\n\u001b[0;31m    Pandas actually has two data structures, Series and Dataframes. A Dataframe is a two dimensional data structure. It is comprised of rows and columns of data. A Series is the data structure for a single column of a dataframe. Certain pandas operations will return a Series as a standalone data structure.\u001b[0m\n\u001b[0m                  ^\u001b[0m\n\u001b[0;31mSyntaxError\u001b[0m\u001b[0;31m:\u001b[0m invalid syntax\n"
     ]
    }
   ],
   "source": [
    "# Series and Dataframes\n",
    "\n",
    "Pandas actually has two data structures, Series and Dataframes. A Dataframe is a two dimensional data structure. It is comprised of rows and columns of data. A Series is the data structure for a single column of a dataframe. Certain pandas operations will return a Series as a standalone data structure.\n",
    "\n",
    "Both data structures also have an 'index' which uniquely identifies each row. By default, Pandas will assign an integer id as the index, however you can override this and set a column of your choosing as the index (does not have to be an integer) as long as all values in that column are unique."
   ]
  },
  {
   "cell_type": "markdown",
   "metadata": {},
   "source": [
    "## Series\n",
    "\n",
    "Series can only ever have 1 column (plus an index)."
   ]
  },
  {
   "cell_type": "code",
   "execution_count": 3,
   "metadata": {
    "slideshow": {
     "slide_type": "slide"
    }
   },
   "outputs": [
    {
     "output_type": "execute_result",
     "data": {
      "text/plain": "0    0.381697\n1    0.626811\n2    0.241286\n3    0.764709\n4    0.479336\ndtype: float64"
     },
     "metadata": {},
     "execution_count": 3
    }
   ],
   "source": [
    "data = np.random.rand(5)\n",
    "pd.Series(data)"
   ]
  },
  {
   "cell_type": "code",
   "execution_count": 4,
   "metadata": {
    "slideshow": {
     "slide_type": "fragment"
    }
   },
   "outputs": [
    {
     "output_type": "execute_result",
     "data": {
      "text/plain": "Astronomy    0.381697\nGeology      0.626811\nEconomics    0.241286\nEnglish      0.764709\nHistory      0.479336\ndtype: float64"
     },
     "metadata": {},
     "execution_count": 4
    }
   ],
   "source": [
    "pd.Series(data, index = ['Astronomy', 'Geology', 'Economics', 'English', 'History'])"
   ]
  },
  {
   "cell_type": "markdown",
   "metadata": {
    "slideshow": {
     "slide_type": "slide"
    }
   },
   "source": [
    "## Dataframe"
   ]
  },
  {
   "cell_type": "code",
   "execution_count": 5,
   "metadata": {},
   "outputs": [
    {
     "output_type": "execute_result",
     "data": {
      "text/plain": "              Score\nAstronomy  0.381697\nGeology    0.626811\nEconomics  0.241286\nEnglish    0.764709\nHistory    0.479336",
      "text/html": "<div>\n<style scoped>\n    .dataframe tbody tr th:only-of-type {\n        vertical-align: middle;\n    }\n\n    .dataframe tbody tr th {\n        vertical-align: top;\n    }\n\n    .dataframe thead th {\n        text-align: right;\n    }\n</style>\n<table border=\"1\" class=\"dataframe\">\n  <thead>\n    <tr style=\"text-align: right;\">\n      <th></th>\n      <th>Score</th>\n    </tr>\n  </thead>\n  <tbody>\n    <tr>\n      <th>Astronomy</th>\n      <td>0.381697</td>\n    </tr>\n    <tr>\n      <th>Geology</th>\n      <td>0.626811</td>\n    </tr>\n    <tr>\n      <th>Economics</th>\n      <td>0.241286</td>\n    </tr>\n    <tr>\n      <th>English</th>\n      <td>0.764709</td>\n    </tr>\n    <tr>\n      <th>History</th>\n      <td>0.479336</td>\n    </tr>\n  </tbody>\n</table>\n</div>"
     },
     "metadata": {},
     "execution_count": 5
    }
   ],
   "source": [
    "pd.DataFrame(data, columns = ['Score'], index = ['Astronomy', 'Geology', 'Economics', 'English', 'History'])"
   ]
  },
  {
   "cell_type": "markdown",
   "metadata": {
    "slideshow": {
     "slide_type": "slide"
    }
   },
   "source": [
    "# How to Create a Dataframe\n",
    "\n",
    "There are numerous ways to create a Dataframe, including reading directly from a database."
   ]
  },
  {
   "cell_type": "markdown",
   "metadata": {
    "slideshow": {
     "slide_type": "slide"
    }
   },
   "source": [
    "## Create DataFrame from Numpy Array"
   ]
  },
  {
   "cell_type": "code",
   "execution_count": 6,
   "metadata": {},
   "outputs": [
    {
     "output_type": "execute_result",
     "data": {
      "text/plain": "array([[3.30000e-01, 4.87900e+03, 3.70000e+00, 8.80000e+01],\n       [4.87000e+00, 1.21040e+04, 8.90000e+00, 2.24700e+02],\n       [5.97000e+00, 1.27560e+04, 9.80000e+00, 3.65200e+02],\n       [6.42000e-01, 6.79200e+03, 3.70000e+00, 6.87000e+02],\n       [1.89800e+03, 1.42984e+05, 2.31000e+01, 4.33100e+03],\n       [5.68000e+02, 1.20536e+05, 9.00000e+00, 1.07470e+04],\n       [8.68000e+01, 5.11180e+04, 8.70000e+00, 3.05890e+04],\n       [1.02000e+02, 4.95280e+04, 1.10000e+01, 5.98000e+04]])"
     },
     "metadata": {},
     "execution_count": 6
    }
   ],
   "source": [
    "planets_data = np.array([[0.330, 4879, 3.7, 88.0],\n",
    "            [4.87, 12104, 8.9, 224.7],\n",
    "            [5.97, 12756, 9.8, 365.2 ],\n",
    "            [0.642, 6792, 3.7, 687.0],\n",
    "            [1898, 142984, 23.1, 4331],\n",
    "            [568, 120536, 9.0, 10747],\n",
    "            [86.8, 51118, 8.7, 30589],\n",
    "            [102, 49528, 11.0, 59800]])\n",
    "planets_data"
   ]
  },
  {
   "cell_type": "code",
   "execution_count": 7,
   "metadata": {},
   "outputs": [
    {
     "output_type": "execute_result",
     "data": {
      "text/plain": "(8, 4)"
     },
     "metadata": {},
     "execution_count": 7
    }
   ],
   "source": [
    "planets_data.shape"
   ]
  },
  {
   "cell_type": "code",
   "execution_count": 8,
   "metadata": {
    "slideshow": {
     "slide_type": "slide"
    }
   },
   "outputs": [
    {
     "output_type": "execute_result",
     "data": {
      "text/plain": "             mass  diameter  gravity   period\nMercury     0.330    4879.0      3.7     88.0\nVenus       4.870   12104.0      8.9    224.7\nEarth       5.970   12756.0      9.8    365.2\nMars        0.642    6792.0      3.7    687.0\nJupiter  1898.000  142984.0     23.1   4331.0\nSaturn    568.000  120536.0      9.0  10747.0\nUranus     86.800   51118.0      8.7  30589.0\nNeptune   102.000   49528.0     11.0  59800.0",
      "text/html": "<div>\n<style scoped>\n    .dataframe tbody tr th:only-of-type {\n        vertical-align: middle;\n    }\n\n    .dataframe tbody tr th {\n        vertical-align: top;\n    }\n\n    .dataframe thead th {\n        text-align: right;\n    }\n</style>\n<table border=\"1\" class=\"dataframe\">\n  <thead>\n    <tr style=\"text-align: right;\">\n      <th></th>\n      <th>mass</th>\n      <th>diameter</th>\n      <th>gravity</th>\n      <th>period</th>\n    </tr>\n  </thead>\n  <tbody>\n    <tr>\n      <th>Mercury</th>\n      <td>0.330</td>\n      <td>4879.0</td>\n      <td>3.7</td>\n      <td>88.0</td>\n    </tr>\n    <tr>\n      <th>Venus</th>\n      <td>4.870</td>\n      <td>12104.0</td>\n      <td>8.9</td>\n      <td>224.7</td>\n    </tr>\n    <tr>\n      <th>Earth</th>\n      <td>5.970</td>\n      <td>12756.0</td>\n      <td>9.8</td>\n      <td>365.2</td>\n    </tr>\n    <tr>\n      <th>Mars</th>\n      <td>0.642</td>\n      <td>6792.0</td>\n      <td>3.7</td>\n      <td>687.0</td>\n    </tr>\n    <tr>\n      <th>Jupiter</th>\n      <td>1898.000</td>\n      <td>142984.0</td>\n      <td>23.1</td>\n      <td>4331.0</td>\n    </tr>\n    <tr>\n      <th>Saturn</th>\n      <td>568.000</td>\n      <td>120536.0</td>\n      <td>9.0</td>\n      <td>10747.0</td>\n    </tr>\n    <tr>\n      <th>Uranus</th>\n      <td>86.800</td>\n      <td>51118.0</td>\n      <td>8.7</td>\n      <td>30589.0</td>\n    </tr>\n    <tr>\n      <th>Neptune</th>\n      <td>102.000</td>\n      <td>49528.0</td>\n      <td>11.0</td>\n      <td>59800.0</td>\n    </tr>\n  </tbody>\n</table>\n</div>"
     },
     "metadata": {},
     "execution_count": 8
    }
   ],
   "source": [
    "planets = pd.DataFrame(planets_data, \n",
    "                  columns=['mass', 'diameter', 'gravity', 'period'],\n",
    "                  index=['Mercury', 'Venus', 'Earth', 'Mars', 'Jupiter', 'Saturn','Uranus','Neptune'])\n",
    "planets"
   ]
  },
  {
   "cell_type": "markdown",
   "metadata": {
    "slideshow": {
     "slide_type": "slide"
    }
   },
   "source": [
    "## Create DataFrame from List of Tuples (or Lists)"
   ]
  },
  {
   "cell_type": "code",
   "execution_count": 9,
   "metadata": {},
   "outputs": [
    {
     "output_type": "error",
     "ename": "SyntaxError",
     "evalue": "illegal target for annotation (<ipython-input-9-7c029ece326c>, line 1)",
     "traceback": [
      "\u001b[0;36m  File \u001b[0;32m\"<ipython-input-9-7c029ece326c>\"\u001b[0;36m, line \u001b[0;32m1\u001b[0m\n\u001b[0;31m    array/list: [1, 3, 4]\u001b[0m\n\u001b[0m                         ^\u001b[0m\n\u001b[0;31mSyntaxError\u001b[0m\u001b[0;31m:\u001b[0m illegal target for annotation\n"
     ]
    }
   ],
   "source": [
    "array/list: [1, 3, 4]\n",
    "dictionary: {'a': 1, 'b': 3}\n",
    "tuple: (a, c, 1)"
   ]
  },
  {
   "cell_type": "code",
   "execution_count": 10,
   "metadata": {},
   "outputs": [
    {
     "output_type": "execute_result",
     "data": {
      "text/plain": "[('Ceres', 2.77),\n ('Pluto', 39.26),\n ('Haumea', 43.13),\n ('Makemake', 45.79),\n ('Eris', 68.01)]"
     },
     "metadata": {},
     "execution_count": 10
    }
   ],
   "source": [
    "names = ['Ceres', 'Pluto', 'Haumea', 'Makemake', 'Eris']\n",
    "distance = [2.77, 39.26, 43.13, 45.79, 68.01] #in AU\n",
    "dwarf_planets = list(zip(names, distance))\n",
    "dwarf_planets"
   ]
  },
  {
   "cell_type": "code",
   "execution_count": 11,
   "metadata": {},
   "outputs": [
    {
     "output_type": "execute_result",
     "data": {
      "text/plain": "<zip at 0x7f12326da280>"
     },
     "metadata": {},
     "execution_count": 11
    }
   ],
   "source": [
    "zip(names, distance)"
   ]
  },
  {
   "cell_type": "code",
   "execution_count": 12,
   "metadata": {
    "slideshow": {
     "slide_type": "slide"
    }
   },
   "outputs": [
    {
     "output_type": "execute_result",
     "data": {
      "text/plain": "       name  distance\n0     Ceres      2.77\n1     Pluto     39.26\n2    Haumea     43.13\n3  Makemake     45.79\n4      Eris     68.01",
      "text/html": "<div>\n<style scoped>\n    .dataframe tbody tr th:only-of-type {\n        vertical-align: middle;\n    }\n\n    .dataframe tbody tr th {\n        vertical-align: top;\n    }\n\n    .dataframe thead th {\n        text-align: right;\n    }\n</style>\n<table border=\"1\" class=\"dataframe\">\n  <thead>\n    <tr style=\"text-align: right;\">\n      <th></th>\n      <th>name</th>\n      <th>distance</th>\n    </tr>\n  </thead>\n  <tbody>\n    <tr>\n      <th>0</th>\n      <td>Ceres</td>\n      <td>2.77</td>\n    </tr>\n    <tr>\n      <th>1</th>\n      <td>Pluto</td>\n      <td>39.26</td>\n    </tr>\n    <tr>\n      <th>2</th>\n      <td>Haumea</td>\n      <td>43.13</td>\n    </tr>\n    <tr>\n      <th>3</th>\n      <td>Makemake</td>\n      <td>45.79</td>\n    </tr>\n    <tr>\n      <th>4</th>\n      <td>Eris</td>\n      <td>68.01</td>\n    </tr>\n  </tbody>\n</table>\n</div>"
     },
     "metadata": {},
     "execution_count": 12
    }
   ],
   "source": [
    "dp = pd.DataFrame(data=dwarf_planets, columns=['name', 'distance'])\n",
    "dp.set_index('name')\n",
    "dp"
   ]
  },
  {
   "cell_type": "markdown",
   "metadata": {
    "slideshow": {
     "slide_type": "slide"
    }
   },
   "source": [
    "## Creating Data Frame from dictionary"
   ]
  },
  {
   "cell_type": "code",
   "execution_count": 13,
   "metadata": {
    "slideshow": {
     "slide_type": "-"
    }
   },
   "outputs": [
    {
     "output_type": "execute_result",
     "data": {
      "text/plain": "          diameter   mass\nCallisto      4821  107.6\nGanymede      5262  148.2\nEuropa        3122   48.0\nIo            3643   89.3",
      "text/html": "<div>\n<style scoped>\n    .dataframe tbody tr th:only-of-type {\n        vertical-align: middle;\n    }\n\n    .dataframe tbody tr th {\n        vertical-align: top;\n    }\n\n    .dataframe thead th {\n        text-align: right;\n    }\n</style>\n<table border=\"1\" class=\"dataframe\">\n  <thead>\n    <tr style=\"text-align: right;\">\n      <th></th>\n      <th>diameter</th>\n      <th>mass</th>\n    </tr>\n  </thead>\n  <tbody>\n    <tr>\n      <th>Callisto</th>\n      <td>4821</td>\n      <td>107.6</td>\n    </tr>\n    <tr>\n      <th>Ganymede</th>\n      <td>5262</td>\n      <td>148.2</td>\n    </tr>\n    <tr>\n      <th>Europa</th>\n      <td>3122</td>\n      <td>48.0</td>\n    </tr>\n    <tr>\n      <th>Io</th>\n      <td>3643</td>\n      <td>89.3</td>\n    </tr>\n  </tbody>\n</table>\n</div>"
     },
     "metadata": {},
     "execution_count": 13
    }
   ],
   "source": [
    "moons = pd.DataFrame({'diameter':[4821, 5262, 3122, 3643],\n",
    "                  'mass':[107.6, 148.2, 48.0, 89.3]},\n",
    "                   index=['Callisto','Ganymede','Europa','Io'])\n",
    "moons"
   ]
  },
  {
   "cell_type": "markdown",
   "metadata": {
    "slideshow": {
     "slide_type": "slide"
    }
   },
   "source": [
    "## Read Data from a CSV"
   ]
  },
  {
   "cell_type": "code",
   "execution_count": 14,
   "metadata": {
    "slideshow": {
     "slide_type": "-"
    }
   },
   "outputs": [
    {
     "output_type": "execute_result",
     "data": {
      "text/plain": "                        Type  Order from Sun   Diameter          Mass\nName                                                                 \nSun                     Star               0  1392000.0  333000.00000\nMercury   Terrestrial planet               1     4878.0       0.05500\nVenus     Terrestrial planet               2    12104.0       0.81500\nEarth     Terrestrial planet               3    12756.0       1.00000\nMars      Terrestrial planet               4     6787.0       0.10700\nJupiter            Gas giant               6   142800.0     318.00000\nSaturn             Gas giant               7   120000.0      95.00000\nUranus             Gas giant               8    51118.0      15.00000\nNeptune            Gas giant               9    49528.0      17.00000\nCeres           Dwarf planet               5      974.6       0.00016\nPluto           Dwarf planet              10     2300.0       0.00200\nHaumea          Dwarf planet              11     1300.0       0.00070\nMakemake        Dwarf planet              12     1420.0       0.00067\nEris            Dwarf planet              13     2326.0       0.00280",
      "text/html": "<div>\n<style scoped>\n    .dataframe tbody tr th:only-of-type {\n        vertical-align: middle;\n    }\n\n    .dataframe tbody tr th {\n        vertical-align: top;\n    }\n\n    .dataframe thead th {\n        text-align: right;\n    }\n</style>\n<table border=\"1\" class=\"dataframe\">\n  <thead>\n    <tr style=\"text-align: right;\">\n      <th></th>\n      <th>Type</th>\n      <th>Order from Sun</th>\n      <th>Diameter</th>\n      <th>Mass</th>\n    </tr>\n    <tr>\n      <th>Name</th>\n      <th></th>\n      <th></th>\n      <th></th>\n      <th></th>\n    </tr>\n  </thead>\n  <tbody>\n    <tr>\n      <th>Sun</th>\n      <td>Star</td>\n      <td>0</td>\n      <td>1392000.0</td>\n      <td>333000.00000</td>\n    </tr>\n    <tr>\n      <th>Mercury</th>\n      <td>Terrestrial planet</td>\n      <td>1</td>\n      <td>4878.0</td>\n      <td>0.05500</td>\n    </tr>\n    <tr>\n      <th>Venus</th>\n      <td>Terrestrial planet</td>\n      <td>2</td>\n      <td>12104.0</td>\n      <td>0.81500</td>\n    </tr>\n    <tr>\n      <th>Earth</th>\n      <td>Terrestrial planet</td>\n      <td>3</td>\n      <td>12756.0</td>\n      <td>1.00000</td>\n    </tr>\n    <tr>\n      <th>Mars</th>\n      <td>Terrestrial planet</td>\n      <td>4</td>\n      <td>6787.0</td>\n      <td>0.10700</td>\n    </tr>\n    <tr>\n      <th>Jupiter</th>\n      <td>Gas giant</td>\n      <td>6</td>\n      <td>142800.0</td>\n      <td>318.00000</td>\n    </tr>\n    <tr>\n      <th>Saturn</th>\n      <td>Gas giant</td>\n      <td>7</td>\n      <td>120000.0</td>\n      <td>95.00000</td>\n    </tr>\n    <tr>\n      <th>Uranus</th>\n      <td>Gas giant</td>\n      <td>8</td>\n      <td>51118.0</td>\n      <td>15.00000</td>\n    </tr>\n    <tr>\n      <th>Neptune</th>\n      <td>Gas giant</td>\n      <td>9</td>\n      <td>49528.0</td>\n      <td>17.00000</td>\n    </tr>\n    <tr>\n      <th>Ceres</th>\n      <td>Dwarf planet</td>\n      <td>5</td>\n      <td>974.6</td>\n      <td>0.00016</td>\n    </tr>\n    <tr>\n      <th>Pluto</th>\n      <td>Dwarf planet</td>\n      <td>10</td>\n      <td>2300.0</td>\n      <td>0.00200</td>\n    </tr>\n    <tr>\n      <th>Haumea</th>\n      <td>Dwarf planet</td>\n      <td>11</td>\n      <td>1300.0</td>\n      <td>0.00070</td>\n    </tr>\n    <tr>\n      <th>Makemake</th>\n      <td>Dwarf planet</td>\n      <td>12</td>\n      <td>1420.0</td>\n      <td>0.00067</td>\n    </tr>\n    <tr>\n      <th>Eris</th>\n      <td>Dwarf planet</td>\n      <td>13</td>\n      <td>2326.0</td>\n      <td>0.00280</td>\n    </tr>\n  </tbody>\n</table>\n</div>"
     },
     "metadata": {},
     "execution_count": 14
    }
   ],
   "source": [
    "solar_system = pd.read_csv('solar_system_abbr.csv', index_col=0)\n",
    "solar_system"
   ]
  },
  {
   "cell_type": "markdown",
   "metadata": {
    "slideshow": {
     "slide_type": "slide"
    }
   },
   "source": [
    "## Get information about Data Frame"
   ]
  },
  {
   "cell_type": "code",
   "execution_count": 15,
   "metadata": {
    "slideshow": {
     "slide_type": "fragment"
    }
   },
   "outputs": [
    {
     "output_type": "execute_result",
     "data": {
      "text/plain": "(14, 4)"
     },
     "metadata": {},
     "execution_count": 15
    }
   ],
   "source": [
    "solar_system.shape"
   ]
  },
  {
   "cell_type": "code",
   "execution_count": 16,
   "metadata": {
    "slideshow": {
     "slide_type": "fragment"
    }
   },
   "outputs": [
    {
     "output_type": "execute_result",
     "data": {
      "text/plain": "Type               object\nOrder from Sun      int64\nDiameter          float64\nMass              float64\ndtype: object"
     },
     "metadata": {},
     "execution_count": 16
    }
   ],
   "source": [
    "solar_system.dtypes"
   ]
  },
  {
   "cell_type": "code",
   "execution_count": 17,
   "metadata": {
    "slideshow": {
     "slide_type": "fragment"
    }
   },
   "outputs": [
    {
     "output_type": "execute_result",
     "data": {
      "text/plain": "       Order from Sun      Diameter           Mass\ncount         14.0000  1.400000e+01      14.000000\nmean           6.5000  1.285923e+05   23817.641666\nstd            4.1833  3.665235e+05   88988.845412\nmin            0.0000  9.746000e+02       0.000160\n25%            3.2500  2.306500e+03       0.002200\n50%            6.5000  9.445500e+03       0.461000\n75%            9.7500  5.072050e+04      16.500000\nmax           13.0000  1.392000e+06  333000.000000",
      "text/html": "<div>\n<style scoped>\n    .dataframe tbody tr th:only-of-type {\n        vertical-align: middle;\n    }\n\n    .dataframe tbody tr th {\n        vertical-align: top;\n    }\n\n    .dataframe thead th {\n        text-align: right;\n    }\n</style>\n<table border=\"1\" class=\"dataframe\">\n  <thead>\n    <tr style=\"text-align: right;\">\n      <th></th>\n      <th>Order from Sun</th>\n      <th>Diameter</th>\n      <th>Mass</th>\n    </tr>\n  </thead>\n  <tbody>\n    <tr>\n      <th>count</th>\n      <td>14.0000</td>\n      <td>1.400000e+01</td>\n      <td>14.000000</td>\n    </tr>\n    <tr>\n      <th>mean</th>\n      <td>6.5000</td>\n      <td>1.285923e+05</td>\n      <td>23817.641666</td>\n    </tr>\n    <tr>\n      <th>std</th>\n      <td>4.1833</td>\n      <td>3.665235e+05</td>\n      <td>88988.845412</td>\n    </tr>\n    <tr>\n      <th>min</th>\n      <td>0.0000</td>\n      <td>9.746000e+02</td>\n      <td>0.000160</td>\n    </tr>\n    <tr>\n      <th>25%</th>\n      <td>3.2500</td>\n      <td>2.306500e+03</td>\n      <td>0.002200</td>\n    </tr>\n    <tr>\n      <th>50%</th>\n      <td>6.5000</td>\n      <td>9.445500e+03</td>\n      <td>0.461000</td>\n    </tr>\n    <tr>\n      <th>75%</th>\n      <td>9.7500</td>\n      <td>5.072050e+04</td>\n      <td>16.500000</td>\n    </tr>\n    <tr>\n      <th>max</th>\n      <td>13.0000</td>\n      <td>1.392000e+06</td>\n      <td>333000.000000</td>\n    </tr>\n  </tbody>\n</table>\n</div>"
     },
     "metadata": {},
     "execution_count": 17
    }
   ],
   "source": [
    "solar_system.describe()"
   ]
  },
  {
   "cell_type": "code",
   "execution_count": 18,
   "metadata": {
    "scrolled": true
   },
   "outputs": [
    {
     "output_type": "execute_result",
     "data": {
      "text/plain": "Dwarf planet          5\nGas giant             4\nTerrestrial planet    4\nStar                  1\nName: Type, dtype: int64"
     },
     "metadata": {},
     "execution_count": 18
    }
   ],
   "source": [
    "solar_system['Type'].value_counts()"
   ]
  },
  {
   "cell_type": "markdown",
   "metadata": {
    "slideshow": {
     "slide_type": "slide"
    }
   },
   "source": [
    "## Accessing data in Dataframes"
   ]
  },
  {
   "cell_type": "markdown",
   "metadata": {
    "slideshow": {
     "slide_type": "-"
    }
   },
   "source": [
    "There are multiple ways to access data in dataframes. Each method has its own strengths for different use cases."
   ]
  },
  {
   "cell_type": "markdown",
   "metadata": {
    "slideshow": {
     "slide_type": "slide"
    }
   },
   "source": [
    "## `.iloc[x,y]`\n",
    "\n",
    "Use `iloc` to access data based on its location in the dataframe. This is the most similar method to access data in a list or numpy array."
   ]
  },
  {
   "cell_type": "code",
   "execution_count": 19,
   "metadata": {
    "slideshow": {
     "slide_type": "fragment"
    }
   },
   "outputs": [
    {
     "output_type": "execute_result",
     "data": {
      "text/plain": "9.0"
     },
     "metadata": {},
     "execution_count": 19
    }
   ],
   "source": [
    "# Get element 5,2\n",
    "planets.iloc[5,2]"
   ]
  },
  {
   "cell_type": "code",
   "execution_count": 20,
   "metadata": {
    "slideshow": {
     "slide_type": "fragment"
    }
   },
   "outputs": [
    {
     "output_type": "execute_result",
     "data": {
      "text/plain": "Mercury       0.330\nVenus         4.870\nEarth         5.970\nMars          0.642\nJupiter    1898.000\nSaturn      568.000\nUranus       86.800\nNeptune     102.000\nName: mass, dtype: float64"
     },
     "metadata": {},
     "execution_count": 20
    }
   ],
   "source": [
    "# Get column 0\n",
    "planets.iloc[:,0]"
   ]
  },
  {
   "cell_type": "code",
   "execution_count": 21,
   "metadata": {
    "slideshow": {
     "slide_type": "fragment"
    }
   },
   "outputs": [
    {
     "output_type": "execute_result",
     "data": {
      "text/plain": "             mass  diameter  gravity\nMercury     0.330    4879.0      3.7\nVenus       4.870   12104.0      8.9\nEarth       5.970   12756.0      9.8\nMars        0.642    6792.0      3.7\nJupiter  1898.000  142984.0     23.1\nSaturn    568.000  120536.0      9.0\nUranus     86.800   51118.0      8.7\nNeptune   102.000   49528.0     11.0",
      "text/html": "<div>\n<style scoped>\n    .dataframe tbody tr th:only-of-type {\n        vertical-align: middle;\n    }\n\n    .dataframe tbody tr th {\n        vertical-align: top;\n    }\n\n    .dataframe thead th {\n        text-align: right;\n    }\n</style>\n<table border=\"1\" class=\"dataframe\">\n  <thead>\n    <tr style=\"text-align: right;\">\n      <th></th>\n      <th>mass</th>\n      <th>diameter</th>\n      <th>gravity</th>\n    </tr>\n  </thead>\n  <tbody>\n    <tr>\n      <th>Mercury</th>\n      <td>0.330</td>\n      <td>4879.0</td>\n      <td>3.7</td>\n    </tr>\n    <tr>\n      <th>Venus</th>\n      <td>4.870</td>\n      <td>12104.0</td>\n      <td>8.9</td>\n    </tr>\n    <tr>\n      <th>Earth</th>\n      <td>5.970</td>\n      <td>12756.0</td>\n      <td>9.8</td>\n    </tr>\n    <tr>\n      <th>Mars</th>\n      <td>0.642</td>\n      <td>6792.0</td>\n      <td>3.7</td>\n    </tr>\n    <tr>\n      <th>Jupiter</th>\n      <td>1898.000</td>\n      <td>142984.0</td>\n      <td>23.1</td>\n    </tr>\n    <tr>\n      <th>Saturn</th>\n      <td>568.000</td>\n      <td>120536.0</td>\n      <td>9.0</td>\n    </tr>\n    <tr>\n      <th>Uranus</th>\n      <td>86.800</td>\n      <td>51118.0</td>\n      <td>8.7</td>\n    </tr>\n    <tr>\n      <th>Neptune</th>\n      <td>102.000</td>\n      <td>49528.0</td>\n      <td>11.0</td>\n    </tr>\n  </tbody>\n</table>\n</div>"
     },
     "metadata": {},
     "execution_count": 21
    }
   ],
   "source": [
    "# Get columns 0 thru 2\n",
    "planets.iloc[:,0:3]"
   ]
  },
  {
   "cell_type": "code",
   "execution_count": 22,
   "metadata": {
    "slideshow": {
     "slide_type": "slide"
    }
   },
   "outputs": [
    {
     "output_type": "execute_result",
     "data": {
      "text/plain": "mass          1898.0\ndiameter    142984.0\ngravity         23.1\nperiod        4331.0\nName: Jupiter, dtype: float64"
     },
     "metadata": {},
     "execution_count": 22
    }
   ],
   "source": [
    "# Get row 4\n",
    "planets.iloc[4,:]"
   ]
  },
  {
   "cell_type": "code",
   "execution_count": 23,
   "metadata": {
    "slideshow": {
     "slide_type": "fragment"
    }
   },
   "outputs": [
    {
     "output_type": "execute_result",
     "data": {
      "text/plain": "             mass  diameter  gravity   period\nEarth       5.970   12756.0      9.8    365.2\nMars        0.642    6792.0      3.7    687.0\nJupiter  1898.000  142984.0     23.1   4331.0\nSaturn    568.000  120536.0      9.0  10747.0",
      "text/html": "<div>\n<style scoped>\n    .dataframe tbody tr th:only-of-type {\n        vertical-align: middle;\n    }\n\n    .dataframe tbody tr th {\n        vertical-align: top;\n    }\n\n    .dataframe thead th {\n        text-align: right;\n    }\n</style>\n<table border=\"1\" class=\"dataframe\">\n  <thead>\n    <tr style=\"text-align: right;\">\n      <th></th>\n      <th>mass</th>\n      <th>diameter</th>\n      <th>gravity</th>\n      <th>period</th>\n    </tr>\n  </thead>\n  <tbody>\n    <tr>\n      <th>Earth</th>\n      <td>5.970</td>\n      <td>12756.0</td>\n      <td>9.8</td>\n      <td>365.2</td>\n    </tr>\n    <tr>\n      <th>Mars</th>\n      <td>0.642</td>\n      <td>6792.0</td>\n      <td>3.7</td>\n      <td>687.0</td>\n    </tr>\n    <tr>\n      <th>Jupiter</th>\n      <td>1898.000</td>\n      <td>142984.0</td>\n      <td>23.1</td>\n      <td>4331.0</td>\n    </tr>\n    <tr>\n      <th>Saturn</th>\n      <td>568.000</td>\n      <td>120536.0</td>\n      <td>9.0</td>\n      <td>10747.0</td>\n    </tr>\n  </tbody>\n</table>\n</div>"
     },
     "metadata": {},
     "execution_count": 23
    }
   ],
   "source": [
    "# Get rows 2 thru 6\n",
    "planets.iloc[2:6,:]"
   ]
  },
  {
   "cell_type": "code",
   "execution_count": 24,
   "metadata": {
    "slideshow": {
     "slide_type": "fragment"
    }
   },
   "outputs": [
    {
     "output_type": "execute_result",
     "data": {
      "text/plain": "         mass  diameter  gravity  period\nMercury  0.33    4879.0      3.7    88.0\nEarth    5.97   12756.0      9.8   365.2",
      "text/html": "<div>\n<style scoped>\n    .dataframe tbody tr th:only-of-type {\n        vertical-align: middle;\n    }\n\n    .dataframe tbody tr th {\n        vertical-align: top;\n    }\n\n    .dataframe thead th {\n        text-align: right;\n    }\n</style>\n<table border=\"1\" class=\"dataframe\">\n  <thead>\n    <tr style=\"text-align: right;\">\n      <th></th>\n      <th>mass</th>\n      <th>diameter</th>\n      <th>gravity</th>\n      <th>period</th>\n    </tr>\n  </thead>\n  <tbody>\n    <tr>\n      <th>Mercury</th>\n      <td>0.33</td>\n      <td>4879.0</td>\n      <td>3.7</td>\n      <td>88.0</td>\n    </tr>\n    <tr>\n      <th>Earth</th>\n      <td>5.97</td>\n      <td>12756.0</td>\n      <td>9.8</td>\n      <td>365.2</td>\n    </tr>\n  </tbody>\n</table>\n</div>"
     },
     "metadata": {},
     "execution_count": 24
    }
   ],
   "source": [
    "# Get rows 0 and 2\n",
    "planets.iloc[[0,2],:]"
   ]
  },
  {
   "cell_type": "markdown",
   "metadata": {
    "slideshow": {
     "slide_type": "slide"
    }
   },
   "source": [
    "## .loc[x,y]\n",
    "\n",
    "Use `loc` to access data based on the labels in the dataframe. This is often a more natural way to reference certain types of tabular data, such as when both the rows and columns are have meaningful labels."
   ]
  },
  {
   "cell_type": "code",
   "execution_count": 25,
   "metadata": {},
   "outputs": [
    {
     "output_type": "execute_result",
     "data": {
      "text/plain": "             mass  diameter  gravity   period\nMercury     0.330    4879.0      3.7     88.0\nVenus       4.870   12104.0      8.9    224.7\nEarth       5.970   12756.0      9.8    365.2\nMars        0.642    6792.0      3.7    687.0\nJupiter  1898.000  142984.0     23.1   4331.0\nSaturn    568.000  120536.0      9.0  10747.0\nUranus     86.800   51118.0      8.7  30589.0\nNeptune   102.000   49528.0     11.0  59800.0",
      "text/html": "<div>\n<style scoped>\n    .dataframe tbody tr th:only-of-type {\n        vertical-align: middle;\n    }\n\n    .dataframe tbody tr th {\n        vertical-align: top;\n    }\n\n    .dataframe thead th {\n        text-align: right;\n    }\n</style>\n<table border=\"1\" class=\"dataframe\">\n  <thead>\n    <tr style=\"text-align: right;\">\n      <th></th>\n      <th>mass</th>\n      <th>diameter</th>\n      <th>gravity</th>\n      <th>period</th>\n    </tr>\n  </thead>\n  <tbody>\n    <tr>\n      <th>Mercury</th>\n      <td>0.330</td>\n      <td>4879.0</td>\n      <td>3.7</td>\n      <td>88.0</td>\n    </tr>\n    <tr>\n      <th>Venus</th>\n      <td>4.870</td>\n      <td>12104.0</td>\n      <td>8.9</td>\n      <td>224.7</td>\n    </tr>\n    <tr>\n      <th>Earth</th>\n      <td>5.970</td>\n      <td>12756.0</td>\n      <td>9.8</td>\n      <td>365.2</td>\n    </tr>\n    <tr>\n      <th>Mars</th>\n      <td>0.642</td>\n      <td>6792.0</td>\n      <td>3.7</td>\n      <td>687.0</td>\n    </tr>\n    <tr>\n      <th>Jupiter</th>\n      <td>1898.000</td>\n      <td>142984.0</td>\n      <td>23.1</td>\n      <td>4331.0</td>\n    </tr>\n    <tr>\n      <th>Saturn</th>\n      <td>568.000</td>\n      <td>120536.0</td>\n      <td>9.0</td>\n      <td>10747.0</td>\n    </tr>\n    <tr>\n      <th>Uranus</th>\n      <td>86.800</td>\n      <td>51118.0</td>\n      <td>8.7</td>\n      <td>30589.0</td>\n    </tr>\n    <tr>\n      <th>Neptune</th>\n      <td>102.000</td>\n      <td>49528.0</td>\n      <td>11.0</td>\n      <td>59800.0</td>\n    </tr>\n  </tbody>\n</table>\n</div>"
     },
     "metadata": {},
     "execution_count": 25
    }
   ],
   "source": [
    "planets"
   ]
  },
  {
   "cell_type": "code",
   "execution_count": 26,
   "metadata": {
    "slideshow": {
     "slide_type": "fragment"
    }
   },
   "outputs": [
    {
     "output_type": "execute_result",
     "data": {
      "text/plain": "568.0"
     },
     "metadata": {},
     "execution_count": 26
    }
   ],
   "source": [
    "planets.loc['Saturn','mass']"
   ]
  },
  {
   "cell_type": "code",
   "execution_count": 27,
   "metadata": {
    "slideshow": {
     "slide_type": "fragment"
    }
   },
   "outputs": [
    {
     "output_type": "execute_result",
     "data": {
      "text/plain": "             mass  diameter  gravity\nMercury     0.330    4879.0      3.7\nVenus       4.870   12104.0      8.9\nEarth       5.970   12756.0      9.8\nMars        0.642    6792.0      3.7\nJupiter  1898.000  142984.0     23.1\nSaturn    568.000  120536.0      9.0\nUranus     86.800   51118.0      8.7\nNeptune   102.000   49528.0     11.0",
      "text/html": "<div>\n<style scoped>\n    .dataframe tbody tr th:only-of-type {\n        vertical-align: middle;\n    }\n\n    .dataframe tbody tr th {\n        vertical-align: top;\n    }\n\n    .dataframe thead th {\n        text-align: right;\n    }\n</style>\n<table border=\"1\" class=\"dataframe\">\n  <thead>\n    <tr style=\"text-align: right;\">\n      <th></th>\n      <th>mass</th>\n      <th>diameter</th>\n      <th>gravity</th>\n    </tr>\n  </thead>\n  <tbody>\n    <tr>\n      <th>Mercury</th>\n      <td>0.330</td>\n      <td>4879.0</td>\n      <td>3.7</td>\n    </tr>\n    <tr>\n      <th>Venus</th>\n      <td>4.870</td>\n      <td>12104.0</td>\n      <td>8.9</td>\n    </tr>\n    <tr>\n      <th>Earth</th>\n      <td>5.970</td>\n      <td>12756.0</td>\n      <td>9.8</td>\n    </tr>\n    <tr>\n      <th>Mars</th>\n      <td>0.642</td>\n      <td>6792.0</td>\n      <td>3.7</td>\n    </tr>\n    <tr>\n      <th>Jupiter</th>\n      <td>1898.000</td>\n      <td>142984.0</td>\n      <td>23.1</td>\n    </tr>\n    <tr>\n      <th>Saturn</th>\n      <td>568.000</td>\n      <td>120536.0</td>\n      <td>9.0</td>\n    </tr>\n    <tr>\n      <th>Uranus</th>\n      <td>86.800</td>\n      <td>51118.0</td>\n      <td>8.7</td>\n    </tr>\n    <tr>\n      <th>Neptune</th>\n      <td>102.000</td>\n      <td>49528.0</td>\n      <td>11.0</td>\n    </tr>\n  </tbody>\n</table>\n</div>"
     },
     "metadata": {},
     "execution_count": 27
    }
   ],
   "source": [
    "planets.loc[:,'mass':'gravity']"
   ]
  },
  {
   "cell_type": "code",
   "execution_count": 28,
   "metadata": {
    "slideshow": {
     "slide_type": "fragment"
    }
   },
   "outputs": [
    {
     "output_type": "execute_result",
     "data": {
      "text/plain": "Mercury       0.330\nVenus         4.870\nEarth         5.970\nMars          0.642\nJupiter    1898.000\nSaturn      568.000\nUranus       86.800\nNeptune     102.000\nName: mass, dtype: float64"
     },
     "metadata": {},
     "execution_count": 28
    }
   ],
   "source": [
    "planets['mass']"
   ]
  },
  {
   "cell_type": "code",
   "execution_count": 29,
   "metadata": {},
   "outputs": [
    {
     "output_type": "execute_result",
     "data": {
      "text/plain": "Mercury       0.330\nVenus         4.870\nEarth         5.970\nMars          0.642\nJupiter    1898.000\nSaturn      568.000\nUranus       86.800\nNeptune     102.000\nName: mass, dtype: float64"
     },
     "metadata": {},
     "execution_count": 29
    }
   ],
   "source": [
    "planets.mass"
   ]
  },
  {
   "cell_type": "code",
   "execution_count": 30,
   "metadata": {
    "slideshow": {
     "slide_type": "slide"
    }
   },
   "outputs": [
    {
     "output_type": "execute_result",
     "data": {
      "text/plain": "             mass   period\nMercury     0.330     88.0\nVenus       4.870    224.7\nEarth       5.970    365.2\nMars        0.642    687.0\nJupiter  1898.000   4331.0\nSaturn    568.000  10747.0\nUranus     86.800  30589.0\nNeptune   102.000  59800.0",
      "text/html": "<div>\n<style scoped>\n    .dataframe tbody tr th:only-of-type {\n        vertical-align: middle;\n    }\n\n    .dataframe tbody tr th {\n        vertical-align: top;\n    }\n\n    .dataframe thead th {\n        text-align: right;\n    }\n</style>\n<table border=\"1\" class=\"dataframe\">\n  <thead>\n    <tr style=\"text-align: right;\">\n      <th></th>\n      <th>mass</th>\n      <th>period</th>\n    </tr>\n  </thead>\n  <tbody>\n    <tr>\n      <th>Mercury</th>\n      <td>0.330</td>\n      <td>88.0</td>\n    </tr>\n    <tr>\n      <th>Venus</th>\n      <td>4.870</td>\n      <td>224.7</td>\n    </tr>\n    <tr>\n      <th>Earth</th>\n      <td>5.970</td>\n      <td>365.2</td>\n    </tr>\n    <tr>\n      <th>Mars</th>\n      <td>0.642</td>\n      <td>687.0</td>\n    </tr>\n    <tr>\n      <th>Jupiter</th>\n      <td>1898.000</td>\n      <td>4331.0</td>\n    </tr>\n    <tr>\n      <th>Saturn</th>\n      <td>568.000</td>\n      <td>10747.0</td>\n    </tr>\n    <tr>\n      <th>Uranus</th>\n      <td>86.800</td>\n      <td>30589.0</td>\n    </tr>\n    <tr>\n      <th>Neptune</th>\n      <td>102.000</td>\n      <td>59800.0</td>\n    </tr>\n  </tbody>\n</table>\n</div>"
     },
     "metadata": {},
     "execution_count": 30
    }
   ],
   "source": [
    "planets.loc[:,['mass','period']]"
   ]
  },
  {
   "cell_type": "code",
   "execution_count": 31,
   "metadata": {
    "slideshow": {
     "slide_type": "fragment"
    }
   },
   "outputs": [
    {
     "output_type": "execute_result",
     "data": {
      "text/plain": "mass          1898.0\ndiameter    142984.0\ngravity         23.1\nperiod        4331.0\nName: Jupiter, dtype: float64"
     },
     "metadata": {},
     "execution_count": 31
    }
   ],
   "source": [
    "planets.loc['Jupiter',:]"
   ]
  },
  {
   "cell_type": "code",
   "execution_count": 32,
   "metadata": {
    "slideshow": {
     "slide_type": "fragment"
    }
   },
   "outputs": [
    {
     "output_type": "execute_result",
     "data": {
      "text/plain": "             mass  diameter  gravity   period\nEarth       5.970   12756.0      9.8    365.2\nMars        0.642    6792.0      3.7    687.0\nJupiter  1898.000  142984.0     23.1   4331.0\nSaturn    568.000  120536.0      9.0  10747.0",
      "text/html": "<div>\n<style scoped>\n    .dataframe tbody tr th:only-of-type {\n        vertical-align: middle;\n    }\n\n    .dataframe tbody tr th {\n        vertical-align: top;\n    }\n\n    .dataframe thead th {\n        text-align: right;\n    }\n</style>\n<table border=\"1\" class=\"dataframe\">\n  <thead>\n    <tr style=\"text-align: right;\">\n      <th></th>\n      <th>mass</th>\n      <th>diameter</th>\n      <th>gravity</th>\n      <th>period</th>\n    </tr>\n  </thead>\n  <tbody>\n    <tr>\n      <th>Earth</th>\n      <td>5.970</td>\n      <td>12756.0</td>\n      <td>9.8</td>\n      <td>365.2</td>\n    </tr>\n    <tr>\n      <th>Mars</th>\n      <td>0.642</td>\n      <td>6792.0</td>\n      <td>3.7</td>\n      <td>687.0</td>\n    </tr>\n    <tr>\n      <th>Jupiter</th>\n      <td>1898.000</td>\n      <td>142984.0</td>\n      <td>23.1</td>\n      <td>4331.0</td>\n    </tr>\n    <tr>\n      <th>Saturn</th>\n      <td>568.000</td>\n      <td>120536.0</td>\n      <td>9.0</td>\n      <td>10747.0</td>\n    </tr>\n  </tbody>\n</table>\n</div>"
     },
     "metadata": {},
     "execution_count": 32
    }
   ],
   "source": [
    "planets.loc['Earth':'Saturn',:]"
   ]
  },
  {
   "cell_type": "code",
   "execution_count": 33,
   "metadata": {
    "slideshow": {
     "slide_type": "fragment"
    }
   },
   "outputs": [
    {
     "output_type": "execute_result",
     "data": {
      "text/plain": "         mass  diameter  gravity  period\nMercury  0.33    4879.0      3.7    88.0\nEarth    5.97   12756.0      9.8   365.2",
      "text/html": "<div>\n<style scoped>\n    .dataframe tbody tr th:only-of-type {\n        vertical-align: middle;\n    }\n\n    .dataframe tbody tr th {\n        vertical-align: top;\n    }\n\n    .dataframe thead th {\n        text-align: right;\n    }\n</style>\n<table border=\"1\" class=\"dataframe\">\n  <thead>\n    <tr style=\"text-align: right;\">\n      <th></th>\n      <th>mass</th>\n      <th>diameter</th>\n      <th>gravity</th>\n      <th>period</th>\n    </tr>\n  </thead>\n  <tbody>\n    <tr>\n      <th>Mercury</th>\n      <td>0.33</td>\n      <td>4879.0</td>\n      <td>3.7</td>\n      <td>88.0</td>\n    </tr>\n    <tr>\n      <th>Earth</th>\n      <td>5.97</td>\n      <td>12756.0</td>\n      <td>9.8</td>\n      <td>365.2</td>\n    </tr>\n  </tbody>\n</table>\n</div>"
     },
     "metadata": {},
     "execution_count": 33
    }
   ],
   "source": [
    "planets.loc[['Mercury','Earth'],:]"
   ]
  },
  {
   "cell_type": "markdown",
   "metadata": {
    "slideshow": {
     "slide_type": "slide"
    }
   },
   "source": [
    "## Modifying data in Data Frames\n",
    "\n",
    "Individual elements or slices in a dataframe can be modified using the above access methods."
   ]
  },
  {
   "cell_type": "code",
   "execution_count": 34,
   "metadata": {
    "slideshow": {
     "slide_type": "fragment"
    }
   },
   "outputs": [
    {
     "output_type": "execute_result",
     "data": {
      "text/plain": "0.18727755124149426"
     },
     "metadata": {},
     "execution_count": 34
    }
   ],
   "source": [
    "m = np.random.rand(5,3)\n",
    "df = pd.DataFrame(m, \n",
    "                  columns=['a', 'b', 'c'],\n",
    "                  index=['A','B','C','D','E'])\n",
    "\n",
    "# Set element 0, 0\n",
    "df.iloc[2,1]"
   ]
  },
  {
   "cell_type": "code",
   "execution_count": 35,
   "metadata": {},
   "outputs": [
    {
     "output_type": "execute_result",
     "data": {
      "text/plain": "100.0"
     },
     "metadata": {},
     "execution_count": 35
    }
   ],
   "source": [
    "df.iloc[2,1] = 100.0\n",
    "df.iloc[2,1]"
   ]
  },
  {
   "cell_type": "code",
   "execution_count": 36,
   "metadata": {
    "slideshow": {
     "slide_type": "slide"
    }
   },
   "outputs": [
    {
     "output_type": "execute_result",
     "data": {
      "text/plain": "200.0"
     },
     "metadata": {},
     "execution_count": 36
    }
   ],
   "source": [
    "df.loc['A','a'] = 200.0\n",
    "df.iloc[0,0]"
   ]
  },
  {
   "cell_type": "code",
   "execution_count": 37,
   "metadata": {
    "slideshow": {
     "slide_type": "fragment"
    }
   },
   "outputs": [
    {
     "output_type": "execute_result",
     "data": {
      "text/plain": "     a           b         c\nA  0.0    0.372278  0.960829\nB  1.0    0.520774  0.865104\nC  2.0  100.000000  0.261343\nD  3.0    0.800490  0.936182\nE  4.0    0.334337  0.158663",
      "text/html": "<div>\n<style scoped>\n    .dataframe tbody tr th:only-of-type {\n        vertical-align: middle;\n    }\n\n    .dataframe tbody tr th {\n        vertical-align: top;\n    }\n\n    .dataframe thead th {\n        text-align: right;\n    }\n</style>\n<table border=\"1\" class=\"dataframe\">\n  <thead>\n    <tr style=\"text-align: right;\">\n      <th></th>\n      <th>a</th>\n      <th>b</th>\n      <th>c</th>\n    </tr>\n  </thead>\n  <tbody>\n    <tr>\n      <th>A</th>\n      <td>0.0</td>\n      <td>0.372278</td>\n      <td>0.960829</td>\n    </tr>\n    <tr>\n      <th>B</th>\n      <td>1.0</td>\n      <td>0.520774</td>\n      <td>0.865104</td>\n    </tr>\n    <tr>\n      <th>C</th>\n      <td>2.0</td>\n      <td>100.000000</td>\n      <td>0.261343</td>\n    </tr>\n    <tr>\n      <th>D</th>\n      <td>3.0</td>\n      <td>0.800490</td>\n      <td>0.936182</td>\n    </tr>\n    <tr>\n      <th>E</th>\n      <td>4.0</td>\n      <td>0.334337</td>\n      <td>0.158663</td>\n    </tr>\n  </tbody>\n</table>\n</div>"
     },
     "metadata": {},
     "execution_count": 37
    }
   ],
   "source": [
    "# Set column 0 using 1D-array\n",
    "df.iloc[:,0] = np.arange(5, dtype=np.float64)\n",
    "df"
   ]
  },
  {
   "cell_type": "code",
   "execution_count": 38,
   "metadata": {
    "slideshow": {
     "slide_type": "slide"
    }
   },
   "outputs": [
    {
     "output_type": "execute_result",
     "data": {
      "text/plain": "     a      b         c\nA  0.0  200.0  0.960829\nB  1.0  200.0  0.865104\nC  2.0  200.0  0.261343\nD  3.0  200.0  0.936182\nE  4.0  200.0  0.158663",
      "text/html": "<div>\n<style scoped>\n    .dataframe tbody tr th:only-of-type {\n        vertical-align: middle;\n    }\n\n    .dataframe tbody tr th {\n        vertical-align: top;\n    }\n\n    .dataframe thead th {\n        text-align: right;\n    }\n</style>\n<table border=\"1\" class=\"dataframe\">\n  <thead>\n    <tr style=\"text-align: right;\">\n      <th></th>\n      <th>a</th>\n      <th>b</th>\n      <th>c</th>\n    </tr>\n  </thead>\n  <tbody>\n    <tr>\n      <th>A</th>\n      <td>0.0</td>\n      <td>200.0</td>\n      <td>0.960829</td>\n    </tr>\n    <tr>\n      <th>B</th>\n      <td>1.0</td>\n      <td>200.0</td>\n      <td>0.865104</td>\n    </tr>\n    <tr>\n      <th>C</th>\n      <td>2.0</td>\n      <td>200.0</td>\n      <td>0.261343</td>\n    </tr>\n    <tr>\n      <th>D</th>\n      <td>3.0</td>\n      <td>200.0</td>\n      <td>0.936182</td>\n    </tr>\n    <tr>\n      <th>E</th>\n      <td>4.0</td>\n      <td>200.0</td>\n      <td>0.158663</td>\n    </tr>\n  </tbody>\n</table>\n</div>"
     },
     "metadata": {},
     "execution_count": 38
    }
   ],
   "source": [
    "# Set column 1 using scalar\n",
    "df.iloc[:,1] = 200.0\n",
    "df"
   ]
  },
  {
   "cell_type": "markdown",
   "metadata": {
    "slideshow": {
     "slide_type": "slide"
    }
   },
   "source": [
    "# Math with Dataframes\n",
    "\n",
    "You can do math using whole. columns and rows of data frames, similar to numpy."
   ]
  },
  {
   "cell_type": "code",
   "execution_count": 39,
   "metadata": {},
   "outputs": [
    {
     "output_type": "execute_result",
     "data": {
      "text/plain": "Callisto    5.866918e+10\nGanymede    7.628711e+10\nEuropa      1.593299e+10\nIo          2.531490e+10\nName: diameter, dtype: float64"
     },
     "metadata": {},
     "execution_count": 39
    }
   ],
   "source": [
    "import math\n",
    "(4/3)*math.pi*(moons['diameter']/2)**3"
   ]
  },
  {
   "cell_type": "markdown",
   "metadata": {
    "slideshow": {
     "slide_type": "slide"
    }
   },
   "source": [
    "You can even add a new column to the dataframe with the derived quantity"
   ]
  },
  {
   "cell_type": "code",
   "execution_count": 40,
   "metadata": {},
   "outputs": [
    {
     "output_type": "execute_result",
     "data": {
      "text/plain": "          diameter   mass        volume\nCallisto      4821  107.6  5.866918e+10\nGanymede      5262  148.2  7.628711e+10\nEuropa        3122   48.0  1.593299e+10\nIo            3643   89.3  2.531490e+10",
      "text/html": "<div>\n<style scoped>\n    .dataframe tbody tr th:only-of-type {\n        vertical-align: middle;\n    }\n\n    .dataframe tbody tr th {\n        vertical-align: top;\n    }\n\n    .dataframe thead th {\n        text-align: right;\n    }\n</style>\n<table border=\"1\" class=\"dataframe\">\n  <thead>\n    <tr style=\"text-align: right;\">\n      <th></th>\n      <th>diameter</th>\n      <th>mass</th>\n      <th>volume</th>\n    </tr>\n  </thead>\n  <tbody>\n    <tr>\n      <th>Callisto</th>\n      <td>4821</td>\n      <td>107.6</td>\n      <td>5.866918e+10</td>\n    </tr>\n    <tr>\n      <th>Ganymede</th>\n      <td>5262</td>\n      <td>148.2</td>\n      <td>7.628711e+10</td>\n    </tr>\n    <tr>\n      <th>Europa</th>\n      <td>3122</td>\n      <td>48.0</td>\n      <td>1.593299e+10</td>\n    </tr>\n    <tr>\n      <th>Io</th>\n      <td>3643</td>\n      <td>89.3</td>\n      <td>2.531490e+10</td>\n    </tr>\n  </tbody>\n</table>\n</div>"
     },
     "metadata": {},
     "execution_count": 40
    }
   ],
   "source": [
    "moons['volume'] = (4/3)*math.pi*(moons['diameter']/2)**3\n",
    "moons"
   ]
  },
  {
   "cell_type": "markdown",
   "metadata": {
    "slideshow": {
     "slide_type": "slide"
    }
   },
   "source": [
    "You can do also math using two or more columns to derive a new column."
   ]
  },
  {
   "cell_type": "code",
   "execution_count": 41,
   "metadata": {},
   "outputs": [
    {
     "output_type": "execute_result",
     "data": {
      "text/plain": "          diameter   mass        volume       density\nCallisto      4821  107.6  5.866918e+10  1.834012e-09\nGanymede      5262  148.2  7.628711e+10  1.942661e-09\nEuropa        3122   48.0  1.593299e+10  3.012617e-09\nIo            3643   89.3  2.531490e+10  3.527567e-09",
      "text/html": "<div>\n<style scoped>\n    .dataframe tbody tr th:only-of-type {\n        vertical-align: middle;\n    }\n\n    .dataframe tbody tr th {\n        vertical-align: top;\n    }\n\n    .dataframe thead th {\n        text-align: right;\n    }\n</style>\n<table border=\"1\" class=\"dataframe\">\n  <thead>\n    <tr style=\"text-align: right;\">\n      <th></th>\n      <th>diameter</th>\n      <th>mass</th>\n      <th>volume</th>\n      <th>density</th>\n    </tr>\n  </thead>\n  <tbody>\n    <tr>\n      <th>Callisto</th>\n      <td>4821</td>\n      <td>107.6</td>\n      <td>5.866918e+10</td>\n      <td>1.834012e-09</td>\n    </tr>\n    <tr>\n      <th>Ganymede</th>\n      <td>5262</td>\n      <td>148.2</td>\n      <td>7.628711e+10</td>\n      <td>1.942661e-09</td>\n    </tr>\n    <tr>\n      <th>Europa</th>\n      <td>3122</td>\n      <td>48.0</td>\n      <td>1.593299e+10</td>\n      <td>3.012617e-09</td>\n    </tr>\n    <tr>\n      <th>Io</th>\n      <td>3643</td>\n      <td>89.3</td>\n      <td>2.531490e+10</td>\n      <td>3.527567e-09</td>\n    </tr>\n  </tbody>\n</table>\n</div>"
     },
     "metadata": {},
     "execution_count": 41
    }
   ],
   "source": [
    "moons['density'] = moons['mass']/moons['volume']\n",
    "moons"
   ]
  },
  {
   "cell_type": "code",
   "execution_count": 42,
   "metadata": {
    "slideshow": {
     "slide_type": "slide"
    }
   },
   "outputs": [
    {
     "output_type": "error",
     "ename": "SyntaxError",
     "evalue": "invalid syntax (<ipython-input-42-12ee66c85093>, line 3)",
     "traceback": [
      "\u001b[0;36m  File \u001b[0;32m\"<ipython-input-42-12ee66c85093>\"\u001b[0;36m, line \u001b[0;32m3\u001b[0m\n\u001b[0;31m    One of the most powerful uses for dataframes is to reorganize your data into groups and perform data aggregations.\u001b[0m\n\u001b[0m         ^\u001b[0m\n\u001b[0;31mSyntaxError\u001b[0m\u001b[0;31m:\u001b[0m invalid syntax\n"
     ]
    }
   ],
   "source": [
    "# Grouping data and Aggregation\n",
    "\n",
    "One of the most powerful uses for dataframes is to reorganize your data into groups and perform data aggregations."
   ]
  },
  {
   "cell_type": "code",
   "execution_count": 43,
   "metadata": {},
   "outputs": [
    {
     "output_type": "execute_result",
     "data": {
      "text/plain": "                        Type  Order from Sun   Diameter          Mass\nName                                                                 \nSun                     Star               0  1392000.0  333000.00000\nMercury   Terrestrial planet               1     4878.0       0.05500\nVenus     Terrestrial planet               2    12104.0       0.81500\nEarth     Terrestrial planet               3    12756.0       1.00000\nMars      Terrestrial planet               4     6787.0       0.10700\nJupiter            Gas giant               6   142800.0     318.00000\nSaturn             Gas giant               7   120000.0      95.00000\nUranus             Gas giant               8    51118.0      15.00000\nNeptune            Gas giant               9    49528.0      17.00000\nCeres           Dwarf planet               5      974.6       0.00016\nPluto           Dwarf planet              10     2300.0       0.00200\nHaumea          Dwarf planet              11     1300.0       0.00070\nMakemake        Dwarf planet              12     1420.0       0.00067\nEris            Dwarf planet              13     2326.0       0.00280",
      "text/html": "<div>\n<style scoped>\n    .dataframe tbody tr th:only-of-type {\n        vertical-align: middle;\n    }\n\n    .dataframe tbody tr th {\n        vertical-align: top;\n    }\n\n    .dataframe thead th {\n        text-align: right;\n    }\n</style>\n<table border=\"1\" class=\"dataframe\">\n  <thead>\n    <tr style=\"text-align: right;\">\n      <th></th>\n      <th>Type</th>\n      <th>Order from Sun</th>\n      <th>Diameter</th>\n      <th>Mass</th>\n    </tr>\n    <tr>\n      <th>Name</th>\n      <th></th>\n      <th></th>\n      <th></th>\n      <th></th>\n    </tr>\n  </thead>\n  <tbody>\n    <tr>\n      <th>Sun</th>\n      <td>Star</td>\n      <td>0</td>\n      <td>1392000.0</td>\n      <td>333000.00000</td>\n    </tr>\n    <tr>\n      <th>Mercury</th>\n      <td>Terrestrial planet</td>\n      <td>1</td>\n      <td>4878.0</td>\n      <td>0.05500</td>\n    </tr>\n    <tr>\n      <th>Venus</th>\n      <td>Terrestrial planet</td>\n      <td>2</td>\n      <td>12104.0</td>\n      <td>0.81500</td>\n    </tr>\n    <tr>\n      <th>Earth</th>\n      <td>Terrestrial planet</td>\n      <td>3</td>\n      <td>12756.0</td>\n      <td>1.00000</td>\n    </tr>\n    <tr>\n      <th>Mars</th>\n      <td>Terrestrial planet</td>\n      <td>4</td>\n      <td>6787.0</td>\n      <td>0.10700</td>\n    </tr>\n    <tr>\n      <th>Jupiter</th>\n      <td>Gas giant</td>\n      <td>6</td>\n      <td>142800.0</td>\n      <td>318.00000</td>\n    </tr>\n    <tr>\n      <th>Saturn</th>\n      <td>Gas giant</td>\n      <td>7</td>\n      <td>120000.0</td>\n      <td>95.00000</td>\n    </tr>\n    <tr>\n      <th>Uranus</th>\n      <td>Gas giant</td>\n      <td>8</td>\n      <td>51118.0</td>\n      <td>15.00000</td>\n    </tr>\n    <tr>\n      <th>Neptune</th>\n      <td>Gas giant</td>\n      <td>9</td>\n      <td>49528.0</td>\n      <td>17.00000</td>\n    </tr>\n    <tr>\n      <th>Ceres</th>\n      <td>Dwarf planet</td>\n      <td>5</td>\n      <td>974.6</td>\n      <td>0.00016</td>\n    </tr>\n    <tr>\n      <th>Pluto</th>\n      <td>Dwarf planet</td>\n      <td>10</td>\n      <td>2300.0</td>\n      <td>0.00200</td>\n    </tr>\n    <tr>\n      <th>Haumea</th>\n      <td>Dwarf planet</td>\n      <td>11</td>\n      <td>1300.0</td>\n      <td>0.00070</td>\n    </tr>\n    <tr>\n      <th>Makemake</th>\n      <td>Dwarf planet</td>\n      <td>12</td>\n      <td>1420.0</td>\n      <td>0.00067</td>\n    </tr>\n    <tr>\n      <th>Eris</th>\n      <td>Dwarf planet</td>\n      <td>13</td>\n      <td>2326.0</td>\n      <td>0.00280</td>\n    </tr>\n  </tbody>\n</table>\n</div>"
     },
     "metadata": {},
     "execution_count": 43
    }
   ],
   "source": [
    "solar_system"
   ]
  },
  {
   "cell_type": "code",
   "execution_count": 44,
   "metadata": {
    "slideshow": {
     "slide_type": "fragment"
    }
   },
   "outputs": [
    {
     "output_type": "execute_result",
     "data": {
      "text/plain": "<pandas.core.groupby.generic.DataFrameGroupBy object at 0x7f12326b2b50>"
     },
     "metadata": {},
     "execution_count": 44
    }
   ],
   "source": [
    "bodies_by_type = solar_system.groupby('Type')\n",
    "bodies_by_type"
   ]
  },
  {
   "cell_type": "markdown",
   "metadata": {
    "slideshow": {
     "slide_type": "fragment"
    }
   },
   "source": [
    "When you call groupby(), it creates a 'GroupBy' objects. At this stage, no actual computation has been performed yet to 'split' your data. The successful create of the objects is just a validation of the groupby operation you have requested."
   ]
  },
  {
   "cell_type": "markdown",
   "metadata": {
    "slideshow": {
     "slide_type": "slide"
    }
   },
   "source": [
    "You can access each of the groups by name to see what is in them"
   ]
  },
  {
   "cell_type": "code",
   "execution_count": 45,
   "metadata": {
    "slideshow": {
     "slide_type": "fragment"
    }
   },
   "outputs": [
    {
     "output_type": "execute_result",
     "data": {
      "text/plain": "              Type  Order from Sun  Diameter   Mass\nName                                               \nJupiter  Gas giant               6  142800.0  318.0\nSaturn   Gas giant               7  120000.0   95.0\nUranus   Gas giant               8   51118.0   15.0\nNeptune  Gas giant               9   49528.0   17.0",
      "text/html": "<div>\n<style scoped>\n    .dataframe tbody tr th:only-of-type {\n        vertical-align: middle;\n    }\n\n    .dataframe tbody tr th {\n        vertical-align: top;\n    }\n\n    .dataframe thead th {\n        text-align: right;\n    }\n</style>\n<table border=\"1\" class=\"dataframe\">\n  <thead>\n    <tr style=\"text-align: right;\">\n      <th></th>\n      <th>Type</th>\n      <th>Order from Sun</th>\n      <th>Diameter</th>\n      <th>Mass</th>\n    </tr>\n    <tr>\n      <th>Name</th>\n      <th></th>\n      <th></th>\n      <th></th>\n      <th></th>\n    </tr>\n  </thead>\n  <tbody>\n    <tr>\n      <th>Jupiter</th>\n      <td>Gas giant</td>\n      <td>6</td>\n      <td>142800.0</td>\n      <td>318.0</td>\n    </tr>\n    <tr>\n      <th>Saturn</th>\n      <td>Gas giant</td>\n      <td>7</td>\n      <td>120000.0</td>\n      <td>95.0</td>\n    </tr>\n    <tr>\n      <th>Uranus</th>\n      <td>Gas giant</td>\n      <td>8</td>\n      <td>51118.0</td>\n      <td>15.0</td>\n    </tr>\n    <tr>\n      <th>Neptune</th>\n      <td>Gas giant</td>\n      <td>9</td>\n      <td>49528.0</td>\n      <td>17.0</td>\n    </tr>\n  </tbody>\n</table>\n</div>"
     },
     "metadata": {},
     "execution_count": 45
    }
   ],
   "source": [
    "bodies_by_type.get_group('Gas giant')"
   ]
  },
  {
   "cell_type": "markdown",
   "metadata": {
    "slideshow": {
     "slide_type": "slide"
    }
   },
   "source": [
    "We can perform some aggregations, such as sum, median or mean."
   ]
  },
  {
   "cell_type": "code",
   "execution_count": 46,
   "metadata": {
    "slideshow": {
     "slide_type": "fragment"
    }
   },
   "outputs": [
    {
     "output_type": "execute_result",
     "data": {
      "text/plain": "                    Order from Sun   Diameter          Mass\nType                                                       \nDwarf planet                    51     8320.6       0.00633\nGas giant                       30   363446.0     445.00000\nStar                             0  1392000.0  333000.00000\nTerrestrial planet              10    36525.0       1.97700",
      "text/html": "<div>\n<style scoped>\n    .dataframe tbody tr th:only-of-type {\n        vertical-align: middle;\n    }\n\n    .dataframe tbody tr th {\n        vertical-align: top;\n    }\n\n    .dataframe thead th {\n        text-align: right;\n    }\n</style>\n<table border=\"1\" class=\"dataframe\">\n  <thead>\n    <tr style=\"text-align: right;\">\n      <th></th>\n      <th>Order from Sun</th>\n      <th>Diameter</th>\n      <th>Mass</th>\n    </tr>\n    <tr>\n      <th>Type</th>\n      <th></th>\n      <th></th>\n      <th></th>\n    </tr>\n  </thead>\n  <tbody>\n    <tr>\n      <th>Dwarf planet</th>\n      <td>51</td>\n      <td>8320.6</td>\n      <td>0.00633</td>\n    </tr>\n    <tr>\n      <th>Gas giant</th>\n      <td>30</td>\n      <td>363446.0</td>\n      <td>445.00000</td>\n    </tr>\n    <tr>\n      <th>Star</th>\n      <td>0</td>\n      <td>1392000.0</td>\n      <td>333000.00000</td>\n    </tr>\n    <tr>\n      <th>Terrestrial planet</th>\n      <td>10</td>\n      <td>36525.0</td>\n      <td>1.97700</td>\n    </tr>\n  </tbody>\n</table>\n</div>"
     },
     "metadata": {},
     "execution_count": 46
    }
   ],
   "source": [
    "bodies_by_type.sum()"
   ]
  },
  {
   "cell_type": "markdown",
   "metadata": {
    "slideshow": {
     "slide_type": "fragment"
    }
   },
   "source": [
    "You can use tab completion to see all the aggregation methods available."
   ]
  },
  {
   "cell_type": "code",
   "execution_count": 47,
   "metadata": {},
   "outputs": [
    {
     "output_type": "execute_result",
     "data": {
      "text/plain": "                    Order from Sun   Diameter         Mass\nType                                                      \nDwarf planet                    13     2326.0       0.0028\nGas giant                        9   142800.0     318.0000\nStar                             0  1392000.0  333000.0000\nTerrestrial planet               4    12756.0       1.0000",
      "text/html": "<div>\n<style scoped>\n    .dataframe tbody tr th:only-of-type {\n        vertical-align: middle;\n    }\n\n    .dataframe tbody tr th {\n        vertical-align: top;\n    }\n\n    .dataframe thead th {\n        text-align: right;\n    }\n</style>\n<table border=\"1\" class=\"dataframe\">\n  <thead>\n    <tr style=\"text-align: right;\">\n      <th></th>\n      <th>Order from Sun</th>\n      <th>Diameter</th>\n      <th>Mass</th>\n    </tr>\n    <tr>\n      <th>Type</th>\n      <th></th>\n      <th></th>\n      <th></th>\n    </tr>\n  </thead>\n  <tbody>\n    <tr>\n      <th>Dwarf planet</th>\n      <td>13</td>\n      <td>2326.0</td>\n      <td>0.0028</td>\n    </tr>\n    <tr>\n      <th>Gas giant</th>\n      <td>9</td>\n      <td>142800.0</td>\n      <td>318.0000</td>\n    </tr>\n    <tr>\n      <th>Star</th>\n      <td>0</td>\n      <td>1392000.0</td>\n      <td>333000.0000</td>\n    </tr>\n    <tr>\n      <th>Terrestrial planet</th>\n      <td>4</td>\n      <td>12756.0</td>\n      <td>1.0000</td>\n    </tr>\n  </tbody>\n</table>\n</div>"
     },
     "metadata": {},
     "execution_count": 47
    }
   ],
   "source": [
    "bodies_by_type.max()"
   ]
  },
  {
   "cell_type": "code",
   "execution_count": null,
   "metadata": {
    "slideshow": {
     "slide_type": "slide"
    }
   },
   "outputs": [],
   "source": [
    "# Filtering a Dataframe\n",
    "\n",
    "Data in dataframes can also be filtered using boolean operations."
   ]
  },
  {
   "cell_type": "code",
   "execution_count": 48,
   "metadata": {},
   "outputs": [
    {
     "output_type": "execute_result",
     "data": {
      "text/plain": "                        Type  Order from Sun   Diameter          Mass\nName                                                                 \nSun                     Star               0  1392000.0  333000.00000\nMercury   Terrestrial planet               1     4878.0       0.05500\nVenus     Terrestrial planet               2    12104.0       0.81500\nEarth     Terrestrial planet               3    12756.0       1.00000\nMars      Terrestrial planet               4     6787.0       0.10700\nJupiter            Gas giant               6   142800.0     318.00000\nSaturn             Gas giant               7   120000.0      95.00000\nUranus             Gas giant               8    51118.0      15.00000\nNeptune            Gas giant               9    49528.0      17.00000\nCeres           Dwarf planet               5      974.6       0.00016\nPluto           Dwarf planet              10     2300.0       0.00200\nHaumea          Dwarf planet              11     1300.0       0.00070\nMakemake        Dwarf planet              12     1420.0       0.00067\nEris            Dwarf planet              13     2326.0       0.00280",
      "text/html": "<div>\n<style scoped>\n    .dataframe tbody tr th:only-of-type {\n        vertical-align: middle;\n    }\n\n    .dataframe tbody tr th {\n        vertical-align: top;\n    }\n\n    .dataframe thead th {\n        text-align: right;\n    }\n</style>\n<table border=\"1\" class=\"dataframe\">\n  <thead>\n    <tr style=\"text-align: right;\">\n      <th></th>\n      <th>Type</th>\n      <th>Order from Sun</th>\n      <th>Diameter</th>\n      <th>Mass</th>\n    </tr>\n    <tr>\n      <th>Name</th>\n      <th></th>\n      <th></th>\n      <th></th>\n      <th></th>\n    </tr>\n  </thead>\n  <tbody>\n    <tr>\n      <th>Sun</th>\n      <td>Star</td>\n      <td>0</td>\n      <td>1392000.0</td>\n      <td>333000.00000</td>\n    </tr>\n    <tr>\n      <th>Mercury</th>\n      <td>Terrestrial planet</td>\n      <td>1</td>\n      <td>4878.0</td>\n      <td>0.05500</td>\n    </tr>\n    <tr>\n      <th>Venus</th>\n      <td>Terrestrial planet</td>\n      <td>2</td>\n      <td>12104.0</td>\n      <td>0.81500</td>\n    </tr>\n    <tr>\n      <th>Earth</th>\n      <td>Terrestrial planet</td>\n      <td>3</td>\n      <td>12756.0</td>\n      <td>1.00000</td>\n    </tr>\n    <tr>\n      <th>Mars</th>\n      <td>Terrestrial planet</td>\n      <td>4</td>\n      <td>6787.0</td>\n      <td>0.10700</td>\n    </tr>\n    <tr>\n      <th>Jupiter</th>\n      <td>Gas giant</td>\n      <td>6</td>\n      <td>142800.0</td>\n      <td>318.00000</td>\n    </tr>\n    <tr>\n      <th>Saturn</th>\n      <td>Gas giant</td>\n      <td>7</td>\n      <td>120000.0</td>\n      <td>95.00000</td>\n    </tr>\n    <tr>\n      <th>Uranus</th>\n      <td>Gas giant</td>\n      <td>8</td>\n      <td>51118.0</td>\n      <td>15.00000</td>\n    </tr>\n    <tr>\n      <th>Neptune</th>\n      <td>Gas giant</td>\n      <td>9</td>\n      <td>49528.0</td>\n      <td>17.00000</td>\n    </tr>\n    <tr>\n      <th>Ceres</th>\n      <td>Dwarf planet</td>\n      <td>5</td>\n      <td>974.6</td>\n      <td>0.00016</td>\n    </tr>\n    <tr>\n      <th>Pluto</th>\n      <td>Dwarf planet</td>\n      <td>10</td>\n      <td>2300.0</td>\n      <td>0.00200</td>\n    </tr>\n    <tr>\n      <th>Haumea</th>\n      <td>Dwarf planet</td>\n      <td>11</td>\n      <td>1300.0</td>\n      <td>0.00070</td>\n    </tr>\n    <tr>\n      <th>Makemake</th>\n      <td>Dwarf planet</td>\n      <td>12</td>\n      <td>1420.0</td>\n      <td>0.00067</td>\n    </tr>\n    <tr>\n      <th>Eris</th>\n      <td>Dwarf planet</td>\n      <td>13</td>\n      <td>2326.0</td>\n      <td>0.00280</td>\n    </tr>\n  </tbody>\n</table>\n</div>"
     },
     "metadata": {},
     "execution_count": 48
    }
   ],
   "source": [
    "solar_system"
   ]
  },
  {
   "cell_type": "code",
   "execution_count": 49,
   "metadata": {
    "slideshow": {
     "slide_type": "fragment"
    }
   },
   "outputs": [
    {
     "output_type": "execute_result",
     "data": {
      "text/plain": "              Type  Order from Sun   Diameter      Mass\nName                                                   \nSun           Star               0  1392000.0  333000.0\nJupiter  Gas giant               6   142800.0     318.0\nSaturn   Gas giant               7   120000.0      95.0\nUranus   Gas giant               8    51118.0      15.0\nNeptune  Gas giant               9    49528.0      17.0",
      "text/html": "<div>\n<style scoped>\n    .dataframe tbody tr th:only-of-type {\n        vertical-align: middle;\n    }\n\n    .dataframe tbody tr th {\n        vertical-align: top;\n    }\n\n    .dataframe thead th {\n        text-align: right;\n    }\n</style>\n<table border=\"1\" class=\"dataframe\">\n  <thead>\n    <tr style=\"text-align: right;\">\n      <th></th>\n      <th>Type</th>\n      <th>Order from Sun</th>\n      <th>Diameter</th>\n      <th>Mass</th>\n    </tr>\n    <tr>\n      <th>Name</th>\n      <th></th>\n      <th></th>\n      <th></th>\n      <th></th>\n    </tr>\n  </thead>\n  <tbody>\n    <tr>\n      <th>Sun</th>\n      <td>Star</td>\n      <td>0</td>\n      <td>1392000.0</td>\n      <td>333000.0</td>\n    </tr>\n    <tr>\n      <th>Jupiter</th>\n      <td>Gas giant</td>\n      <td>6</td>\n      <td>142800.0</td>\n      <td>318.0</td>\n    </tr>\n    <tr>\n      <th>Saturn</th>\n      <td>Gas giant</td>\n      <td>7</td>\n      <td>120000.0</td>\n      <td>95.0</td>\n    </tr>\n    <tr>\n      <th>Uranus</th>\n      <td>Gas giant</td>\n      <td>8</td>\n      <td>51118.0</td>\n      <td>15.0</td>\n    </tr>\n    <tr>\n      <th>Neptune</th>\n      <td>Gas giant</td>\n      <td>9</td>\n      <td>49528.0</td>\n      <td>17.0</td>\n    </tr>\n  </tbody>\n</table>\n</div>"
     },
     "metadata": {},
     "execution_count": 49
    }
   ],
   "source": [
    "solar_system[solar_system['Mass'] > 1.0]"
   ]
  },
  {
   "cell_type": "code",
   "execution_count": 50,
   "metadata": {
    "slideshow": {
     "slide_type": "slide"
    }
   },
   "outputs": [
    {
     "output_type": "execute_result",
     "data": {
      "text/plain": "                       Type  Order from Sun  Diameter   Mass\nName                                                        \nMercury  Terrestrial planet               1    4878.0  0.055\nVenus    Terrestrial planet               2   12104.0  0.815\nEarth    Terrestrial planet               3   12756.0  1.000\nMars     Terrestrial planet               4    6787.0  0.107",
      "text/html": "<div>\n<style scoped>\n    .dataframe tbody tr th:only-of-type {\n        vertical-align: middle;\n    }\n\n    .dataframe tbody tr th {\n        vertical-align: top;\n    }\n\n    .dataframe thead th {\n        text-align: right;\n    }\n</style>\n<table border=\"1\" class=\"dataframe\">\n  <thead>\n    <tr style=\"text-align: right;\">\n      <th></th>\n      <th>Type</th>\n      <th>Order from Sun</th>\n      <th>Diameter</th>\n      <th>Mass</th>\n    </tr>\n    <tr>\n      <th>Name</th>\n      <th></th>\n      <th></th>\n      <th></th>\n      <th></th>\n    </tr>\n  </thead>\n  <tbody>\n    <tr>\n      <th>Mercury</th>\n      <td>Terrestrial planet</td>\n      <td>1</td>\n      <td>4878.0</td>\n      <td>0.055</td>\n    </tr>\n    <tr>\n      <th>Venus</th>\n      <td>Terrestrial planet</td>\n      <td>2</td>\n      <td>12104.0</td>\n      <td>0.815</td>\n    </tr>\n    <tr>\n      <th>Earth</th>\n      <td>Terrestrial planet</td>\n      <td>3</td>\n      <td>12756.0</td>\n      <td>1.000</td>\n    </tr>\n    <tr>\n      <th>Mars</th>\n      <td>Terrestrial planet</td>\n      <td>4</td>\n      <td>6787.0</td>\n      <td>0.107</td>\n    </tr>\n  </tbody>\n</table>\n</div>"
     },
     "metadata": {},
     "execution_count": 50
    }
   ],
   "source": [
    "solar_system[solar_system['Type'] == 'Terrestrial planet']"
   ]
  },
  {
   "cell_type": "markdown",
   "metadata": {
    "slideshow": {
     "slide_type": "slide"
    }
   },
   "source": [
    "# Merges, Joins and Concatenation\n",
    "\n",
    "There are multiple methods to combine dataframes together. I'll highlight a few useful methods here, but I recommend a look at the official pandas documentation for all the possible ways to combine dataframes. \n",
    "\n",
    "https://pandas.pydata.org/pandas-docs/stable/merging.html"
   ]
  },
  {
   "cell_type": "markdown",
   "metadata": {
    "slideshow": {
     "slide_type": "slide"
    }
   },
   "source": [
    "## A Simple Append"
   ]
  },
  {
   "cell_type": "code",
   "execution_count": 51,
   "metadata": {},
   "outputs": [
    {
     "output_type": "execute_result",
     "data": {
      "text/plain": "                       Type  Order from Sun   Diameter        Mass\nName                                                              \nSun                    Star               0  1392000.0  333000.000\nMercury  Terrestrial planet               1     4878.0       0.055\nVenus    Terrestrial planet               2    12104.0       0.815\nEarth    Terrestrial planet               3    12756.0       1.000\nMars     Terrestrial planet               4     6787.0       0.107\nJupiter           Gas giant               6   142800.0     318.000\nSaturn            Gas giant               7   120000.0      95.000\nUranus            Gas giant               8    51118.0      15.000\nNeptune           Gas giant               9    49528.0      17.000",
      "text/html": "<div>\n<style scoped>\n    .dataframe tbody tr th:only-of-type {\n        vertical-align: middle;\n    }\n\n    .dataframe tbody tr th {\n        vertical-align: top;\n    }\n\n    .dataframe thead th {\n        text-align: right;\n    }\n</style>\n<table border=\"1\" class=\"dataframe\">\n  <thead>\n    <tr style=\"text-align: right;\">\n      <th></th>\n      <th>Type</th>\n      <th>Order from Sun</th>\n      <th>Diameter</th>\n      <th>Mass</th>\n    </tr>\n    <tr>\n      <th>Name</th>\n      <th></th>\n      <th></th>\n      <th></th>\n      <th></th>\n    </tr>\n  </thead>\n  <tbody>\n    <tr>\n      <th>Sun</th>\n      <td>Star</td>\n      <td>0</td>\n      <td>1392000.0</td>\n      <td>333000.000</td>\n    </tr>\n    <tr>\n      <th>Mercury</th>\n      <td>Terrestrial planet</td>\n      <td>1</td>\n      <td>4878.0</td>\n      <td>0.055</td>\n    </tr>\n    <tr>\n      <th>Venus</th>\n      <td>Terrestrial planet</td>\n      <td>2</td>\n      <td>12104.0</td>\n      <td>0.815</td>\n    </tr>\n    <tr>\n      <th>Earth</th>\n      <td>Terrestrial planet</td>\n      <td>3</td>\n      <td>12756.0</td>\n      <td>1.000</td>\n    </tr>\n    <tr>\n      <th>Mars</th>\n      <td>Terrestrial planet</td>\n      <td>4</td>\n      <td>6787.0</td>\n      <td>0.107</td>\n    </tr>\n    <tr>\n      <th>Jupiter</th>\n      <td>Gas giant</td>\n      <td>6</td>\n      <td>142800.0</td>\n      <td>318.000</td>\n    </tr>\n    <tr>\n      <th>Saturn</th>\n      <td>Gas giant</td>\n      <td>7</td>\n      <td>120000.0</td>\n      <td>95.000</td>\n    </tr>\n    <tr>\n      <th>Uranus</th>\n      <td>Gas giant</td>\n      <td>8</td>\n      <td>51118.0</td>\n      <td>15.000</td>\n    </tr>\n    <tr>\n      <th>Neptune</th>\n      <td>Gas giant</td>\n      <td>9</td>\n      <td>49528.0</td>\n      <td>17.000</td>\n    </tr>\n  </tbody>\n</table>\n</div>"
     },
     "metadata": {},
     "execution_count": 51
    }
   ],
   "source": [
    "large_bodies = solar_system[solar_system['Type'] != 'Dwarf planet']\n",
    "small_bodies = solar_system[solar_system['Type'] == 'Dwarf planet'] \n",
    "large_bodies"
   ]
  },
  {
   "cell_type": "code",
   "execution_count": 52,
   "metadata": {
    "slideshow": {
     "slide_type": "fragment"
    }
   },
   "outputs": [
    {
     "output_type": "execute_result",
     "data": {
      "text/plain": "                        Type  Order from Sun   Diameter          Mass\nName                                                                 \nSun                     Star               0  1392000.0  333000.00000\nMercury   Terrestrial planet               1     4878.0       0.05500\nVenus     Terrestrial planet               2    12104.0       0.81500\nEarth     Terrestrial planet               3    12756.0       1.00000\nMars      Terrestrial planet               4     6787.0       0.10700\nJupiter            Gas giant               6   142800.0     318.00000\nSaturn             Gas giant               7   120000.0      95.00000\nUranus             Gas giant               8    51118.0      15.00000\nNeptune            Gas giant               9    49528.0      17.00000\nCeres           Dwarf planet               5      974.6       0.00016\nPluto           Dwarf planet              10     2300.0       0.00200\nHaumea          Dwarf planet              11     1300.0       0.00070\nMakemake        Dwarf planet              12     1420.0       0.00067\nEris            Dwarf planet              13     2326.0       0.00280",
      "text/html": "<div>\n<style scoped>\n    .dataframe tbody tr th:only-of-type {\n        vertical-align: middle;\n    }\n\n    .dataframe tbody tr th {\n        vertical-align: top;\n    }\n\n    .dataframe thead th {\n        text-align: right;\n    }\n</style>\n<table border=\"1\" class=\"dataframe\">\n  <thead>\n    <tr style=\"text-align: right;\">\n      <th></th>\n      <th>Type</th>\n      <th>Order from Sun</th>\n      <th>Diameter</th>\n      <th>Mass</th>\n    </tr>\n    <tr>\n      <th>Name</th>\n      <th></th>\n      <th></th>\n      <th></th>\n      <th></th>\n    </tr>\n  </thead>\n  <tbody>\n    <tr>\n      <th>Sun</th>\n      <td>Star</td>\n      <td>0</td>\n      <td>1392000.0</td>\n      <td>333000.00000</td>\n    </tr>\n    <tr>\n      <th>Mercury</th>\n      <td>Terrestrial planet</td>\n      <td>1</td>\n      <td>4878.0</td>\n      <td>0.05500</td>\n    </tr>\n    <tr>\n      <th>Venus</th>\n      <td>Terrestrial planet</td>\n      <td>2</td>\n      <td>12104.0</td>\n      <td>0.81500</td>\n    </tr>\n    <tr>\n      <th>Earth</th>\n      <td>Terrestrial planet</td>\n      <td>3</td>\n      <td>12756.0</td>\n      <td>1.00000</td>\n    </tr>\n    <tr>\n      <th>Mars</th>\n      <td>Terrestrial planet</td>\n      <td>4</td>\n      <td>6787.0</td>\n      <td>0.10700</td>\n    </tr>\n    <tr>\n      <th>Jupiter</th>\n      <td>Gas giant</td>\n      <td>6</td>\n      <td>142800.0</td>\n      <td>318.00000</td>\n    </tr>\n    <tr>\n      <th>Saturn</th>\n      <td>Gas giant</td>\n      <td>7</td>\n      <td>120000.0</td>\n      <td>95.00000</td>\n    </tr>\n    <tr>\n      <th>Uranus</th>\n      <td>Gas giant</td>\n      <td>8</td>\n      <td>51118.0</td>\n      <td>15.00000</td>\n    </tr>\n    <tr>\n      <th>Neptune</th>\n      <td>Gas giant</td>\n      <td>9</td>\n      <td>49528.0</td>\n      <td>17.00000</td>\n    </tr>\n    <tr>\n      <th>Ceres</th>\n      <td>Dwarf planet</td>\n      <td>5</td>\n      <td>974.6</td>\n      <td>0.00016</td>\n    </tr>\n    <tr>\n      <th>Pluto</th>\n      <td>Dwarf planet</td>\n      <td>10</td>\n      <td>2300.0</td>\n      <td>0.00200</td>\n    </tr>\n    <tr>\n      <th>Haumea</th>\n      <td>Dwarf planet</td>\n      <td>11</td>\n      <td>1300.0</td>\n      <td>0.00070</td>\n    </tr>\n    <tr>\n      <th>Makemake</th>\n      <td>Dwarf planet</td>\n      <td>12</td>\n      <td>1420.0</td>\n      <td>0.00067</td>\n    </tr>\n    <tr>\n      <th>Eris</th>\n      <td>Dwarf planet</td>\n      <td>13</td>\n      <td>2326.0</td>\n      <td>0.00280</td>\n    </tr>\n  </tbody>\n</table>\n</div>"
     },
     "metadata": {},
     "execution_count": 52
    }
   ],
   "source": [
    "whole_system = large_bodies.append(small_bodies)\n",
    "whole_system"
   ]
  },
  {
   "cell_type": "markdown",
   "metadata": {
    "slideshow": {
     "slide_type": "slide"
    }
   },
   "source": [
    "# Concatenation\n",
    "\n",
    "`pd.concat` is similar to append, except that the two dataframes don't have to have exactly the same columns. Columns outside the intersection will be filled with NaN values."
   ]
  },
  {
   "cell_type": "code",
   "execution_count": 53,
   "metadata": {},
   "outputs": [
    {
     "output_type": "execute_result",
     "data": {
      "text/plain": "               density  diameter  gravity      mass   period        volume\nMercury            NaN    4879.0      3.7     0.330     88.0           NaN\nVenus              NaN   12104.0      8.9     4.870    224.7           NaN\nEarth              NaN   12756.0      9.8     5.970    365.2           NaN\nMars               NaN    6792.0      3.7     0.642    687.0           NaN\nJupiter            NaN  142984.0     23.1  1898.000   4331.0           NaN\nSaturn             NaN  120536.0      9.0   568.000  10747.0           NaN\nUranus             NaN   51118.0      8.7    86.800  30589.0           NaN\nNeptune            NaN   49528.0     11.0   102.000  59800.0           NaN\nCallisto  1.834012e-09    4821.0      NaN   107.600      NaN  5.866918e+10\nGanymede  1.942661e-09    5262.0      NaN   148.200      NaN  7.628711e+10\nEuropa    3.012617e-09    3122.0      NaN    48.000      NaN  1.593299e+10\nIo        3.527567e-09    3643.0      NaN    89.300      NaN  2.531490e+10",
      "text/html": "<div>\n<style scoped>\n    .dataframe tbody tr th:only-of-type {\n        vertical-align: middle;\n    }\n\n    .dataframe tbody tr th {\n        vertical-align: top;\n    }\n\n    .dataframe thead th {\n        text-align: right;\n    }\n</style>\n<table border=\"1\" class=\"dataframe\">\n  <thead>\n    <tr style=\"text-align: right;\">\n      <th></th>\n      <th>density</th>\n      <th>diameter</th>\n      <th>gravity</th>\n      <th>mass</th>\n      <th>period</th>\n      <th>volume</th>\n    </tr>\n  </thead>\n  <tbody>\n    <tr>\n      <th>Mercury</th>\n      <td>NaN</td>\n      <td>4879.0</td>\n      <td>3.7</td>\n      <td>0.330</td>\n      <td>88.0</td>\n      <td>NaN</td>\n    </tr>\n    <tr>\n      <th>Venus</th>\n      <td>NaN</td>\n      <td>12104.0</td>\n      <td>8.9</td>\n      <td>4.870</td>\n      <td>224.7</td>\n      <td>NaN</td>\n    </tr>\n    <tr>\n      <th>Earth</th>\n      <td>NaN</td>\n      <td>12756.0</td>\n      <td>9.8</td>\n      <td>5.970</td>\n      <td>365.2</td>\n      <td>NaN</td>\n    </tr>\n    <tr>\n      <th>Mars</th>\n      <td>NaN</td>\n      <td>6792.0</td>\n      <td>3.7</td>\n      <td>0.642</td>\n      <td>687.0</td>\n      <td>NaN</td>\n    </tr>\n    <tr>\n      <th>Jupiter</th>\n      <td>NaN</td>\n      <td>142984.0</td>\n      <td>23.1</td>\n      <td>1898.000</td>\n      <td>4331.0</td>\n      <td>NaN</td>\n    </tr>\n    <tr>\n      <th>Saturn</th>\n      <td>NaN</td>\n      <td>120536.0</td>\n      <td>9.0</td>\n      <td>568.000</td>\n      <td>10747.0</td>\n      <td>NaN</td>\n    </tr>\n    <tr>\n      <th>Uranus</th>\n      <td>NaN</td>\n      <td>51118.0</td>\n      <td>8.7</td>\n      <td>86.800</td>\n      <td>30589.0</td>\n      <td>NaN</td>\n    </tr>\n    <tr>\n      <th>Neptune</th>\n      <td>NaN</td>\n      <td>49528.0</td>\n      <td>11.0</td>\n      <td>102.000</td>\n      <td>59800.0</td>\n      <td>NaN</td>\n    </tr>\n    <tr>\n      <th>Callisto</th>\n      <td>1.834012e-09</td>\n      <td>4821.0</td>\n      <td>NaN</td>\n      <td>107.600</td>\n      <td>NaN</td>\n      <td>5.866918e+10</td>\n    </tr>\n    <tr>\n      <th>Ganymede</th>\n      <td>1.942661e-09</td>\n      <td>5262.0</td>\n      <td>NaN</td>\n      <td>148.200</td>\n      <td>NaN</td>\n      <td>7.628711e+10</td>\n    </tr>\n    <tr>\n      <th>Europa</th>\n      <td>3.012617e-09</td>\n      <td>3122.0</td>\n      <td>NaN</td>\n      <td>48.000</td>\n      <td>NaN</td>\n      <td>1.593299e+10</td>\n    </tr>\n    <tr>\n      <th>Io</th>\n      <td>3.527567e-09</td>\n      <td>3643.0</td>\n      <td>NaN</td>\n      <td>89.300</td>\n      <td>NaN</td>\n      <td>2.531490e+10</td>\n    </tr>\n  </tbody>\n</table>\n</div>"
     },
     "metadata": {},
     "execution_count": 53
    }
   ],
   "source": [
    "pd.concat([planets, moons])"
   ]
  },
  {
   "cell_type": "markdown",
   "metadata": {
    "slideshow": {
     "slide_type": "slide"
    }
   },
   "source": [
    "# Join Dataframes\n",
    "\n",
    "You can also perform database-like merges and joins of dataframes to add additional columns."
   ]
  },
  {
   "cell_type": "code",
   "execution_count": 54,
   "metadata": {},
   "outputs": [
    {
     "output_type": "execute_result",
     "data": {
      "text/plain": "          period\nCallisto   16.68\nGanymede    7.15\nEuropa      3.55\nIo          1.76",
      "text/html": "<div>\n<style scoped>\n    .dataframe tbody tr th:only-of-type {\n        vertical-align: middle;\n    }\n\n    .dataframe tbody tr th {\n        vertical-align: top;\n    }\n\n    .dataframe thead th {\n        text-align: right;\n    }\n</style>\n<table border=\"1\" class=\"dataframe\">\n  <thead>\n    <tr style=\"text-align: right;\">\n      <th></th>\n      <th>period</th>\n    </tr>\n  </thead>\n  <tbody>\n    <tr>\n      <th>Callisto</th>\n      <td>16.68</td>\n    </tr>\n    <tr>\n      <th>Ganymede</th>\n      <td>7.15</td>\n    </tr>\n    <tr>\n      <th>Europa</th>\n      <td>3.55</td>\n    </tr>\n    <tr>\n      <th>Io</th>\n      <td>1.76</td>\n    </tr>\n  </tbody>\n</table>\n</div>"
     },
     "metadata": {},
     "execution_count": 54
    }
   ],
   "source": [
    "moon_period = pd.DataFrame({'period':[16.68, 7.15, 3.55, 1.76]},\n",
    "                   index=['Callisto','Ganymede','Europa','Io'])\n",
    "moon_period\n"
   ]
  },
  {
   "cell_type": "code",
   "execution_count": 55,
   "metadata": {
    "slideshow": {
     "slide_type": "slide"
    }
   },
   "outputs": [
    {
     "output_type": "execute_result",
     "data": {
      "text/plain": "          diameter   mass        volume       density  period\nCallisto      4821  107.6  5.866918e+10  1.834012e-09   16.68\nGanymede      5262  148.2  7.628711e+10  1.942661e-09    7.15\nEuropa        3122   48.0  1.593299e+10  3.012617e-09    3.55\nIo            3643   89.3  2.531490e+10  3.527567e-09    1.76",
      "text/html": "<div>\n<style scoped>\n    .dataframe tbody tr th:only-of-type {\n        vertical-align: middle;\n    }\n\n    .dataframe tbody tr th {\n        vertical-align: top;\n    }\n\n    .dataframe thead th {\n        text-align: right;\n    }\n</style>\n<table border=\"1\" class=\"dataframe\">\n  <thead>\n    <tr style=\"text-align: right;\">\n      <th></th>\n      <th>diameter</th>\n      <th>mass</th>\n      <th>volume</th>\n      <th>density</th>\n      <th>period</th>\n    </tr>\n  </thead>\n  <tbody>\n    <tr>\n      <th>Callisto</th>\n      <td>4821</td>\n      <td>107.6</td>\n      <td>5.866918e+10</td>\n      <td>1.834012e-09</td>\n      <td>16.68</td>\n    </tr>\n    <tr>\n      <th>Ganymede</th>\n      <td>5262</td>\n      <td>148.2</td>\n      <td>7.628711e+10</td>\n      <td>1.942661e-09</td>\n      <td>7.15</td>\n    </tr>\n    <tr>\n      <th>Europa</th>\n      <td>3122</td>\n      <td>48.0</td>\n      <td>1.593299e+10</td>\n      <td>3.012617e-09</td>\n      <td>3.55</td>\n    </tr>\n    <tr>\n      <th>Io</th>\n      <td>3643</td>\n      <td>89.3</td>\n      <td>2.531490e+10</td>\n      <td>3.527567e-09</td>\n      <td>1.76</td>\n    </tr>\n  </tbody>\n</table>\n</div>"
     },
     "metadata": {},
     "execution_count": 55
    }
   ],
   "source": [
    "moons.join(moon_period)"
   ]
  },
  {
   "cell_type": "markdown",
   "metadata": {
    "slideshow": {
     "slide_type": "slide"
    }
   },
   "source": [
    "# Pandas with non-numerical data\n",
    "\n",
    "The examples thus far have been with mostly tabular numerical data, but Pandas Dataframes also are powerful for data analysis of text based data and time series data. Most of the operations (index, grouping, filter, aggregation) are the same with non-numerical data, but I will highlight a few additional features for those types of data."
   ]
  },
  {
   "cell_type": "markdown",
   "metadata": {
    "slideshow": {
     "slide_type": "slide"
    }
   },
   "source": [
    "# Text Based Data"
   ]
  },
  {
   "cell_type": "code",
   "execution_count": 56,
   "metadata": {},
   "outputs": [
    {
     "output_type": "error",
     "ename": "FileNotFoundError",
     "evalue": "[Errno 2] File b'jobs.csv' does not exist: b'jobs.csv'",
     "traceback": [
      "\u001b[0;31m---------------------------------------------------------------------------\u001b[0m",
      "\u001b[0;31mFileNotFoundError\u001b[0m                         Traceback (most recent call last)",
      "\u001b[0;32m<ipython-input-56-422563c08459>\u001b[0m in \u001b[0;36m<module>\u001b[0;34m\u001b[0m\n\u001b[0;32m----> 1\u001b[0;31m \u001b[0mjobs\u001b[0m \u001b[0;34m=\u001b[0m \u001b[0mpd\u001b[0m\u001b[0;34m.\u001b[0m\u001b[0mread_csv\u001b[0m\u001b[0;34m(\u001b[0m\u001b[0;34m'jobs.csv'\u001b[0m\u001b[0;34m)\u001b[0m\u001b[0;34m\u001b[0m\u001b[0;34m\u001b[0m\u001b[0m\n\u001b[0m\u001b[1;32m      2\u001b[0m \u001b[0mjobs\u001b[0m\u001b[0;34m\u001b[0m\u001b[0;34m\u001b[0m\u001b[0m\n",
      "\u001b[0;32m~/miniconda3/lib/python3.7/site-packages/pandas/io/parsers.py\u001b[0m in \u001b[0;36mparser_f\u001b[0;34m(filepath_or_buffer, sep, delimiter, header, names, index_col, usecols, squeeze, prefix, mangle_dupe_cols, dtype, engine, converters, true_values, false_values, skipinitialspace, skiprows, skipfooter, nrows, na_values, keep_default_na, na_filter, verbose, skip_blank_lines, parse_dates, infer_datetime_format, keep_date_col, date_parser, dayfirst, cache_dates, iterator, chunksize, compression, thousands, decimal, lineterminator, quotechar, quoting, doublequote, escapechar, comment, encoding, dialect, error_bad_lines, warn_bad_lines, delim_whitespace, low_memory, memory_map, float_precision)\u001b[0m\n\u001b[1;32m    683\u001b[0m         )\n\u001b[1;32m    684\u001b[0m \u001b[0;34m\u001b[0m\u001b[0m\n\u001b[0;32m--> 685\u001b[0;31m         \u001b[0;32mreturn\u001b[0m \u001b[0m_read\u001b[0m\u001b[0;34m(\u001b[0m\u001b[0mfilepath_or_buffer\u001b[0m\u001b[0;34m,\u001b[0m \u001b[0mkwds\u001b[0m\u001b[0;34m)\u001b[0m\u001b[0;34m\u001b[0m\u001b[0;34m\u001b[0m\u001b[0m\n\u001b[0m\u001b[1;32m    686\u001b[0m \u001b[0;34m\u001b[0m\u001b[0m\n\u001b[1;32m    687\u001b[0m     \u001b[0mparser_f\u001b[0m\u001b[0;34m.\u001b[0m\u001b[0m__name__\u001b[0m \u001b[0;34m=\u001b[0m \u001b[0mname\u001b[0m\u001b[0;34m\u001b[0m\u001b[0;34m\u001b[0m\u001b[0m\n",
      "\u001b[0;32m~/miniconda3/lib/python3.7/site-packages/pandas/io/parsers.py\u001b[0m in \u001b[0;36m_read\u001b[0;34m(filepath_or_buffer, kwds)\u001b[0m\n\u001b[1;32m    455\u001b[0m \u001b[0;34m\u001b[0m\u001b[0m\n\u001b[1;32m    456\u001b[0m     \u001b[0;31m# Create the parser.\u001b[0m\u001b[0;34m\u001b[0m\u001b[0;34m\u001b[0m\u001b[0;34m\u001b[0m\u001b[0m\n\u001b[0;32m--> 457\u001b[0;31m     \u001b[0mparser\u001b[0m \u001b[0;34m=\u001b[0m \u001b[0mTextFileReader\u001b[0m\u001b[0;34m(\u001b[0m\u001b[0mfp_or_buf\u001b[0m\u001b[0;34m,\u001b[0m \u001b[0;34m**\u001b[0m\u001b[0mkwds\u001b[0m\u001b[0;34m)\u001b[0m\u001b[0;34m\u001b[0m\u001b[0;34m\u001b[0m\u001b[0m\n\u001b[0m\u001b[1;32m    458\u001b[0m \u001b[0;34m\u001b[0m\u001b[0m\n\u001b[1;32m    459\u001b[0m     \u001b[0;32mif\u001b[0m \u001b[0mchunksize\u001b[0m \u001b[0;32mor\u001b[0m \u001b[0miterator\u001b[0m\u001b[0;34m:\u001b[0m\u001b[0;34m\u001b[0m\u001b[0;34m\u001b[0m\u001b[0m\n",
      "\u001b[0;32m~/miniconda3/lib/python3.7/site-packages/pandas/io/parsers.py\u001b[0m in \u001b[0;36m__init__\u001b[0;34m(self, f, engine, **kwds)\u001b[0m\n\u001b[1;32m    893\u001b[0m             \u001b[0mself\u001b[0m\u001b[0;34m.\u001b[0m\u001b[0moptions\u001b[0m\u001b[0;34m[\u001b[0m\u001b[0;34m\"has_index_names\"\u001b[0m\u001b[0;34m]\u001b[0m \u001b[0;34m=\u001b[0m \u001b[0mkwds\u001b[0m\u001b[0;34m[\u001b[0m\u001b[0;34m\"has_index_names\"\u001b[0m\u001b[0;34m]\u001b[0m\u001b[0;34m\u001b[0m\u001b[0;34m\u001b[0m\u001b[0m\n\u001b[1;32m    894\u001b[0m \u001b[0;34m\u001b[0m\u001b[0m\n\u001b[0;32m--> 895\u001b[0;31m         \u001b[0mself\u001b[0m\u001b[0;34m.\u001b[0m\u001b[0m_make_engine\u001b[0m\u001b[0;34m(\u001b[0m\u001b[0mself\u001b[0m\u001b[0;34m.\u001b[0m\u001b[0mengine\u001b[0m\u001b[0;34m)\u001b[0m\u001b[0;34m\u001b[0m\u001b[0;34m\u001b[0m\u001b[0m\n\u001b[0m\u001b[1;32m    896\u001b[0m \u001b[0;34m\u001b[0m\u001b[0m\n\u001b[1;32m    897\u001b[0m     \u001b[0;32mdef\u001b[0m \u001b[0mclose\u001b[0m\u001b[0;34m(\u001b[0m\u001b[0mself\u001b[0m\u001b[0;34m)\u001b[0m\u001b[0;34m:\u001b[0m\u001b[0;34m\u001b[0m\u001b[0;34m\u001b[0m\u001b[0m\n",
      "\u001b[0;32m~/miniconda3/lib/python3.7/site-packages/pandas/io/parsers.py\u001b[0m in \u001b[0;36m_make_engine\u001b[0;34m(self, engine)\u001b[0m\n\u001b[1;32m   1133\u001b[0m     \u001b[0;32mdef\u001b[0m \u001b[0m_make_engine\u001b[0m\u001b[0;34m(\u001b[0m\u001b[0mself\u001b[0m\u001b[0;34m,\u001b[0m \u001b[0mengine\u001b[0m\u001b[0;34m=\u001b[0m\u001b[0;34m\"c\"\u001b[0m\u001b[0;34m)\u001b[0m\u001b[0;34m:\u001b[0m\u001b[0;34m\u001b[0m\u001b[0;34m\u001b[0m\u001b[0m\n\u001b[1;32m   1134\u001b[0m         \u001b[0;32mif\u001b[0m \u001b[0mengine\u001b[0m \u001b[0;34m==\u001b[0m \u001b[0;34m\"c\"\u001b[0m\u001b[0;34m:\u001b[0m\u001b[0;34m\u001b[0m\u001b[0;34m\u001b[0m\u001b[0m\n\u001b[0;32m-> 1135\u001b[0;31m             \u001b[0mself\u001b[0m\u001b[0;34m.\u001b[0m\u001b[0m_engine\u001b[0m \u001b[0;34m=\u001b[0m \u001b[0mCParserWrapper\u001b[0m\u001b[0;34m(\u001b[0m\u001b[0mself\u001b[0m\u001b[0;34m.\u001b[0m\u001b[0mf\u001b[0m\u001b[0;34m,\u001b[0m \u001b[0;34m**\u001b[0m\u001b[0mself\u001b[0m\u001b[0;34m.\u001b[0m\u001b[0moptions\u001b[0m\u001b[0;34m)\u001b[0m\u001b[0;34m\u001b[0m\u001b[0;34m\u001b[0m\u001b[0m\n\u001b[0m\u001b[1;32m   1136\u001b[0m         \u001b[0;32melse\u001b[0m\u001b[0;34m:\u001b[0m\u001b[0;34m\u001b[0m\u001b[0;34m\u001b[0m\u001b[0m\n\u001b[1;32m   1137\u001b[0m             \u001b[0;32mif\u001b[0m \u001b[0mengine\u001b[0m \u001b[0;34m==\u001b[0m \u001b[0;34m\"python\"\u001b[0m\u001b[0;34m:\u001b[0m\u001b[0;34m\u001b[0m\u001b[0;34m\u001b[0m\u001b[0m\n",
      "\u001b[0;32m~/miniconda3/lib/python3.7/site-packages/pandas/io/parsers.py\u001b[0m in \u001b[0;36m__init__\u001b[0;34m(self, src, **kwds)\u001b[0m\n\u001b[1;32m   1915\u001b[0m         \u001b[0mkwds\u001b[0m\u001b[0;34m[\u001b[0m\u001b[0;34m\"usecols\"\u001b[0m\u001b[0;34m]\u001b[0m \u001b[0;34m=\u001b[0m \u001b[0mself\u001b[0m\u001b[0;34m.\u001b[0m\u001b[0musecols\u001b[0m\u001b[0;34m\u001b[0m\u001b[0;34m\u001b[0m\u001b[0m\n\u001b[1;32m   1916\u001b[0m \u001b[0;34m\u001b[0m\u001b[0m\n\u001b[0;32m-> 1917\u001b[0;31m         \u001b[0mself\u001b[0m\u001b[0;34m.\u001b[0m\u001b[0m_reader\u001b[0m \u001b[0;34m=\u001b[0m \u001b[0mparsers\u001b[0m\u001b[0;34m.\u001b[0m\u001b[0mTextReader\u001b[0m\u001b[0;34m(\u001b[0m\u001b[0msrc\u001b[0m\u001b[0;34m,\u001b[0m \u001b[0;34m**\u001b[0m\u001b[0mkwds\u001b[0m\u001b[0;34m)\u001b[0m\u001b[0;34m\u001b[0m\u001b[0;34m\u001b[0m\u001b[0m\n\u001b[0m\u001b[1;32m   1918\u001b[0m         \u001b[0mself\u001b[0m\u001b[0;34m.\u001b[0m\u001b[0munnamed_cols\u001b[0m \u001b[0;34m=\u001b[0m \u001b[0mself\u001b[0m\u001b[0;34m.\u001b[0m\u001b[0m_reader\u001b[0m\u001b[0;34m.\u001b[0m\u001b[0munnamed_cols\u001b[0m\u001b[0;34m\u001b[0m\u001b[0;34m\u001b[0m\u001b[0m\n\u001b[1;32m   1919\u001b[0m \u001b[0;34m\u001b[0m\u001b[0m\n",
      "\u001b[0;32mpandas/_libs/parsers.pyx\u001b[0m in \u001b[0;36mpandas._libs.parsers.TextReader.__cinit__\u001b[0;34m()\u001b[0m\n",
      "\u001b[0;32mpandas/_libs/parsers.pyx\u001b[0m in \u001b[0;36mpandas._libs.parsers.TextReader._setup_parser_source\u001b[0;34m()\u001b[0m\n",
      "\u001b[0;31mFileNotFoundError\u001b[0m: [Errno 2] File b'jobs.csv' does not exist: b'jobs.csv'"
     ]
    }
   ],
   "source": [
    "jobs = pd.read_csv('jobs.csv')\n",
    "jobs"
   ]
  },
  {
   "cell_type": "code",
   "execution_count": 57,
   "metadata": {
    "slideshow": {
     "slide_type": "slide"
    }
   },
   "outputs": [
    {
     "output_type": "error",
     "ename": "NameError",
     "evalue": "name 'jobs' is not defined",
     "traceback": [
      "\u001b[0;31m---------------------------------------------------------------------------\u001b[0m",
      "\u001b[0;31mNameError\u001b[0m                                 Traceback (most recent call last)",
      "\u001b[0;32m<ipython-input-57-7227b52ab28f>\u001b[0m in \u001b[0;36m<module>\u001b[0;34m\u001b[0m\n\u001b[0;32m----> 1\u001b[0;31m \u001b[0mjobs\u001b[0m\u001b[0;34m[\u001b[0m\u001b[0;34m'Application'\u001b[0m\u001b[0;34m]\u001b[0m\u001b[0;34m.\u001b[0m\u001b[0mvalue_counts\u001b[0m\u001b[0;34m(\u001b[0m\u001b[0;34m)\u001b[0m\u001b[0;34m\u001b[0m\u001b[0;34m\u001b[0m\u001b[0m\n\u001b[0m",
      "\u001b[0;31mNameError\u001b[0m: name 'jobs' is not defined"
     ]
    }
   ],
   "source": [
    "jobs['Application'].value_counts()"
   ]
  },
  {
   "cell_type": "code",
   "execution_count": 58,
   "metadata": {
    "slideshow": {
     "slide_type": "fragment"
    }
   },
   "outputs": [
    {
     "output_type": "error",
     "ename": "NameError",
     "evalue": "name 'jobs' is not defined",
     "traceback": [
      "\u001b[0;31m---------------------------------------------------------------------------\u001b[0m",
      "\u001b[0;31mNameError\u001b[0m                                 Traceback (most recent call last)",
      "\u001b[0;32m<ipython-input-58-43c23531a445>\u001b[0m in \u001b[0;36m<module>\u001b[0;34m\u001b[0m\n\u001b[0;32m----> 1\u001b[0;31m \u001b[0mjobs\u001b[0m\u001b[0;34m[\u001b[0m\u001b[0mjobs\u001b[0m\u001b[0;34m[\u001b[0m\u001b[0;34m'MPI'\u001b[0m\u001b[0;34m]\u001b[0m\u001b[0;34m]\u001b[0m\u001b[0;34m[\u001b[0m\u001b[0;34m'Group'\u001b[0m\u001b[0;34m]\u001b[0m\u001b[0;34m.\u001b[0m\u001b[0mvalue_counts\u001b[0m\u001b[0;34m(\u001b[0m\u001b[0;34m)\u001b[0m\u001b[0;34m/\u001b[0m\u001b[0mjobs\u001b[0m\u001b[0;34m[\u001b[0m\u001b[0;34m'Group'\u001b[0m\u001b[0;34m]\u001b[0m\u001b[0;34m.\u001b[0m\u001b[0mvalue_counts\u001b[0m\u001b[0;34m(\u001b[0m\u001b[0;34m)\u001b[0m\u001b[0;34m\u001b[0m\u001b[0;34m\u001b[0m\u001b[0m\n\u001b[0m",
      "\u001b[0;31mNameError\u001b[0m: name 'jobs' is not defined"
     ]
    }
   ],
   "source": [
    "jobs[jobs['MPI']]['Group'].value_counts()/jobs['Group'].value_counts()"
   ]
  },
  {
   "cell_type": "markdown",
   "metadata": {
    "slideshow": {
     "slide_type": "slide"
    }
   },
   "source": [
    "# Time Series Data\n",
    "\n",
    "Pandas has a whole set of special features for time series data. I recommend checking out their documentation for a more full description: https://pandas.pydata.org/pandas-docs/stable/timeseries.html"
   ]
  },
  {
   "cell_type": "code",
   "execution_count": 59,
   "metadata": {
    "slideshow": {
     "slide_type": "-"
    }
   },
   "outputs": [
    {
     "output_type": "execute_result",
     "data": {
      "text/plain": "2011-01-01 00:00:00   -0.092614\n2011-01-01 01:00:00    0.237397\n2011-01-01 02:00:00    0.184815\n2011-01-01 03:00:00    0.552175\n2011-01-01 04:00:00    1.079958\nFreq: H, dtype: float64"
     },
     "metadata": {},
     "execution_count": 59
    }
   ],
   "source": [
    "rng = pd.date_range('1/1/2011', periods=72, freq='H')\n",
    "ts = pd.Series(np.random.randn(len(rng)), index=rng)\n",
    "ts.head()"
   ]
  },
  {
   "cell_type": "markdown",
   "metadata": {
    "slideshow": {
     "slide_type": "slide"
    }
   },
   "source": [
    "## Indexing with ranges"
   ]
  },
  {
   "cell_type": "code",
   "execution_count": 60,
   "metadata": {
    "slideshow": {
     "slide_type": "fragment"
    }
   },
   "outputs": [
    {
     "output_type": "execute_result",
     "data": {
      "text/plain": "2011-01-01 23:00:00   -0.458153\n2011-01-02 00:00:00    1.587451\n2011-01-02 01:00:00    1.177152\n2011-01-02 02:00:00    2.317960\n2011-01-02 03:00:00   -0.673925\n2011-01-02 04:00:00   -0.875090\nFreq: H, dtype: float64"
     },
     "metadata": {},
     "execution_count": 60
    }
   ],
   "source": [
    "ts['1/1/2011 23:00:00':'1/2/2011  4:30:00']"
   ]
  },
  {
   "cell_type": "markdown",
   "metadata": {
    "slideshow": {
     "slide_type": "slide"
    }
   },
   "source": [
    "## Change frequency and fill gaps"
   ]
  },
  {
   "cell_type": "code",
   "execution_count": 61,
   "metadata": {
    "slideshow": {
     "slide_type": "fragment"
    }
   },
   "outputs": [
    {
     "output_type": "execute_result",
     "data": {
      "text/plain": "2011-01-01 00:00:00   -0.092614\n2011-01-01 00:45:00   -0.092614\n2011-01-01 01:30:00    0.237397\n2011-01-01 02:15:00    0.184815\n2011-01-01 03:00:00    0.552175\nFreq: 45T, dtype: float64"
     },
     "metadata": {},
     "execution_count": 61
    }
   ],
   "source": [
    "# to 45 minute frequency and forward fill\n",
    "converted = ts.asfreq('45Min', method='pad')\n",
    "converted.head()"
   ]
  },
  {
   "cell_type": "markdown",
   "metadata": {
    "slideshow": {
     "slide_type": "fragment"
    }
   },
   "source": [
    "All these operations can also be performed using timestamps (i.e. also include a time of day), period of time and epochs."
   ]
  },
  {
   "cell_type": "markdown",
   "metadata": {
    "slideshow": {
     "slide_type": "slide"
    }
   },
   "source": [
    "# Interesting Caveats about Dataframes"
   ]
  },
  {
   "cell_type": "markdown",
   "metadata": {
    "slideshow": {
     "slide_type": "fragment"
    }
   },
   "source": [
    "## Data is shared between Data Frame and ND-array"
   ]
  },
  {
   "cell_type": "code",
   "execution_count": 62,
   "metadata": {},
   "outputs": [
    {
     "output_type": "execute_result",
     "data": {
      "text/plain": "          a         b         c\nA  0.567406  0.410626  0.437069\nB  0.938138  0.081710  0.124884\nC  0.484407  0.471618  0.543759\nD  0.190310  0.662066  0.572799\nE  0.039795  0.397919  0.313647",
      "text/html": "<div>\n<style scoped>\n    .dataframe tbody tr th:only-of-type {\n        vertical-align: middle;\n    }\n\n    .dataframe tbody tr th {\n        vertical-align: top;\n    }\n\n    .dataframe thead th {\n        text-align: right;\n    }\n</style>\n<table border=\"1\" class=\"dataframe\">\n  <thead>\n    <tr style=\"text-align: right;\">\n      <th></th>\n      <th>a</th>\n      <th>b</th>\n      <th>c</th>\n    </tr>\n  </thead>\n  <tbody>\n    <tr>\n      <th>A</th>\n      <td>0.567406</td>\n      <td>0.410626</td>\n      <td>0.437069</td>\n    </tr>\n    <tr>\n      <th>B</th>\n      <td>0.938138</td>\n      <td>0.081710</td>\n      <td>0.124884</td>\n    </tr>\n    <tr>\n      <th>C</th>\n      <td>0.484407</td>\n      <td>0.471618</td>\n      <td>0.543759</td>\n    </tr>\n    <tr>\n      <th>D</th>\n      <td>0.190310</td>\n      <td>0.662066</td>\n      <td>0.572799</td>\n    </tr>\n    <tr>\n      <th>E</th>\n      <td>0.039795</td>\n      <td>0.397919</td>\n      <td>0.313647</td>\n    </tr>\n  </tbody>\n</table>\n</div>"
     },
     "metadata": {},
     "execution_count": 62
    }
   ],
   "source": [
    "m = np.random.rand(5,3)\n",
    "df = pd.DataFrame(m, \n",
    "                  columns=['a', 'b', 'c'],\n",
    "                  index=['A','B','C','D','E'])\n",
    "df"
   ]
  },
  {
   "cell_type": "code",
   "execution_count": 63,
   "metadata": {
    "scrolled": true,
    "slideshow": {
     "slide_type": "slide"
    }
   },
   "outputs": [
    {
     "output_type": "execute_result",
     "data": {
      "text/plain": "           a         b         c\nA  10.000000  0.410626  0.437069\nB   0.938138  0.081710  0.124884\nC   0.484407  0.471618  0.543759\nD   0.190310  0.662066  0.572799\nE   0.039795  0.397919  0.313647",
      "text/html": "<div>\n<style scoped>\n    .dataframe tbody tr th:only-of-type {\n        vertical-align: middle;\n    }\n\n    .dataframe tbody tr th {\n        vertical-align: top;\n    }\n\n    .dataframe thead th {\n        text-align: right;\n    }\n</style>\n<table border=\"1\" class=\"dataframe\">\n  <thead>\n    <tr style=\"text-align: right;\">\n      <th></th>\n      <th>a</th>\n      <th>b</th>\n      <th>c</th>\n    </tr>\n  </thead>\n  <tbody>\n    <tr>\n      <th>A</th>\n      <td>10.000000</td>\n      <td>0.410626</td>\n      <td>0.437069</td>\n    </tr>\n    <tr>\n      <th>B</th>\n      <td>0.938138</td>\n      <td>0.081710</td>\n      <td>0.124884</td>\n    </tr>\n    <tr>\n      <th>C</th>\n      <td>0.484407</td>\n      <td>0.471618</td>\n      <td>0.543759</td>\n    </tr>\n    <tr>\n      <th>D</th>\n      <td>0.190310</td>\n      <td>0.662066</td>\n      <td>0.572799</td>\n    </tr>\n    <tr>\n      <th>E</th>\n      <td>0.039795</td>\n      <td>0.397919</td>\n      <td>0.313647</td>\n    </tr>\n  </tbody>\n</table>\n</div>"
     },
     "metadata": {},
     "execution_count": 63
    }
   ],
   "source": [
    "m[0,0] = 10.0\n",
    "df"
   ]
  },
  {
   "cell_type": "markdown",
   "metadata": {
    "slideshow": {
     "slide_type": "slide"
    }
   },
   "source": [
    "## Some methods create new Data Frames"
   ]
  },
  {
   "cell_type": "code",
   "execution_count": 64,
   "metadata": {
    "collapsed": true
   },
   "outputs": [],
   "source": [
    "# add new column\n",
    "df = df.assign(d=np.abs(df['c']))"
   ]
  },
  {
   "cell_type": "code",
   "execution_count": 65,
   "metadata": {
    "slideshow": {
     "slide_type": "fragment"
    }
   },
   "outputs": [
    {
     "output_type": "execute_result",
     "data": {
      "text/plain": "           a         b         c         d\nA  10.000000  0.410626  0.437069  0.437069\nB   0.938138  0.081710  0.124884  0.124884\nC   0.484407  0.471618  0.543759  0.543759\nD   0.190310  0.662066  0.572799  0.572799\nE   0.039795  0.397919  0.313647  0.313647",
      "text/html": "<div>\n<style scoped>\n    .dataframe tbody tr th:only-of-type {\n        vertical-align: middle;\n    }\n\n    .dataframe tbody tr th {\n        vertical-align: top;\n    }\n\n    .dataframe thead th {\n        text-align: right;\n    }\n</style>\n<table border=\"1\" class=\"dataframe\">\n  <thead>\n    <tr style=\"text-align: right;\">\n      <th></th>\n      <th>a</th>\n      <th>b</th>\n      <th>c</th>\n      <th>d</th>\n    </tr>\n  </thead>\n  <tbody>\n    <tr>\n      <th>A</th>\n      <td>10.000000</td>\n      <td>0.410626</td>\n      <td>0.437069</td>\n      <td>0.437069</td>\n    </tr>\n    <tr>\n      <th>B</th>\n      <td>0.938138</td>\n      <td>0.081710</td>\n      <td>0.124884</td>\n      <td>0.124884</td>\n    </tr>\n    <tr>\n      <th>C</th>\n      <td>0.484407</td>\n      <td>0.471618</td>\n      <td>0.543759</td>\n      <td>0.543759</td>\n    </tr>\n    <tr>\n      <th>D</th>\n      <td>0.190310</td>\n      <td>0.662066</td>\n      <td>0.572799</td>\n      <td>0.572799</td>\n    </tr>\n    <tr>\n      <th>E</th>\n      <td>0.039795</td>\n      <td>0.397919</td>\n      <td>0.313647</td>\n      <td>0.313647</td>\n    </tr>\n  </tbody>\n</table>\n</div>"
     },
     "metadata": {},
     "execution_count": 65
    }
   ],
   "source": [
    "# df has not changed\n",
    "df"
   ]
  }
 ],
 "metadata": {
  "anaconda-cloud": {},
  "celltoolbar": "Slideshow",
  "kernelspec": {
   "display_name": "Python 3",
   "language": "python",
   "name": "python3"
  },
  "language_info": {
   "codemirror_mode": {
    "name": "ipython",
    "version": 3
   },
   "file_extension": ".py",
   "mimetype": "text/x-python",
   "name": "python",
   "nbconvert_exporter": "python",
   "pygments_lexer": "ipython3",
   "version": "3.7.4-final"
  }
 },
 "nbformat": 4,
 "nbformat_minor": 1
}