{
 "metadata": {
  "language_info": {
   "codemirror_mode": {
    "name": "ipython",
    "version": 3
   },
   "file_extension": ".py",
   "mimetype": "text/x-python",
   "name": "python",
   "nbconvert_exporter": "python",
   "pygments_lexer": "ipython3",
   "version": "3.7.4-final"
  },
  "orig_nbformat": 2,
  "kernelspec": {
   "name": "python_defaultSpec_1601685280299",
   "display_name": "Python 3.7.4 64-bit ('base': conda)"
  }
 },
 "nbformat": 4,
 "nbformat_minor": 2,
 "cells": [
  {
   "cell_type": "code",
   "execution_count": 13,
   "metadata": {},
   "outputs": [
    {
     "output_type": "execute_result",
     "data": {
      "text/plain": "'Nếu là chim tôi sẽ là loài bồ_câu trắng . Hôm_nay , em đi học'"
     },
     "metadata": {},
     "execution_count": 13
    }
   ],
   "source": [
    "from pyvi import ViTokenizer, ViPosTagger\n",
    "\n",
    "ViTokenizer.tokenize(u\"Nếu là chim tôi sẽ là loài bồ câu trắng. Hôm nay, em đi học\")"
   ]
  },
  {
   "cell_type": "code",
   "execution_count": 14,
   "metadata": {},
   "outputs": [
    {
     "output_type": "execute_result",
     "data": {
      "text/plain": "(['Trường', 'Đại_học', 'Công_nghệ', '-', 'Đại_học', 'quốc_gia', 'hà_nội'],\n ['N', 'N', 'N', 'F', 'N', 'N', 'Np'])"
     },
     "metadata": {},
     "execution_count": 14
    }
   ],
   "source": [
    "ViPosTagger.postagging(ViTokenizer.tokenize(\"Trường Đại học Công nghệ - Đại học quốc gia hà nội\"))"
   ]
  },
  {
   "cell_type": "code",
   "execution_count": 15,
   "metadata": {},
   "outputs": [
    {
     "output_type": "execute_result",
     "data": {
      "text/plain": "'Truong dai_hoc bach_khoa ha_noi'"
     },
     "metadata": {},
     "execution_count": 15
    }
   ],
   "source": [
    "from pyvi import ViUtils\n",
    "str = ViTokenizer.tokenize(u\"Trường đại học bách khoa hà nội\")\n",
    "no_accent = ViUtils.remove_accents(str).decode('utf-8')\n",
    "no_accent"
   ]
  },
  {
   "cell_type": "code",
   "execution_count": 17,
   "metadata": {},
   "outputs": [
    {
     "output_type": "execute_result",
     "data": {
      "text/plain": "'Vì lý tưởng của bắc hồ Vì dài. Ready'"
     },
     "metadata": {},
     "execution_count": 17
    }
   ],
   "source": [
    "from pyvi import ViUtils\n",
    "ViUtils.add_accents(u'vi ly tuong cua Bac Ho vi dai. Ready')"
   ]
  },
  {
   "cell_type": "code",
   "execution_count": null,
   "metadata": {},
   "outputs": [],
   "source": []
  }
 ]
}