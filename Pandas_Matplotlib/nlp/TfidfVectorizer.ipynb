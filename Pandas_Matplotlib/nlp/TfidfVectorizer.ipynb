{
 "metadata": {
  "language_info": {
   "codemirror_mode": {
    "name": "ipython",
    "version": 3
   },
   "file_extension": ".py",
   "mimetype": "text/x-python",
   "name": "python",
   "nbconvert_exporter": "python",
   "pygments_lexer": "ipython3",
   "version": "3.7.4-final"
  },
  "orig_nbformat": 2,
  "kernelspec": {
   "name": "python_defaultSpec_1601702617817",
   "display_name": "Python 3.7.4 64-bit ('base': conda)"
  }
 },
 "nbformat": 4,
 "nbformat_minor": 2,
 "cells": [
  {
   "cell_type": "code",
   "execution_count": 28,
   "metadata": {
    "tags": []
   },
   "outputs": [
    {
     "output_type": "stream",
     "name": "stdout",
     "text": "(0, 6)\t0.7852882757103967\n  (0, 1)\t0.6191302964899972\n  (1, 8)\t0.5254727492640658\n  (1, 7)\t0.5254727492640658\n  (1, 5)\t0.5254727492640658\n  (1, 2)\t0.41428875116588965\n  (2, 9)\t0.48693426407352264\n  (2, 6)\t0.6176143709756019\n  (2, 0)\t0.6176143709756019\n['cataluynha', 'chiến_thắng', 'dân', 'phản_đối', 'thuế', 'thủ_tướng', 'xứ', 'yêu_cầu', 'đeo', 'đội_bóng']\n"
    }
   ],
   "source": [
    "from sklearn.feature_extraction.text import TfidfVectorizer\n",
    "\n",
    "corpus = [\n",
    "    'Hôm_nay messi giúp đội_bóng chiến_thắng',\n",
    "    'Thủ_tướng yêu_cầu người dân đeo khẩu_trang',\n",
    "    'Đội_bóng xứ Cataluynha giành chiến_thắNG',\n",
    "    'Dân phản_đối đóng thuế', \n",
    "]\n",
    "\n",
    "# max, min df: lấy các n-grams có document frequency trong đoạn nào đó \n",
    "# return features \n",
    "vectorizer = TfidfVectorizer(min_df = 0.15, max_df = 0.9, max_features= 10)\n",
    "\n",
    "# get sparse matrix of feature \n",
    "text_X = vectorizer.fit_transform(corpus)\n",
    "\n",
    "# get selected terms \n",
    "print(vectorizer.get_feature_names())\n",
    "\n",
    "new_corpus = [\n",
    "    'chiến_thắng hihi thuê xứ',\n",
    "    'Thủ_tướng yêu_cầu người dân đeo khẩu_trang',\n",
    "    'Đội_bóng xứ Cataluynha gi'\n",
    "]\n",
    "# extract features from new data \n",
    "print(vectorizer.transform(new_corpus, copy='deprecated'))\n"
   ]
  },
  {
   "cell_type": "code",
   "execution_count": 7,
   "metadata": {
    "tags": []
   },
   "outputs": [
    {
     "output_type": "execute_result",
     "data": {
      "text/plain": "array([1, 0, 1, 0])"
     },
     "metadata": {},
     "execution_count": 7
    }
   ],
   "source": [
    "import pandas as pd\n",
    "\n",
    "text_y = pd.Series([1, 0, 1, 0])\n",
    "\n",
    "from sklearn.naive_bayes import GaussianNB\n",
    "naive_model = GaussianNB()\n",
    "\n",
    "# convert sparse matrix to dataframe \n",
    "naive_model.fit(text_X.toarray(), text_y)\n",
    "text_X.toarray()\n",
    "\n",
    "naive_predict = naive_model.predict(text_X.toarray())\n",
    "naive_predict"
   ]
  }
 ]
}