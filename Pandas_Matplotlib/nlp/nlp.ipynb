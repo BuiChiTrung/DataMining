{
 "metadata": {
  "language_info": {
   "codemirror_mode": {
    "name": "ipython",
    "version": 3
   },
   "file_extension": ".py",
   "mimetype": "text/x-python",
   "name": "python",
   "nbconvert_exporter": "python",
   "pygments_lexer": "ipython3",
   "version": "3.7.4-final"
  },
  "orig_nbformat": 2,
  "kernelspec": {
   "name": "python_defaultSpec_1601685280292",
   "display_name": "Python 3.7.4 64-bit ('base': conda)"
  }
 },
 "nbformat": 4,
 "nbformat_minor": 2,
 "cells": [
  {
   "source": [
    "### Initialize"
   ],
   "cell_type": "markdown",
   "metadata": {}
  },
  {
   "cell_type": "code",
   "execution_count": 62,
   "metadata": {},
   "outputs": [],
   "source": [
    "import pandas as pd \n",
    "from sklearn.model_selection import train_test_split\n",
    "from sklearn.metrics import classification_report, accuracy_score\n",
    "\n",
    "TRAINING_FILE = \"/home/straw/Data_mining/Pandas_Matplotlib/nlp/training_handled.csv\"\n",
    "TESTING_FILE = \"/home/straw/Data_mining/Pandas_Matplotlib/nlp/testing_handled.csv\""
   ]
  },
  {
   "source": [
    "### Extract label array, corpus from handled file "
   ],
   "cell_type": "markdown",
   "metadata": {}
  },
  {
   "cell_type": "code",
   "execution_count": 13,
   "metadata": {},
   "outputs": [],
   "source": [
    "with open(TRAINING_FILE, 'r') as inp_file:\n",
    "    data = inp_file.readlines()\n",
    "    corpus = []\n",
    "    nlp_y = []\n",
    "\n",
    "    for line in data:\n",
    "        line = line.split('\\\"')\n",
    "        nlp_y.append(line[1])\n",
    "        corpus.append(line[3])\n",
    "    inp_file.close()"
   ]
  },
  {
   "source": [
    "### Get features matrix using tf-idf\n",
    "1.tf - term frequency \n",
    "2.idf - inverse document frequency "
   ],
   "cell_type": "markdown",
   "metadata": {}
  },
  {
   "cell_type": "code",
   "execution_count": 23,
   "metadata": {},
   "outputs": [],
   "source": [
    "from sklearn.feature_extraction.text import TfidfVectorizer\n",
    "\n",
    "vectorizer = TfidfVectorizer()\n",
    "\n",
    "# convert from sparse matrix => numpy array => dataframe\n",
    "nlp_X = vectorizer.fit_transform(corpus).toarray()\n",
    "nlp_X = pd.DataFrame(nlp_X, columns = vectorizer.get_feature_names())\n",
    "\n",
    "# split features matrix nlp_X, target array nlp_y using 4-fold cross validation\n",
    "train_X, test_X, train_y, test_y = train_test_split(nlp_X, nlp_y, train_size = 0.75, shuffle = True, random_state = 16)"
   ]
  },
  {
   "source": [
    "### Define each Model as an object of class Classifier Model \n",
    "#### Ps: cái này e tham khảo idol Nguyễn Minh Quang - aka Moi\n"
   ],
   "cell_type": "markdown",
   "metadata": {}
  },
  {
   "cell_type": "code",
   "execution_count": 15,
   "metadata": {},
   "outputs": [],
   "source": [
    "class ClassifierModel(object):\n",
    "    def __init__(self, features_train = None, labels_train = None,  estimator = None, features_test = None, labels_test = None):\n",
    "        self.features_train = features_train\n",
    "        self.features_test = features_test\n",
    "        self.labels_train = labels_train\n",
    "        self.labels_test = labels_test\n",
    "        self.estimator = estimator\n",
    "    def get_estimator(self):\n",
    "        return self.estimator\n",
    "    def train(self):\n",
    "        self.estimator.fit(self.features_train, self.labels_train)\n",
    "        self.get_result()\n",
    "    def predict(self,input):\n",
    "        return self.estimator.predict(input)\n",
    "    \"\"\"\n",
    "        predict and retrive classificatino_report (precision, recall, accuracy, f1 score)\n",
    "    \"\"\"\n",
    "    def get_result(self):\n",
    "        y_true, y_pred = self.labels_test, self.estimator.predict(self.features_test)\n",
    "        print(classification_report(y_true, y_pred))"
   ]
  },
  {
   "source": [
    "### Naive Bayes model "
   ],
   "cell_type": "markdown",
   "metadata": {}
  },
  {
   "cell_type": "code",
   "execution_count": 25,
   "metadata": {
    "tags": []
   },
   "outputs": [
    {
     "output_type": "stream",
     "name": "stdout",
     "text": "precision    recall  f1-score   support\n\n    __CTXH__       0.61      0.70      0.65       122\n      __DS__       0.76      0.76      0.76       134\n      __KD__       0.85      0.75      0.80       130\n      __KH__       0.69      0.73      0.71       113\n      __PL__       0.87      0.80      0.83       122\n      __SK__       0.87      0.81      0.84       130\n      __TG__       0.85      0.91      0.88       122\n      __TT__       0.97      0.94      0.95       118\n      __VH__       0.77      0.87      0.82       134\n      __VT__       0.89      0.77      0.82       125\n\n    accuracy                           0.80      1250\n   macro avg       0.81      0.80      0.81      1250\nweighted avg       0.81      0.80      0.81      1250\n\n"
    }
   ],
   "source": [
    "from sklearn.naive_bayes import GaussianNB\n",
    "naive_bayes = ClassifierModel(train_X, train_y, GaussianNB(), test_X, test_y)\n",
    "naive_bayes.train()"
   ]
  },
  {
   "source": [
    "### RandomForest Model \n",
    "1. max_depth: độ sâu cây\n",
    "2. n_estimators: số lượng cây tạo ra \n",
    "3. criterion: độ đo (Gini/Entropy)\n",
    "4. random_state: em không hiểu lắm nhưng thấy cho vào thì nó tăng độ chính xác (nên để trong khoảng 0 -> 42)"
   ],
   "cell_type": "code",
   "metadata": {},
   "execution_count": null,
   "outputs": []
  },
  {
   "cell_type": "code",
   "execution_count": 26,
   "metadata": {
    "tags": []
   },
   "outputs": [
    {
     "output_type": "stream",
     "name": "stdout",
     "text": "precision    recall  f1-score   support\n\n    __CTXH__       0.77      0.63      0.69       122\n      __DS__       0.85      0.79      0.82       134\n      __KD__       0.76      0.88      0.82       130\n      __KH__       0.83      0.77      0.80       113\n      __PL__       0.83      0.93      0.88       122\n      __SK__       0.84      0.88      0.86       130\n      __TG__       0.90      0.88      0.89       122\n      __TT__       0.96      0.97      0.97       118\n      __VH__       0.93      0.93      0.93       134\n      __VT__       0.87      0.85      0.86       125\n\n    accuracy                           0.85      1250\n   macro avg       0.85      0.85      0.85      1250\nweighted avg       0.85      0.85      0.85      1250\n\n"
    }
   ],
   "source": [
    "from sklearn.ensemble import RandomForestClassifier\n",
    "random_forest = ClassifierModel(train_X, train_y, RandomForestClassifier(max_depth = 230, n_estimators = 1000, criterion=\"entropy\", random_state=16), test_X, test_y)\n",
    "random_forest.train()"
   ]
  },
  {
   "source": [
    "### SVM model "
   ],
   "cell_type": "markdown",
   "metadata": {}
  },
  {
   "cell_type": "code",
   "execution_count": 27,
   "metadata": {
    "tags": []
   },
   "outputs": [
    {
     "output_type": "stream",
     "name": "stdout",
     "text": "precision    recall  f1-score   support\n\n    __CTXH__       0.70      0.82      0.75       122\n      __DS__       0.89      0.86      0.87       134\n      __KD__       0.91      0.91      0.91       130\n      __KH__       0.78      0.92      0.85       113\n      __PL__       0.96      0.91      0.93       122\n      __SK__       0.93      0.84      0.88       130\n      __TG__       0.93      0.92      0.92       122\n      __TT__       0.98      0.95      0.97       118\n      __VH__       0.97      0.92      0.94       134\n      __VT__       0.97      0.94      0.95       125\n\n    accuracy                           0.90      1250\n   macro avg       0.90      0.90      0.90      1250\nweighted avg       0.90      0.90      0.90      1250\n\n"
    }
   ],
   "source": [
    "from sklearn.svm import SVC\n",
    "SVM = ClassifierModel(train_X, train_y, SVC(), test_X, test_y)\n",
    "SVM.train()"
   ]
  },
  {
   "source": [
    "### VotingClassifier Model "
   ],
   "cell_type": "markdown",
   "metadata": {}
  },
  {
   "cell_type": "code",
   "execution_count": 28,
   "metadata": {
    "tags": []
   },
   "outputs": [
    {
     "output_type": "stream",
     "name": "stdout",
     "text": "precision    recall  f1-score   support\n\n    __CTXH__       0.72      0.76      0.74       122\n      __DS__       0.90      0.87      0.89       134\n      __KD__       0.91      0.92      0.91       130\n      __KH__       0.84      0.93      0.88       113\n      __PL__       0.93      0.94      0.94       122\n      __SK__       0.93      0.86      0.90       130\n      __TG__       0.93      0.92      0.93       122\n      __TT__       0.98      0.97      0.98       118\n      __VH__       0.95      0.96      0.96       134\n      __VT__       0.97      0.93      0.95       125\n\n    accuracy                           0.91      1250\n   macro avg       0.91      0.91      0.91      1250\nweighted avg       0.91      0.91      0.91      1250\n\n"
    }
   ],
   "source": [
    "from sklearn.ensemble import VotingClassifier\n",
    "voting_classifier_hard = ClassifierModel(train_X, train_y, \n",
    "                                         VotingClassifier(estimators=[(\"naive\", naive_bayes.get_estimator()),\n",
    "                                                                    (\"random_forest\", random_forest.get_estimator()),\n",
    "                                                                    (\"svm\", SVM.get_estimator())],\n",
    "                                                          voting = \"hard\",\n",
    "                                                          weights = [2, 2, 3]), \n",
    "                                         test_X, test_y)\n",
    "voting_classifier_hard.train()"
   ]
  },
  {
   "source": [
    "### Confusion Matrix "
   ],
   "cell_type": "markdown",
   "metadata": {}
  },
  {
   "cell_type": "code",
   "execution_count": 61,
   "metadata": {},
   "outputs": [
    {
     "output_type": "execute_result",
     "data": {
      "text/plain": "      CTXH   DS   KD   KH   PL   SK   TG   TT   VH   VT\nCTXH    93    3    3    6    5    5    4    0    2    1\nDS       5  117    2    4    1    1    0    2    2    0\nKD       7    0  119    1    0    0    1    0    0    2\nKH       3    4    0  105    0    1    0    0    0    0\nPL       5    0    1    0  115    0    1    0    0    0\nSK       6    2    2    7    0  112    0    0    1    0\nTG       4    1    2    0    1    1  112    0    1    0\nTT       2    0    0    0    1    0    0  115    0    0\nVH       1    3    0    0    0    0    1    0  129    0\nVT       3    0    2    2    0    0    1    0    1  116",
      "text/html": "<div>\n<style scoped>\n    .dataframe tbody tr th:only-of-type {\n        vertical-align: middle;\n    }\n\n    .dataframe tbody tr th {\n        vertical-align: top;\n    }\n\n    .dataframe thead th {\n        text-align: right;\n    }\n</style>\n<table border=\"1\" class=\"dataframe\">\n  <thead>\n    <tr style=\"text-align: right;\">\n      <th></th>\n      <th>CTXH</th>\n      <th>DS</th>\n      <th>KD</th>\n      <th>KH</th>\n      <th>PL</th>\n      <th>SK</th>\n      <th>TG</th>\n      <th>TT</th>\n      <th>VH</th>\n      <th>VT</th>\n    </tr>\n  </thead>\n  <tbody>\n    <tr>\n      <th>CTXH</th>\n      <td>93</td>\n      <td>3</td>\n      <td>3</td>\n      <td>6</td>\n      <td>5</td>\n      <td>5</td>\n      <td>4</td>\n      <td>0</td>\n      <td>2</td>\n      <td>1</td>\n    </tr>\n    <tr>\n      <th>DS</th>\n      <td>5</td>\n      <td>117</td>\n      <td>2</td>\n      <td>4</td>\n      <td>1</td>\n      <td>1</td>\n      <td>0</td>\n      <td>2</td>\n      <td>2</td>\n      <td>0</td>\n    </tr>\n    <tr>\n      <th>KD</th>\n      <td>7</td>\n      <td>0</td>\n      <td>119</td>\n      <td>1</td>\n      <td>0</td>\n      <td>0</td>\n      <td>1</td>\n      <td>0</td>\n      <td>0</td>\n      <td>2</td>\n    </tr>\n    <tr>\n      <th>KH</th>\n      <td>3</td>\n      <td>4</td>\n      <td>0</td>\n      <td>105</td>\n      <td>0</td>\n      <td>1</td>\n      <td>0</td>\n      <td>0</td>\n      <td>0</td>\n      <td>0</td>\n    </tr>\n    <tr>\n      <th>PL</th>\n      <td>5</td>\n      <td>0</td>\n      <td>1</td>\n      <td>0</td>\n      <td>115</td>\n      <td>0</td>\n      <td>1</td>\n      <td>0</td>\n      <td>0</td>\n      <td>0</td>\n    </tr>\n    <tr>\n      <th>SK</th>\n      <td>6</td>\n      <td>2</td>\n      <td>2</td>\n      <td>7</td>\n      <td>0</td>\n      <td>112</td>\n      <td>0</td>\n      <td>0</td>\n      <td>1</td>\n      <td>0</td>\n    </tr>\n    <tr>\n      <th>TG</th>\n      <td>4</td>\n      <td>1</td>\n      <td>2</td>\n      <td>0</td>\n      <td>1</td>\n      <td>1</td>\n      <td>112</td>\n      <td>0</td>\n      <td>1</td>\n      <td>0</td>\n    </tr>\n    <tr>\n      <th>TT</th>\n      <td>2</td>\n      <td>0</td>\n      <td>0</td>\n      <td>0</td>\n      <td>1</td>\n      <td>0</td>\n      <td>0</td>\n      <td>115</td>\n      <td>0</td>\n      <td>0</td>\n    </tr>\n    <tr>\n      <th>VH</th>\n      <td>1</td>\n      <td>3</td>\n      <td>0</td>\n      <td>0</td>\n      <td>0</td>\n      <td>0</td>\n      <td>1</td>\n      <td>0</td>\n      <td>129</td>\n      <td>0</td>\n    </tr>\n    <tr>\n      <th>VT</th>\n      <td>3</td>\n      <td>0</td>\n      <td>2</td>\n      <td>2</td>\n      <td>0</td>\n      <td>0</td>\n      <td>1</td>\n      <td>0</td>\n      <td>1</td>\n      <td>116</td>\n    </tr>\n  </tbody>\n</table>\n</div>"
     },
     "metadata": {},
     "execution_count": 61
    }
   ],
   "source": [
    "from sklearn.metrics import confusion_matrix\n",
    "\n",
    "voting_conf_matrix = confusion_matrix(test_y, voting_classifier_hard.predict(test_X))\n",
    "labels = ['CTXH', 'DS', 'KD', 'KH', 'PL', 'SK', 'TG', 'TT', 'VH', 'VT']\n",
    "voting_conf_matrix = pd.DataFrame(voting_conf_matrix, index = labels, columns= labels)\n",
    "\n",
    "voting_conf_matrix\n"
   ]
  },
  {
   "source": [
    "### Extract text from handled testing file "
   ],
   "cell_type": "markdown",
   "metadata": {}
  },
  {
   "cell_type": "code",
   "execution_count": 65,
   "metadata": {},
   "outputs": [
    {
     "output_type": "execute_result",
     "data": {
      "text/plain": "ất_lực tâm_lý Đồng_thời xã_hội hiện_đại đàn_ông đối_mặt công_việc bận_rộn đấu_tranh sinh_tồn uống hút chất kích_thích suy_giảm tình_dục nam_giới Anh sợ kiếm tiền Đàn_ông niềm tiền bổ_sung khiếm_khuyết Thế_là lao kiếm tiền tích_lũy rơi cảnh thanh_toán hàng đống loại_hóa_đơn Vậy thất_nghiệp kiếm tiền Anh sợ vợ Người chồng trụ_cột gia_đình vợ đứa chỗ dựa tinh_thần sống phấn_đấu tổ_ấm trở Vì_thế sợ vợ đương_nhiên xã_hội ngày_nay phụ_nữ quyền bình_đẳng nam_giới ',\n 'Phát_hiện mộ hầu vua Ai Cập_Mộ cận_thần vua Aha vị vua triều_đại Ai Cập cổ_đại phát_hiện_tại Abydos Bằng_chứng kẻ hầu_cận hiến tế đi phục_vụ nhà_vua thế_giới kia Quần_thể Abydos bao_gồm nhà_nguyện nguyên_vẹn bao quanh 6 mộ cận_thần phục_vụ nhà_vua từ_giã cõi_đời Khu_vực nằm mộ vua Aha 1,5 km Ngôi mộ vị vua phát_hiện 1900 nghiên_cứu xương khảo_cổ kết_luận kẻ hầu_cận hiến tế chôn vua Aha Giám_đốc dự_án David O Conner nhận_định phát_hiện ý_nghĩa đế_chế Aha kiến_trúc hoàng_gia Hình_thức sơ_đồ khu_vực mô_hình nhà_nguyện nằm coi khuôn_mẫu công_trình hoàng_gia Abydos O Conner khảo_cổ quần_thể lăng_mộ vị vua triều_đại Ai Cập bao_gồm 3 mộ Điều mộ chứa di_hài xác 10 lừa Chúng phục_vụ mục_đích đi_lại vua thế_giới kia Zahi Hawwas ',\n 'Phá vụ buôn_lậu động_vật hoang_dã Đồng_Nai Cảnh_sát kinh_tế Công_an tỉnh Đồng_Nai phát_hiện đường_dây buôn_bán trái_phép động_vật hoang_dã tồn_tại 5 địa_bàn vợ_chồng Nguyễn_Văn_Phái Huỳnh_Thị_Thuận tổ_chức Tang_vật thu_giữ 300 kg lợn_rừng trăn kỳ_đà 380 kg động_vật hoang_dã quý_hiếm xẻ thịt Liên_quan vụ án 9 trường_hợp bắt_giữ vợ_chồng Phái Thuận bà_con Đây vụ buôn_bán bất_hợp_pháp thú rừng phát_hiện địa_bàn Đồng_Nai kết_quả điều_tra ban_đầu đường_dây Phái cầm_đầu hình_thành 1998 giúp_sức đối_tượng địa_bàn tỉnh Ninh_Thuận Bình_Thuận TP HCM tỉnh Nam_Bộ Phái Công_an huyện Xuân_Lộc xử_phạt hành_chính hành_vi buôn_bán động_vật hoang_dã quý_hiếm Khám vợ_chồng Thuận Phái xã Xuân_Hưng huyện Xuân_Lộc 4 mua_bán thú rừng Công_an thu_giữ 700 kg tang_vật 310 kg động_vật sống lợn_rừng trăn kỳ_đà chồn khỉ gà rừng tê_tê xương thú mật tươi mật khô Hiện thú sống thả rừng thịt phân_hủy đem đi chôn lấp ',\n 'Triển_lãm thị_trường tài_chính tiền_tệ Triển_lãm khai_mạc Trung_tâm triển_lãm Giảng_Võ Hà_Nội tham_gia 5 ngân_hàng quốc_doanh 30 ngân_hàng thương_mại cổ_phần công_ty bảo_hiểm công_ty chứng_khoán doanh_nghiệp cung_cấp công_nghệ ngân_hàng trưng_bày cung_cấp sản_phẩm dịch_vụ ngân_hàng hiện_đại dịch_vụ thanh_toán quốc_tế dịch_vụ chứng_khoán bảo_hiểm sản_phẩm dịch_vụ thẻ dân doanh_nghiệp chủ_đề Thị_trường tài_chính tiền_tệ công_nghiệp_hóa triển_lãm quốc_tế thị_trường tài_chính tiền_tệ hội_tụ hoạt_động giới tài_chính ngân_hàng Việt_Nam Hoạt_động cầu_nối doanh_nghiệp sản_xuất kinh_doanh chủ đầu_tư dự_án tiếp_cận hệ_thống ngân_hàng tổ_chức tài_chính tín_dụng khuôn_khổ Triển_lãm diễn hội_thảo chủ_đề tài_chính ngân_hàng thị_trường chứng_khoán bảo_hiểm Triển_lãm kéo_dài 25 11 ',\n 'Bản 15g Bolivia mở_rộng quốc hữu_hoá ngành kinh_tế Một lĩnh_vực quốc hữu_hoá hầm_mỏ rừng lĩnh_vực kinh_tế hôm_qua tổng_thống Evo_Morales quốc hữu_hoá ngành công_nghiệp dầu_khí 38 thiệt_mạng vụ bạo_lực diễn thủ_đô Baghdad Iraq hôm_nay Lệnh cấm xuất_khẩu 10 thịt bò Anh sợ bệnh lở mồm long móng lan rộng hạn Anh xuất_khẩu bò sống sinh 1 8 1996 thịt bò mổ 15 6 1996 Một lực_lượng Hồi_giáo vũ_trang giết chết 35 Ấn_Độ Kashmir chính_phủ Ấn_Độ thương_thuyết phe ly_khai Bạo_lực gia_tăng Sri_Lanka 2 chết vụ tấn_công phe Hổ_Tamil Trùm Mafia Bernardo_Provenzano thông_qua đường truyền video nối nhà_tù bắt Trung_Quốc gây_hấn toà_thánh Vatican tấn_phong linh_mục tỉnh An_Huy thông_qua chấp_thuận toà_thánh Đây hai TQ tấn_phong linh_mục vòng ',\n 'Tự_động tắt máy ý_muốn tính_năng tự_động tắt máy định nhấp mục Timer Add nhập tắt máy Nên ghi_chú nội_dung tắt máy mục Title dễ_dàng Người cảnh_báo âm_thanh tắt máy nhấp mục Sound đánh_dấu ô Enable sound alarm Browse file âm_thanh PC Auto Shutdown dạng âm_thanh MP3 WMA WAV MIDI SND Người địa_chỉ http://www.drivermagician.com/autoshutdown/downloadAutoShutdown.htm tải thử Hiện công_cụ PC Auto Shutdown 2.2 có_mặt cửa_hàng phần_mềm ',\n 'Top 10 thắc_mắc câu lĩnh_vực giới_tính tần_suất như_thường_xuyên liên_tục mặt báo tờ mục Hỏi_đáp sức_khỏe giới_tính Chúng_tôi tổng_kết bình_chọn 1 Kích_cỡ thắc_mắc thắc_mắc Sinh_thời viết lĩnh_vực thắc_mắc phụ_trách BS Trần_Bồng_Sơn câu tầm_cỡ bộ_phận giới_tính đàn_ông thắc_mắc thắc_mắc huyền_thoại huyền_thoại BS David_Reuben tác_giả sách tình_dục bán_chạy lịch_sử xuất_bản 1966 in hàng coi câu thế_kỷ BS Trần_Bồng_Sơn 30 hành_nghề thường_xuyên đều_đặn liên_tục kích_thước ngắn to trăn_trở lo_âu dằn_vặt đau_khổ BS Trần_Bồng_Sơn trả_lời thắc_mắc vẻ ngắn to nho địa_chỉ BS Nguyễn_Thành Như trưởng khoa Nam học bệnh_viện Bình_Dân Tp. HCM. Không thắc_mắc trả_lời báo_viết sức_khỏe giới_tính nam_giới chủ_yếu đề_cập tầm_vóc đàn_ông trọng_điểm coi hiện_tượng thú_vị người_ta đọc câu kích_thước bộ_phận giới_tính phụ_nữ phụ_nữ băn_khoăn chồng bác_sĩ xếp nỗi lo_lắng kích_cỡ nỗi lo_âu hoang_đường thế_giới 2 đỉnh đỉnh cực khoái Sao cảm_giác nhức_nhối ngất_trời nổ tung cơ_thể bủn_rủn châu thân Cụm Như_thế đề_cập cảnh đỉnh văn_hóa phẩm đa_phần coi phim sex trả_lời bác_sĩ Cực khoái đích vươn ước_mơ xảy bắt_buộc Tốt yên_trí hưởng bằng_lòng đòi_hỏi vui tình_dục mật_thiết văn_hóa Ở tình_dục tự_do thoát ràng_buộc tỷ_lệ nữ_giới đỉnh 3 Mạnh yếu bảo làm_ngơ thời đểm rộ qua_mặt kích_cỡ Viagra ra_đời coi viên thuốc uống điều_trị hữu_hiệu rối_loạn cương dương đàn_ông Tin_vui quý lạc_quan hồ_hởi vĩnh_biệt bảo làm_thinh Có trục_trặc viên xong Nhưng đơn_giản Thuốc tác_dụng đối_tượng giá đắt mua thị_trường trôi_nổi giả phân Bởi_vậy rộn bác_sĩ bảo làm_lơ 4 Mất Dính chưởng Câu tờ báo học_trò phe nữ viết thư gửi Mẫu câu quen_thuộc Bọn trinh Có có_thai Nghe miêu_tả loanh_quanh cổng đột_nhập bác_sĩ đi thử thai khám thai 100 % dính chưởng điều_tra xã_hội_học hành_vi thói_quen tình_dục Việt_Nam Durex tiến_hành quan_hệ tình_dục Việt độ phổ_thông trung_học Nhưng hiểu_biết an_toàn tình_dục lờ_mờ sai_lạc vẽ đường hươu chạy tán_loạn thầy cô_giáo bậc phụ_huynh tránh_né trò_chuyện câu_chuyện dậy_thì Và kết_quả câu ‘ Sao bọn lặp_lại 5 Rối_loạn giới_tính câu thời_đại Chỉ quan_sát người_ta lịch_sử đồng_tính luyến nam Và câu hoang_mang giới_tính chữa_trị thoát giải_phẫu chuyển_đổi giới tới_tấp đổ toà_soạn Đây y_học xã_hội Nhiều thắc_mắc đi câu trả_lời thời_đại sống gia_tăng đột_biến_số đồng_tính luyến nam Gần báo_chí đăng_tải ngắn phát_hiện dạng bước_đầu khoa_học Nhật_Bản khí_thải công_nghiệp tác_động xấu cặp nhiễm sắc_thể giới_tính XY. Tuy_nhiên câu trả_lời biện_pháp phòng_tránh khắc_phục Trước_mắt công_việc hoạt_động xã_hội ra_rả kêu_gào tập nhiễm lối sống lành_mạnh trân_trọng gìn_giữ giới_tính thanh_niên thời_đại 6 Tự thỏa_mãn khuyến_khích tội_lỗi Đa_phần viết thư bác_sĩ tật thủ_dâm thái_độ mặc_cảm xấu_hổ Họ thắc_mắc Em hại Có ảnh_hưởng quan_hệ gái Làm_sao chấm_dứt Trả_lời câu 2 quan_điểm phổ_biến bác_sĩ bảo rối_loạn cực khoái thói_quen thõa mãn phái bác_sĩ bảo thời_kỳ bệnh AIDS hoành_hành thủ_dâm tình_dục an_toàn Nói_chung mâu_thuẫn thống_nhất chừng_mực lạm_dụng 7 Tư_thế quan_hệ Anh hư_hỏng phụ_nữ gửi thư bác_sĩ thư kết_luận kiểu_cách kỳ_quái sa đọa ảnh học phim sex bọn gái làng_chơi dạy Họ xúc_phạm hạ_nhục đánh_đồng ngang gái chồng thử_nghiệm tư_thế cổ_điển hợp lẽ tự_nhiên luân_lý xã_hội tiến_hành Nhưng thái_độ bác_sĩ bác_sĩ nữ trả_lời gạt thái_độ căng_thẳng vợ_chồng tư_thế_nào hợp đạo_đức tư_thế_nào phi đạo_đức Nên chiều đem mới_lạ niềm hạnh_phúc hai nữ bác_sĩ thẳng_thắn Anh bệnh_hoạn đòi_hỏi Còn giữ_rịt ý_nghĩ 8 Tình_dục vai_trò phần_trăm hạnh_phúc gia_đình Câu tuyệt đại đa_số nữ_giới trả_lời bác_sĩ con_số tỷ_lệ chính_xác phần_trăm Họ phân con_người khí_chất khí_chất mức_độ đòi_hỏi tình_dục chiếm tỷ_lệ phần_trăm hạnh_phúc gia_đình Tuy_nhiên thống_nhất nam_giới coi_trọng tình_dục nữ_giới nữ_giới coi_trọng tình_cảm nam_giới Và đàn_ông tỷ_lệ bạn_đọc trả_lời 50 % Nghĩa_là 9 Nguội_lạnh sinh nỗi sốt_ruột chồng Khi vợ tỏ thờ_ơ gối chăn bé bố trẻ bố đầu hoang_mang Câu Tại_sao Cô yêu cơ_thể Tình_trạng kéo_dài giúp Câu trả_lời bố ngốc_nghếch tình_cảm Đó triệu_chứng mẹ sinh đi ổn bố đỡ_đần vợ tối_đa nghỉ_ngơi hồi_phục 10 Con_người tắt_lửa Đây thắc_mắc nam nữ độc_giả lứa tiền mãn_kinh Sinh_thời bác_sĩ Trần_Bồng_Sơn trả_lời câu xác_định con_người ham_muốn yêu_đương kinh_nghiệm cụ 85 cụ 64 ham_muốn khả_năng làm_việc Nghĩa_là tắt_lửa tùy nữ tắt nam mặc_dù sống thọ đức chồng ',\n 'Lưu toàn_bộ trang_web 1 mạng trang_web ví_dụ trang hướng_dẫn web Em lưu toàn_bộ trang_web lưu đĩa cd đem máy truy_cập dịch_vụ nhấn save as lưu trang đầu thư_mục hình_ảnh tiêu Xin lưu toàn_bộ trang_web Hồi_âm Chao Ban vao save as save type as web archive single file mht OK. Thế_là xong ',\n 'Cạo đầu đội đoạt huy_chương Một CĐV Singapore xuống_tóc cầu_mong đội chiến_thắng Một 11 CĐV bóng_đá trung_thành Singapore tuyên_bố cạo trọc đầu đội U23 huy_chương CĐV nam cắt chỏm tóc trận U23 Indonesia hôm_qua 24 11 Tiếc U23_Singapore hòa U23 Indonesia 0 0 bán_kết trở_nên mong_manh Quán bar Red Devils tuyên_bố mời uống miễn_phí cầu_thủ U23 Singapore ghi_bàn ',\n 'Vòng chung_kết thi Hoa_hậu Hoàn_vũ 2006 diễn 23.7 Los_Angeles California Mỹ thông_tin ban_đầu số_lượng thí_sinh chân tham_dự thi kỷ_lục Angela_Asare Ghana 1m88 Alice_Panikian Canada 1m86 Tienepre Alexandra_Oki Nigeria 1m85 Suada_Sherifi Albania 1m84 Lourdes_Arevalos Paraguay 1m84 Jictzad_Viía Venezuela 1m83 Ambuyah_Ebanks Cayman_Islands 1m83 Bên cạnh chân_dung đẹp tài Hoa_hậu Lauriane_Gillieron Thụy_Sĩ Hai liền đoạt giải Vô_địch khiêu_vũ phong_cách Latin Thụy_Sĩ 2002 2003 Lauriane cơ_thể chết so_sánh Hoa_hậu Hoàn_vũ 1989 Angela_Visser Hà_Lan lĩnh_vực thể_thao khổ_luyện nổi_bật Hoa_hậu Jictzad_Viía Venezuela Khi 15 Jictzad thành_viên đội bóng_chuyền quốc_gia tham_dự đội chèo thuyền quốc_gia Cô đại_diện đất_nước Venezuela tham_dự giải_đấu quốc_tế thi chung_kết thế_giới chèo thuyền Kayak Đức Hiện_nay sở_hữu bằng_cấp thể_thao hành_nghề huấn_luyện_viên Xuất_hiện đồ tắm hai mảnh thi nỗi lo_lắng thí_sinh quốc_gia phát_triển đạo Hồi Tuy_nhiên Hoa_hậu Indonesia Nadine_Chandrawinata sinh Hannover Đức đẹp hai dòng máu ngại mặc áo_tắm hai mảnh thi Năm thí_sinh Artika Sari_Devi Indonesia giới truyền_thông quê_hương bêu_riếu tội dám mặc đồ hai mảnh bàn dân thiên_hạ khắp thế_giới chiêm_ngưỡng Mặc_dù thí_sinh chuẩn chiều thể_hình thí_sinh cường_quốc sắc_đẹp thế_giới công_tác đầu_tư đào_tạo cấp_tốc Việt_Nam xếp trung_bình bảng xếp_hạng cuộc_chơi toàn_cầu sắc_đẹp bảng danh_sách thí_sinh tham_dự thi Hoa_hậu Hoàn_vũ 2006 đại_diện Việt_Nam trống ',\n 'Chiến_thắng đất_nước Bồ_Đào_Nha HLV trưởng Luiz Felipe Scolari trận tứ_kết đội_tuyển Anh Ông tiếc ca_ngợi đội thắng_lợi hôm_nay tiếp sức_mạnh cầu_thủ Bồ_Đào_Nha giành chiến_thắng Chiến_thắng ngọt_ngào chiến_thắng hôm_nay diễn_biến trận_đấu thắng_lợi niềm vui tả xiết Tôi gửi chúc_mừng dân Bồ_Đào_Nha Scolari diễn thuận_lợi cổ_động_viên cạnh đội bóng Cảm_ơn Chúa ban phước lành Pha cứu bóng cú sút phạt thủ_môn Ricardo Chúa Scolari Nhìn trận bán_kết Hà_Lan Thụy_Điển tư Scolari Bồ_Đào_Nha kỹ_càng Đội hồi_phục_sức_khỏe trận_đấu đỉnh_cao vinh_quang ',\n 'Đau nhức ngủ dậy triệu_chứng chết Nhiều tỉnh_giấc đau nhức khắp hai bả_vai cứng_cổ tê vai bàn_tay đau hông sườn Đó hậu_quả chèn_ép mạch_máu liệt đột_quỵ thậm_chí_tử_vong nhồi máu tim Bác_sĩ Huỳnh_Bá_Lĩnh Bệnh_viện Chấn_thương Chỉnh_hình TP HCM nguyên_nhân đau nhức ngủ dậy nằm ngủ sai tư_thế cơ_bắp mạch_máu chèn_ép gân căng Lúc cung_cấp oxy tế_bào kém đi axit lactic thủ_phạm đau mỏi giải_phóng Vị_trí đau hai bả_vai cánh_tay cổ tiếp lưng hông sườn khối dày Có câu Tại_sao ngủ đau nhức Bác_sĩ Lĩnh giải_thích cơ_thể Khi cơ_thể yếu mệt tốc_độ hoạt_động hệ tuần_hoàn lưu_thông máu trao_đổi oxy giảm_sút Lúc chèn_ép tư_thế ngủ giọt tràn ly cơ_bắp lâm máu ngưỡng tự_khắc_phục yếu_tố thuận_lợi máu Thói_quen quạt máy_lạnh Đi nắng đội nón nắng chiếu gáy đi mưa Gội đầu tắm ban_đêm Làm công_việc vận_động bàn_giấy ngâm tay_chân giặt quần_áo rửa bát Cảm_cúm viêm_nhiễm đường hô_hấp bệnh_lý nội_khoa thấp_khớp tiểu_đường huyết_áp bệnh tim_mạch Mang thai sinh_nở Hút thuốc_lá bác_sĩ Lĩnh chứng đau nhức ngủ dậy bệnh_nhân điều_trị sai_lầm chẳng_hạn xoa_bóp dầu nóng thuốc rượu kem chứa mantol eugenol thuốc đặc_điểm cảm_giác nóng da Nó giúp đau ngắn đau trở_lại Sai_lầm hai cạo_gió nông_thôn áp_dụng ý_nghĩ trúng_gió cảm_mạo nhức Việc_làm xuất_huyết cơ_bắp tụ máu chèn_ép phản_xạ co thắt đau nhức cứng_cổ cứng lưng cố_gắng động_tác xoay vặn cổ vặn bẻ lưng Kết_quả đau cứng cứng_cổ biện_pháp phòng_ngừa đau Xông_hơi giãn mạch giãn kích_thích hô_hấp nồng_độ oxy máu Thở oxy nồng_độ giúp đau nhức Việc xoa_bóp giúp giãn tăng_cường máu cơ_bắp đau cần_lặp Nếu một_hai đau trở_lại Việc thuốc giãn đem hiệu_quả trường_hợp co thắt tác_dụng phụ Tiêm tê tại_chỗ giúp cắt_cơn đau lạm_dụng phù_nề tại_chỗ tiêm Nên nghỉ_ngơi hạn_chế vận_động bổ_sung khoáng_chất canxi kali vitamin C B. Bác_sĩ Lĩnh nhấn_mạnh nguyên_tắc phòng_ngừa yếu_tố thuận_lợi ảnh_hưởng chèn_ép co thắt mạch_máu cơ_bắp Tập_thể_dục nhẹ_nhàng xoa_bóp chườm nóng ngủ Tập thói_quen nằm ngủ tư_thế thoải_mái chèn_ép bắp_thịt ',\n 'Hút thuốc nguy_cơ ung_thư tuyến_tụy thủ_phạm ung_thư phổi thuốc_lá tác_nhân ung_thư tuyến tuỵ tiền_sử_gia_đình mắc bệnh chết Phát_hiện tầm hút thuốc_lá gia_đình ung_thư tuỵ Ngoài_ra chiếu chụp siêu_âm kiểm_tra bệnh độ 40 Khoảng 10 15 bệnh_nhân ung_thư tuỵ tiền_sử mắc bệnh gia_đình Chúng_tôi thiên_hướng ung_thư tuyến tuỵ di_truyền tức_là tiền_sử mắc bệnh gia_đình đổ_bệnh đối_tượng tiến_sĩ Ted_James Viện_Ung_thư Roswell_Park nghiên_cứu công_trình James cộng_sự thu_thập số_liệu 826 bệnh_nhân ung_thư tuỵ 30 tiền_sử mắc bệnh gia_đình Số_liệu trung_bình thiên_hướng ung_thư tuỵ di_truyền mắc bệnh 57,1 36,7 % mắc bệnh 50 độ trung_bình mắc bệnh 61 tiền_sử mắc bệnh gia_đình 18,3 % bệnh 50 Nhóm James 87 % bệnh_nhân ung_thư tuỵ di_truyền hút thuốc Con_số kia 66 % James nguy_cơ mắc bệnh thiên_hướng mắc bệnh di_truyền thói_quen hút thuốc nguy_cơ Cơ_may sống_sót mắc bệnh bệnh ung_thư Song phát_hiện khả_năng sống_sót Một tiền_sử_gia_đình mắc bệnh thường_xuyên siêu_âm kiểm_tra tất_nhiên thuốc ',\n 'Một miền Tây sông_nước tấp_nập ghe xuồng bắt kịp thở đương_đại hối_hả sống trẻ năng_động táo_bạo quyết_liệt thị thành Đêm miền Tây sông_nước trẻ dường_như sống hơi thở Hơi thở tâm_hồn thi_vị trái_tim hồn_hậu chân_tình Miền Tây quyến_rũ phim Hương phù_sa đạo_diễn Võ Tấn_Bình phát_sóng 18 19 HTV9 Đài_truyền_hình TP. HCM Điểm khởi_đầu phim gia_đình Ba_Rằn gia_đình giàu_có nổi_tiếng nghề đóng ghe xuồng lâu_đời Sông_nước mẹ ghe thuyền Bao_giờ sông rạch miền Tây hết_nước gia_đình ta nghề đóng ghe thuyền Câu thề thế_hệ Út Nhỏ diễn_viên Tăng Thanh_Hà ghi_nhớ kế_tục nghề truyền_thống gia_đình Cô gái trẻ 19 đầy_đủ nghị_lực bản_lĩnh non_trẻ nông_nổi đương_đầu đối_thủ tuổi_đời nghề thế_sự_nghiệp xây_dựng 100 gia_đình thăng_trầm Thành_công thất_bại Út Nhỏ ý_chí cầu tiến Mối tình tay_ba Út Nhỏ Việt Trương Minh_Quốc_Thái Út Ráng Kim_Hiền sợi chỉ_đỏ mạch phim khởi_đầu phim phát_triển quan_hệ Mối quan_hệ cạnh_tranh thương_trường quan_hệ gia_đình Một đề_tài lạ đạo_diễn trẻ Võ Tấn_Bình thủ_thuật thu_hút Đó đào_sâu tâm_lý nhân_vật đặc_trưng Út Nhỏ dịu_dàng bản_lĩnh Việt_lãng_tử cương_nghị khẳng khái Út Ráng thẳng_tính tốt_bụng bồng_bột nhân_vật phụ Hoàng Huỳnh_Anh Tuấn Quyên Minh_Thư sống_động Người hài_lòng phim đem nhân_vật sản_phẩm trí_tưởng_tượng Sông_nước miền Tây phim Ảnh T. F. SThành công phim tròn vai diễn_viên Vào_vai Út Nhỏ Tăng Thanh_Hà khả_năng diễn_xuất Út Nhỏ đầy_đủ cứng_cỏi mặn_mòi nữ_tính con_gái miệt sông_nước Có_lẽ chất miền Tây sẵn dễ_dàng_hóa thân Út Nhỏ Diễn_viên Kim_Hiền vai Út Ráng tự_tin Út Ráng cười Út Ráng hờn_dỗi Út Ráng khóc Út Ráng ghen tâm_trạng Út Ráng thuyết_phục Diễn_viên Trương Minh_Quốc_Thái cố_gắng diễn_xuất tròn vai_họa_sĩ Việt dường_như ngoại_hình gần_gũi nhân_vật Ở tuyến nhân_vật phụ góp_phần phong_cách miền Tây vai rể Út Nhỏ Nguyễn_Thanh_Cường đảm_nhận Dù diễn_viên chuyên_nghiệp thiết_kế bối_cảnh phim vai ấn_tượng đặc_sệt miền Tây tốt_bụng khoái rượu Hương phù_sa phim Việt thử_nghiệm tuyên_chiến phim Hàn Và đạo_diễn ngần_ngại thú_nhận học thủ_thuật phim đối_thủ dừng diễn_viên trẻ đẹp cảnh bắt_mắt chiều sâu phim Thêm phim Hàn kiểu Việt Hương phù_sa phim đầu_tư nội_dung Vì_thế phim chiều sâu bắt_chước hình_thức hời_hợt tẻ_nhạt Khán_giả Hương phù_sa phim phim truyền_hình Tôi diễn_xuất diễn_viên tự_nhiên kịch Cảnh đẹp ưu_điểm phim Tôi miền Tây phim phát_hiện quê cảnh đẹp Nhưng trang_phục phim Tôi mặc áo_đầm mặc váy lái ghe lái tàu Trương_Thị_Thu_Thủy 209 Nguyễn Đình_Chiểu Q. 3 TP. HCM Tôi tập phim khó_chịu Dường_như đạo_diễn ăn_mặc miền Tây nhân_vật phim diện váy đầm ngắn giày Tây thị thành Ngày mặc váy mặc đầm đi sinh_nhật mặc áo_dài truyền_thống Tôi giá_như đạo_diễn chịu_khó miền Tây phim Nếu_như nhân_vật phim bớt diện đi phim thuyết_phục Phan_Hoài_Linh Công_ty OOCL Việt_Nam ',\n 'Học sống khỏe 1 Ăn thực_phẩm giàu vitamin A C E chất chống oxy_hóa bớt nguy_cơ mắc bệnh tim_mạch ung_thư chứng đột_quỵ chống lão_hóa đậu_đỏ việt_quất rau actiso cải xanh táo 2 thuốc cân nghiên_cứu trường ĐH Georgetown Mỹ thuốc cân chứa thành_phần citrus auratinum cam đắng ma hoàng nhão cơ_bắp huyết_áp trường_hợp tương_tác thuốc hại cơ_thể Vì_vậy ăn_uống lành_mạnh tập_luyện cân 3 Bảo_vệ men hạn_chế đồ uống chứa acid citric soda nước_ngọt gaz nước_hoa_quả đóng_hộp chất phụ_gia thức uống tác_hại đường Chúng nồng_độ acid miệng phá_hủy lớp men trắng 4 Đừng lạm_dụng thực_phẩm thành_phần rau siêu_thị khoa_học trường ĐH Boston Mỹ đa_phần sản_xuất chủng_loại rau khác_biệt sản_phẩm quảng_cáo Thêm bảo_quản vitamin rau chế_biến sẵn Rau tươi cung_cấp dồi_dào vitamin chứa calo 5 Cố_gắng kiềm_chế giận stress Hiệp_hội Tim_mạch Mỹ giận_dữ cơ_thể sản_sinh hormon stress chứng nghẽn động_mạch giúp cơ_thể quân_bình ngăn_chặn chứng huyết_áp nhắm_mắt hít sâu 5 giây thở hình_dung bực_tức thoát 6 Bảo_vệ đôi chân thoa kem chống nắng mặc quần short váy ngoài_trời nắng Bạn để_ý đôi chân khối_u hắc tố da chân mặt chân phơi nắng thường_xuyên kiểm_tra đôi chân bác_sĩ phát_hiện đốm lạ sẫm màu màu_sắc lạ 7 Nếu thon_thả mảnh_mai tiếng ồn nghiên_cứu phụ_nữ tác_động tiếng ồn mức_độ ồn ngang tiếng máy_khoan xu_hướng tiếng âm_thanh vô_tuyến truyền_hình bản_nhạc bật to chất_béo 8 Giữ xương_sống thẳng_đứng đơn_giản chống chứng đau lưng mỏi cổ Nó duy_trì săn cơ_bắp Nếu công_việc suốt 8 tiếng đứng dậy vận_động nhẹ vòng 2 3 phút giãn cơ_bắp 9 Đi dạo ngoài_trời Đây hữu_hiệu tinh_thần sảng_khoái phấn_chấn đi dạo trời nắng đẹp Một nghiên_cứu trường ĐH Michigan đi dạo ngoài_trời 30 phút nắng đẹp giúp trí_nhớ nảy_sinh ý_tưởng Nghiên_cứu trì_trệ chán_nản 10 Cung_cấp 1.000 mg canxi hữu_hiệu giúp ngăn_chặn chứng loãng_xương Nhưng trẻ tập_luyện phương_pháp xương vững_chắc dẻo_dai Tất_cả sữa thế_giới giúp chống chứng loãng_xương kết_hợp tập_luyện bài_tập xương bao_gồm leo cầu_thang đạp xe đi ',\n 'Giá vàng 12,7 triệu đồng NLĐ Cơn bão giá vàng chựng đầu_tư đồng_loạt vàng 21 4 giá vàng thị_trường thế_giới tụt phanh Mức giá 612 USD ounce nhẹ Lúc 15 30 VN giá vàng thế_giới 618 USD ounce 11,87 triệu đồng 22 USD ounce hôm TPHCM đầu sáng_giá vàng giá nhẹ trở_lại giao_dịch chiều giá giá vàng SJC Trung_tâm Kim_hoàn Sài_Gòn mua 12,3 triệu đồng 12,7 triệu đồng tổng_cộng 900.000 đồng hôm giá vàng giá thế_giới chỗ giá thế_giới 1 triệu đồng đầy_đủ thuế_nhập_khẩu phí gia_công chi_phí cách_biệt 700.000 đồng ',\n 'Hỗ_trợ đào_tạo giới_thiệu nghề ngư_dân NLĐ Thủ_tướng Phan_Văn_Khải chỉ_thị biện_pháp nợ vay vốn tín_dụng đầu_tư phát_triển đóng cải hoán tàu đánh_bắt tàu dịch_vụ đánh_bắt hải_sản bờ Theo Thủ_tướng Bộ_Thủy_sản giải_pháp đào_tạo thuyền_trưởng máy_trưởng huấn_luyện tay_nghề giới_thiệu nghề ngư_dân tổ_chức dịch_vụ hậu_cần chi_phí sản_xuất mở_rộng hệ_thống tiêu_thụ sản_phẩm giúp ngư_dân làm_ăn hiệu_quả chủ dự_án vay vốn tín_dụng đầu_tư phát_triển Nhà_nước mua bảo_hiểm thân tàu nợ vốn vay Thủ_tướng Quỹ Hỗ_trợ phát_triển Ngân_hàng Đầu_tư Phát_triển VN điều_chỉnh thời_hạn nợ chủ đầu_tư cũ giải_pháp đẩy tiến_độ thu_hồi đấu_giá tàu chủ đầu_tư vốn sai mục_đích chây ỳ sản_xuất kinh_doanh hiệu_quả cưỡng_chế chủ tàu diện thu tàu cố_ý giao tổ_chức đấu_giá thu_hồi vốn Nhà_nước ',\n ...]"
     },
     "metadata": {},
     "execution_count": 65
    }
   ],
   "source": [
    "with open(TESTING_FILE, 'r') as inp_file:\n",
    "    nlp_testing = []\n",
    "    for line in inp_file.readlines():\n",
    "        nlp_testing.append(line.strip('\\n'))\n",
    "    inp_file.close()\n",
    "nlp_testing"
   ]
  },
  {
   "source": [
    "### Predict testing data"
   ],
   "cell_type": "markdown",
   "metadata": {}
  },
  {
   "cell_type": "code",
   "execution_count": 70,
   "metadata": {},
   "outputs": [
    {
     "output_type": "execute_result",
     "data": {
      "text/plain": "array(['__KD__', '__DS__', '__PL__', ..., '__SK__', '__CTXH__',\n       '__CTXH__'], dtype='<U8')"
     },
     "metadata": {},
     "execution_count": 70
    }
   ],
   "source": [
    "\n",
    "\n",
    "# extract features with previously fitted TfidfVectorizer\n",
    "nlp_testing_X = vectorizer.transform(nlp_testing)\n",
    "nlp_testing_pred = voting_classifier_hard.predict(nlp_testing_X.toarray())\n",
    "nlp_testing_pred"
   ]
  },
  {
   "source": [
    "### Write predicted labels to file "
   ],
   "cell_type": "markdown",
   "metadata": {}
  },
  {
   "cell_type": "code",
   "execution_count": 74,
   "metadata": {},
   "outputs": [],
   "source": [
    "with open(\"/home/straw/Data_mining/Pandas_Matplotlib/nlp/predict.txt\", 'w') as out_file:\n",
    "    for i in range(len(nlp_testing_pred)):\n",
    "        out_file.write(nlp_testing_pred[i] + '\\n')"
   ]
  }
 ]
}