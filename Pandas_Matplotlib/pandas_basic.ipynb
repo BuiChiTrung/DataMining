{
 "metadata": {
  "language_info": {
   "codemirror_mode": {
    "name": "ipython",
    "version": 3
   },
   "file_extension": ".py",
   "mimetype": "text/x-python",
   "name": "python",
   "nbconvert_exporter": "python",
   "pygments_lexer": "ipython3",
   "version": "3.7.4-final"
  },
  "orig_nbformat": 2,
  "kernelspec": {
   "name": "python_defaultSpec_1601106810816",
   "display_name": "Python 3.7.4 64-bit ('base': conda)"
  }
 },
 "nbformat": 4,
 "nbformat_minor": 2,
 "cells": [
  {
   "source": [
    "\n",
    "### <a href = \"#Series\"> 1, Series </a>\n",
    "### 2, Dataframe\n",
    "### 3, Read data from file\n",
    "### 4, Get info about data\n",
    "### 5, Data selection\n",
    "### 6, Modify data\n",
    "### 7, Add column using math\n",
    "### 8, Grouping data and Aggregation \n",
    "### 9, Filtering Dataframe\n",
    "### 10, Concat and append row\n",
    "### 100, Stuff"
   ],
   "cell_type": "markdown",
   "metadata": {}
  },
  {
   "cell_type": "markdown",
   "metadata": {},
   "source": [
    "### Import module"
   ]
  },
  {
   "cell_type": "code",
   "execution_count": 1,
   "metadata": {},
   "outputs": [],
   "source": [
    "import numpy as np \n",
    "import pandas as pd \n"
   ]
  },
  {
   "cell_type": "markdown",
   "metadata": {},
   "source": [
    "# Series and Dataframes\n",
    "\n",
    "Pandas actually has two data structures, Series and Dataframes. A Dataframe is a two dimensional data structure. It is comprised of rows and columns of data. A Series is the data structure for a single column of a dataframe. Certain pandas operations will return a Series as a standalone data structure.\n",
    "\n",
    "Both data structures also have an 'index' which uniquely identifies each row. By default, Pandas will assign an integer id as the index, however you can override this and set a column of your choosing as the index (does not have to be an integer) as long as all values in that column are unique."
   ]
  },
  {
   "cell_type": "markdown",
   "metadata": {},
   "source": [
    "## <div id = \"Series\"> 1, Series </div>\n"
   ]
  },
  {
   "cell_type": "code",
   "execution_count": 2,
   "metadata": {},
   "outputs": [
    {
     "output_type": "execute_result",
     "data": {
      "text/plain": "Math          0.119710\nLiterature    0.934210\nBiology       0.323334\nPhysics       0.754291\nChemistry     0.797272\ndtype: float64"
     },
     "metadata": {},
     "execution_count": 2
    }
   ],
   "source": [
    "data = np.random.rand(5)\n",
    "a = pd.Series(data, index = ['Math', 'Literature', 'Biology', 'Physics', 'Chemistry'])\n",
    "a"
   ]
  },
  {
   "cell_type": "markdown",
   "metadata": {},
   "source": [
    "## 2, Dataframes\n"
   ]
  },
  {
   "cell_type": "code",
   "execution_count": 3,
   "metadata": {},
   "outputs": [
    {
     "output_type": "execute_result",
     "data": {
      "text/plain": "               Score\nMath        0.119710\nLiterature  0.934210\nBiology     0.323334\nPhysics     0.754291\nChemistry   0.797272",
      "text/html": "<div>\n<style scoped>\n    .dataframe tbody tr th:only-of-type {\n        vertical-align: middle;\n    }\n\n    .dataframe tbody tr th {\n        vertical-align: top;\n    }\n\n    .dataframe thead th {\n        text-align: right;\n    }\n</style>\n<table border=\"1\" class=\"dataframe\">\n  <thead>\n    <tr style=\"text-align: right;\">\n      <th></th>\n      <th>Score</th>\n    </tr>\n  </thead>\n  <tbody>\n    <tr>\n      <th>Math</th>\n      <td>0.119710</td>\n    </tr>\n    <tr>\n      <th>Literature</th>\n      <td>0.934210</td>\n    </tr>\n    <tr>\n      <th>Biology</th>\n      <td>0.323334</td>\n    </tr>\n    <tr>\n      <th>Physics</th>\n      <td>0.754291</td>\n    </tr>\n    <tr>\n      <th>Chemistry</th>\n      <td>0.797272</td>\n    </tr>\n  </tbody>\n</table>\n</div>"
     },
     "metadata": {},
     "execution_count": 3
    }
   ],
   "source": [
    "score = pd.DataFrame(data, columns = ['Score'], index = ['Math', 'Literature', 'Biology', 'Physics', 'Chemistry'])\n",
    "score"
   ]
  },
  {
   "cell_type": "markdown",
   "metadata": {},
   "source": [
    "### How to create dataframe\n"
   ]
  },
  {
   "cell_type": "code",
   "execution_count": 4,
   "metadata": {
    "tags": []
   },
   "outputs": [
    {
     "output_type": "execute_result",
     "data": {
      "text/plain": "             mass  diameter  gravity   period\nMercury     0.330    4879.0      3.7     88.0\nVenus       4.870   12104.0      8.9    224.7\nEarth       5.970   12756.0      9.8    365.2\nMars        0.642    6792.0      3.7    687.0\nJupiter  1898.000  142984.0     23.1   4331.0\nSaturn    568.000  120536.0      9.0  10747.0\nUranus     86.800   51118.0      8.7  30589.0\nNeptune   102.000   49528.0     11.0  59800.0",
      "text/html": "<div>\n<style scoped>\n    .dataframe tbody tr th:only-of-type {\n        vertical-align: middle;\n    }\n\n    .dataframe tbody tr th {\n        vertical-align: top;\n    }\n\n    .dataframe thead th {\n        text-align: right;\n    }\n</style>\n<table border=\"1\" class=\"dataframe\">\n  <thead>\n    <tr style=\"text-align: right;\">\n      <th></th>\n      <th>mass</th>\n      <th>diameter</th>\n      <th>gravity</th>\n      <th>period</th>\n    </tr>\n  </thead>\n  <tbody>\n    <tr>\n      <th>Mercury</th>\n      <td>0.330</td>\n      <td>4879.0</td>\n      <td>3.7</td>\n      <td>88.0</td>\n    </tr>\n    <tr>\n      <th>Venus</th>\n      <td>4.870</td>\n      <td>12104.0</td>\n      <td>8.9</td>\n      <td>224.7</td>\n    </tr>\n    <tr>\n      <th>Earth</th>\n      <td>5.970</td>\n      <td>12756.0</td>\n      <td>9.8</td>\n      <td>365.2</td>\n    </tr>\n    <tr>\n      <th>Mars</th>\n      <td>0.642</td>\n      <td>6792.0</td>\n      <td>3.7</td>\n      <td>687.0</td>\n    </tr>\n    <tr>\n      <th>Jupiter</th>\n      <td>1898.000</td>\n      <td>142984.0</td>\n      <td>23.1</td>\n      <td>4331.0</td>\n    </tr>\n    <tr>\n      <th>Saturn</th>\n      <td>568.000</td>\n      <td>120536.0</td>\n      <td>9.0</td>\n      <td>10747.0</td>\n    </tr>\n    <tr>\n      <th>Uranus</th>\n      <td>86.800</td>\n      <td>51118.0</td>\n      <td>8.7</td>\n      <td>30589.0</td>\n    </tr>\n    <tr>\n      <th>Neptune</th>\n      <td>102.000</td>\n      <td>49528.0</td>\n      <td>11.0</td>\n      <td>59800.0</td>\n    </tr>\n  </tbody>\n</table>\n</div>"
     },
     "metadata": {},
     "execution_count": 4
    }
   ],
   "source": [
    "# create data from numpy array \n",
    "planets_data = np.array([[0.330, 4879, 3.7, 88.0],\n",
    "            [4.87, 12104, 8.9, 224.7],\n",
    "            [5.97, 12756, 9.8, 365.2 ],\n",
    "            [0.642, 6792, 3.7, 687.0],\n",
    "            [1898, 142984, 23.1, 4331],\n",
    "            [568, 120536, 9.0, 10747],\n",
    "            [86.8, 51118, 8.7, 30589],\n",
    "            [102, 49528, 11.0, 59800]])\n",
    "\n",
    "# use data to create dataframe\n",
    "planets = pd.DataFrame(planets_data, \n",
    "                  columns=['mass', 'diameter', 'gravity', 'period'],\n",
    "                  index=['Mercury', 'Venus', 'Earth', 'Mars', 'Jupiter', 'Saturn','Uranus','Neptune'])\n",
    "planets"
   ]
  },
  {
   "cell_type": "code",
   "execution_count": 5,
   "metadata": {},
   "outputs": [
    {
     "output_type": "execute_result",
     "data": {
      "text/plain": "       name  distance\n0     Ceres      2.77\n1     Pluto     39.26\n2    Haumea     43.13\n3  Makemake     45.79\n4      Eris     68.01",
      "text/html": "<div>\n<style scoped>\n    .dataframe tbody tr th:only-of-type {\n        vertical-align: middle;\n    }\n\n    .dataframe tbody tr th {\n        vertical-align: top;\n    }\n\n    .dataframe thead th {\n        text-align: right;\n    }\n</style>\n<table border=\"1\" class=\"dataframe\">\n  <thead>\n    <tr style=\"text-align: right;\">\n      <th></th>\n      <th>name</th>\n      <th>distance</th>\n    </tr>\n  </thead>\n  <tbody>\n    <tr>\n      <th>0</th>\n      <td>Ceres</td>\n      <td>2.77</td>\n    </tr>\n    <tr>\n      <th>1</th>\n      <td>Pluto</td>\n      <td>39.26</td>\n    </tr>\n    <tr>\n      <th>2</th>\n      <td>Haumea</td>\n      <td>43.13</td>\n    </tr>\n    <tr>\n      <th>3</th>\n      <td>Makemake</td>\n      <td>45.79</td>\n    </tr>\n    <tr>\n      <th>4</th>\n      <td>Eris</td>\n      <td>68.01</td>\n    </tr>\n  </tbody>\n</table>\n</div>"
     },
     "metadata": {},
     "execution_count": 5
    }
   ],
   "source": [
    "# create data from list, tuples\n",
    "names = ['Ceres', 'Pluto', 'Haumea', 'Makemake', 'Eris']\n",
    "distance = [2.77, 39.26, 43.13, 45.79, 68.01]\n",
    "\n",
    "# ghép 2 list với nhau, kq phải đc ép thành list\n",
    "sun_distance_data = list(zip(names, distance))\n",
    "\n",
    "# use data to create dataframe \n",
    "sun_distance = pd.DataFrame(sun_distance_data, columns = ['name', 'distance'])\n",
    "sun_distance\n"
   ]
  },
  {
   "cell_type": "code",
   "execution_count": 6,
   "metadata": {},
   "outputs": [
    {
     "output_type": "execute_result",
     "data": {
      "text/plain": "               player position\nBayern     Lewandoski       ST\nLiverpool      Arnold       RB\nReal           Hazard       LW\nMancity     De Bruyne      CAM\nBarca           Messi       RW",
      "text/html": "<div>\n<style scoped>\n    .dataframe tbody tr th:only-of-type {\n        vertical-align: middle;\n    }\n\n    .dataframe tbody tr th {\n        vertical-align: top;\n    }\n\n    .dataframe thead th {\n        text-align: right;\n    }\n</style>\n<table border=\"1\" class=\"dataframe\">\n  <thead>\n    <tr style=\"text-align: right;\">\n      <th></th>\n      <th>player</th>\n      <th>position</th>\n    </tr>\n  </thead>\n  <tbody>\n    <tr>\n      <th>Bayern</th>\n      <td>Lewandoski</td>\n      <td>ST</td>\n    </tr>\n    <tr>\n      <th>Liverpool</th>\n      <td>Arnold</td>\n      <td>RB</td>\n    </tr>\n    <tr>\n      <th>Real</th>\n      <td>Hazard</td>\n      <td>LW</td>\n    </tr>\n    <tr>\n      <th>Mancity</th>\n      <td>De Bruyne</td>\n      <td>CAM</td>\n    </tr>\n    <tr>\n      <th>Barca</th>\n      <td>Messi</td>\n      <td>RW</td>\n    </tr>\n  </tbody>\n</table>\n</div>"
     },
     "metadata": {},
     "execution_count": 6
    }
   ],
   "source": [
    "# create data from dict \n",
    "club_data = {'player'  :['Lewandoski', 'Arnold', 'Hazard', 'De Bruyne', 'Messi'], \n",
    "             'position':['ST', 'RB', 'LW', 'CAM', 'RW']}\n",
    "club = pd.DataFrame(club_data, index = ['Bayern', 'Liverpool', 'Real', 'Mancity', 'Barca'])\n",
    "club"
   ]
  },
  {
   "cell_type": "markdown",
   "metadata": {},
   "source": [
    "## 3, Read data from file \n"
   ]
  },
  {
   "cell_type": "code",
   "execution_count": 7,
   "metadata": {},
   "outputs": [
    {
     "output_type": "execute_result",
     "data": {
      "text/plain": "                        Type  Order from Sun   Diameter          Mass\nName                                                                 \nSun                     Star               0  1392000.0  333000.00000\nMercury   Terrestrial planet               1     4878.0       0.05500\nVenus     Terrestrial planet               2    12104.0       0.81500\nEarth     Terrestrial planet               3    12756.0       1.00000\nMars      Terrestrial planet               4     6787.0       0.10700\nJupiter            Gas giant               6   142800.0     318.00000\nSaturn             Gas giant               7   120000.0      95.00000\nUranus             Gas giant               8    51118.0      15.00000\nNeptune            Gas giant               9    49528.0      17.00000\nCeres           Dwarf planet               5      974.6       0.00016\nPluto           Dwarf planet              10     2300.0       0.00200\nHaumea          Dwarf planet              11     1300.0       0.00070\nMakemake        Dwarf planet              12     1420.0       0.00067\nEris            Dwarf planet              13     2326.0       0.00280",
      "text/html": "<div>\n<style scoped>\n    .dataframe tbody tr th:only-of-type {\n        vertical-align: middle;\n    }\n\n    .dataframe tbody tr th {\n        vertical-align: top;\n    }\n\n    .dataframe thead th {\n        text-align: right;\n    }\n</style>\n<table border=\"1\" class=\"dataframe\">\n  <thead>\n    <tr style=\"text-align: right;\">\n      <th></th>\n      <th>Type</th>\n      <th>Order from Sun</th>\n      <th>Diameter</th>\n      <th>Mass</th>\n    </tr>\n    <tr>\n      <th>Name</th>\n      <th></th>\n      <th></th>\n      <th></th>\n      <th></th>\n    </tr>\n  </thead>\n  <tbody>\n    <tr>\n      <th>Sun</th>\n      <td>Star</td>\n      <td>0</td>\n      <td>1392000.0</td>\n      <td>333000.00000</td>\n    </tr>\n    <tr>\n      <th>Mercury</th>\n      <td>Terrestrial planet</td>\n      <td>1</td>\n      <td>4878.0</td>\n      <td>0.05500</td>\n    </tr>\n    <tr>\n      <th>Venus</th>\n      <td>Terrestrial planet</td>\n      <td>2</td>\n      <td>12104.0</td>\n      <td>0.81500</td>\n    </tr>\n    <tr>\n      <th>Earth</th>\n      <td>Terrestrial planet</td>\n      <td>3</td>\n      <td>12756.0</td>\n      <td>1.00000</td>\n    </tr>\n    <tr>\n      <th>Mars</th>\n      <td>Terrestrial planet</td>\n      <td>4</td>\n      <td>6787.0</td>\n      <td>0.10700</td>\n    </tr>\n    <tr>\n      <th>Jupiter</th>\n      <td>Gas giant</td>\n      <td>6</td>\n      <td>142800.0</td>\n      <td>318.00000</td>\n    </tr>\n    <tr>\n      <th>Saturn</th>\n      <td>Gas giant</td>\n      <td>7</td>\n      <td>120000.0</td>\n      <td>95.00000</td>\n    </tr>\n    <tr>\n      <th>Uranus</th>\n      <td>Gas giant</td>\n      <td>8</td>\n      <td>51118.0</td>\n      <td>15.00000</td>\n    </tr>\n    <tr>\n      <th>Neptune</th>\n      <td>Gas giant</td>\n      <td>9</td>\n      <td>49528.0</td>\n      <td>17.00000</td>\n    </tr>\n    <tr>\n      <th>Ceres</th>\n      <td>Dwarf planet</td>\n      <td>5</td>\n      <td>974.6</td>\n      <td>0.00016</td>\n    </tr>\n    <tr>\n      <th>Pluto</th>\n      <td>Dwarf planet</td>\n      <td>10</td>\n      <td>2300.0</td>\n      <td>0.00200</td>\n    </tr>\n    <tr>\n      <th>Haumea</th>\n      <td>Dwarf planet</td>\n      <td>11</td>\n      <td>1300.0</td>\n      <td>0.00070</td>\n    </tr>\n    <tr>\n      <th>Makemake</th>\n      <td>Dwarf planet</td>\n      <td>12</td>\n      <td>1420.0</td>\n      <td>0.00067</td>\n    </tr>\n    <tr>\n      <th>Eris</th>\n      <td>Dwarf planet</td>\n      <td>13</td>\n      <td>2326.0</td>\n      <td>0.00280</td>\n    </tr>\n  </tbody>\n</table>\n</div>"
     },
     "metadata": {},
     "execution_count": 7
    }
   ],
   "source": [
    "# csv_file\n",
    "solar_system = pd.read_csv('solar_system_abbr.csv', index_col= 0)\n",
    "# json file\n",
    "# pd.read_json('path', type = 'series/frame') \n",
    "solar_system"
   ]
  },
  {
   "cell_type": "markdown",
   "metadata": {},
   "source": [
    "## 4, Get information about DataFrame"
   ]
  },
  {
   "cell_type": "code",
   "execution_count": 8,
   "metadata": {
    "tags": []
   },
   "outputs": [
    {
     "output_type": "stream",
     "name": "stdout",
     "text": "Type               object\nOrder from Sun      int64\nDiameter          float64\nMass              float64\ndtype: object \n\n(14, 4) \n\n       Order from Sun      Diameter           Mass\ncount         14.0000  1.400000e+01      14.000000\nmean           6.5000  1.285923e+05   23817.641666\nstd            4.1833  3.665235e+05   88988.845412\nmin            0.0000  9.746000e+02       0.000160\n25%            3.2500  2.306500e+03       0.002200\n50%            6.5000  9.445500e+03       0.461000\n75%            9.7500  5.072050e+04      16.500000\nmax           13.0000  1.392000e+06  333000.000000 \n\nDwarf planet          5\nGas giant             4\nTerrestrial planet    4\nStar                  1\nName: Type, dtype: int64\n"
    }
   ],
   "source": [
    "# basic info: size, data type\n",
    "print(solar_system.dtypes, '\\n')\n",
    "print(solar_system.shape, '\\n')\n",
    "\n",
    "# min, max, mean, standart deviation, ...\n",
    "print(solar_system.describe(), '\\n') \n",
    "\n",
    "# đếm các phần tử giống nhau trong một cột \n",
    "print(solar_system['Type'].value_counts())\n"
   ]
  },
  {
   "source": [
    "## 5, Data Selection in DataFrame \n"
   ],
   "cell_type": "markdown",
   "metadata": {}
  },
  {
   "cell_type": "markdown",
   "metadata": {},
   "source": [
    "### Using `iloc`: truy cập bằng chỉ số"
   ]
  },
  {
   "cell_type": "code",
   "execution_count": 9,
   "metadata": {
    "tags": []
   },
   "outputs": [
    {
     "output_type": "execute_result",
     "data": {
      "text/plain": "Type              Gas giant\nOrder from Sun            7\nDiameter             120000\nMass                     95\nName: Saturn, dtype: object"
     },
     "metadata": {},
     "execution_count": 9
    }
   ],
   "source": [
    "solar_system.iloc[6, :]# các columns, index ko đc tính là cột, hàng trong bảng"
   ]
  },
  {
   "cell_type": "code",
   "execution_count": 10,
   "metadata": {},
   "outputs": [
    {
     "output_type": "execute_result",
     "data": {
      "text/plain": "                       Type  Order from Sun  Diameter  Mass\nName                                                       \nEarth    Terrestrial planet               3   12756.0   1.0\nNeptune           Gas giant               9   49528.0  17.0",
      "text/html": "<div>\n<style scoped>\n    .dataframe tbody tr th:only-of-type {\n        vertical-align: middle;\n    }\n\n    .dataframe tbody tr th {\n        vertical-align: top;\n    }\n\n    .dataframe thead th {\n        text-align: right;\n    }\n</style>\n<table border=\"1\" class=\"dataframe\">\n  <thead>\n    <tr style=\"text-align: right;\">\n      <th></th>\n      <th>Type</th>\n      <th>Order from Sun</th>\n      <th>Diameter</th>\n      <th>Mass</th>\n    </tr>\n    <tr>\n      <th>Name</th>\n      <th></th>\n      <th></th>\n      <th></th>\n      <th></th>\n    </tr>\n  </thead>\n  <tbody>\n    <tr>\n      <th>Earth</th>\n      <td>Terrestrial planet</td>\n      <td>3</td>\n      <td>12756.0</td>\n      <td>1.0</td>\n    </tr>\n    <tr>\n      <th>Neptune</th>\n      <td>Gas giant</td>\n      <td>9</td>\n      <td>49528.0</td>\n      <td>17.0</td>\n    </tr>\n  </tbody>\n</table>\n</div>"
     },
     "metadata": {},
     "execution_count": 10
    }
   ],
   "source": [
    "# get row 3 and 8 \n",
    "solar_system.iloc[[3, 8], :]"
   ]
  },
  {
   "source": [
    "### Using `loc`: để truy cập df bằng index or column\n",
    "Tuy nhiên phải duyệt cả df để tìm "
   ],
   "cell_type": "code",
   "metadata": {},
   "execution_count": null,
   "outputs": []
  },
  {
   "cell_type": "code",
   "execution_count": 106,
   "metadata": {},
   "outputs": [
    {
     "output_type": "execute_result",
     "data": {
      "text/plain": "          Diameter                Type        Mass\nName                                              \nSun      1392000.0                Star  333000.000\nVenus      12104.0  Terrestrial planet       0.815\nEarth      12756.0  Terrestrial planet       1.000\nMars        6787.0  Terrestrial planet       0.107\nJupiter   142800.0           Gas giant     318.000\nSaturn    120000.0           Gas giant      95.000\nUranus     51118.0           Gas giant      15.000\nNeptune    49528.0           Gas giant      17.000",
      "text/html": "<div>\n<style scoped>\n    .dataframe tbody tr th:only-of-type {\n        vertical-align: middle;\n    }\n\n    .dataframe tbody tr th {\n        vertical-align: top;\n    }\n\n    .dataframe thead th {\n        text-align: right;\n    }\n</style>\n<table border=\"1\" class=\"dataframe\">\n  <thead>\n    <tr style=\"text-align: right;\">\n      <th></th>\n      <th>Diameter</th>\n      <th>Type</th>\n      <th>Mass</th>\n    </tr>\n    <tr>\n      <th>Name</th>\n      <th></th>\n      <th></th>\n      <th></th>\n    </tr>\n  </thead>\n  <tbody>\n    <tr>\n      <th>Sun</th>\n      <td>1392000.0</td>\n      <td>Star</td>\n      <td>333000.000</td>\n    </tr>\n    <tr>\n      <th>Venus</th>\n      <td>12104.0</td>\n      <td>Terrestrial planet</td>\n      <td>0.815</td>\n    </tr>\n    <tr>\n      <th>Earth</th>\n      <td>12756.0</td>\n      <td>Terrestrial planet</td>\n      <td>1.000</td>\n    </tr>\n    <tr>\n      <th>Mars</th>\n      <td>6787.0</td>\n      <td>Terrestrial planet</td>\n      <td>0.107</td>\n    </tr>\n    <tr>\n      <th>Jupiter</th>\n      <td>142800.0</td>\n      <td>Gas giant</td>\n      <td>318.000</td>\n    </tr>\n    <tr>\n      <th>Saturn</th>\n      <td>120000.0</td>\n      <td>Gas giant</td>\n      <td>95.000</td>\n    </tr>\n    <tr>\n      <th>Uranus</th>\n      <td>51118.0</td>\n      <td>Gas giant</td>\n      <td>15.000</td>\n    </tr>\n    <tr>\n      <th>Neptune</th>\n      <td>49528.0</td>\n      <td>Gas giant</td>\n      <td>17.000</td>\n    </tr>\n  </tbody>\n</table>\n</div>"
     },
     "metadata": {},
     "execution_count": 106
    }
   ],
   "source": [
    "solar_system.loc[solar_system['Diameter'] > 5000, ['Diameter', 'Type', 'Mass']]\n",
    "#solar_system.loc[['Venus', 'Sun'], :]"
   ]
  },
  {
   "source": [
    "### Using `ix`: kết hợp cả hai \n",
    "Khá dễ gây confuse khi index, columns là số nguyên \n"
   ],
   "cell_type": "markdown",
   "metadata": {}
  },
  {
   "cell_type": "code",
   "execution_count": 105,
   "metadata": {},
   "outputs": [
    {
     "output_type": "execute_result",
     "data": {
      "text/plain": "         Order from Sun\nName                   \nEarth                 3\nMars                  4\nJupiter               6\nSaturn                7\nUranus                8\nNeptune               9\nCeres                 5\nPluto                10",
      "text/html": "<div>\n<style scoped>\n    .dataframe tbody tr th:only-of-type {\n        vertical-align: middle;\n    }\n\n    .dataframe tbody tr th {\n        vertical-align: top;\n    }\n\n    .dataframe thead th {\n        text-align: right;\n    }\n</style>\n<table border=\"1\" class=\"dataframe\">\n  <thead>\n    <tr style=\"text-align: right;\">\n      <th></th>\n      <th>Order from Sun</th>\n    </tr>\n    <tr>\n      <th>Name</th>\n      <th></th>\n    </tr>\n  </thead>\n  <tbody>\n    <tr>\n      <th>Earth</th>\n      <td>3</td>\n    </tr>\n    <tr>\n      <th>Mars</th>\n      <td>4</td>\n    </tr>\n    <tr>\n      <th>Jupiter</th>\n      <td>6</td>\n    </tr>\n    <tr>\n      <th>Saturn</th>\n      <td>7</td>\n    </tr>\n    <tr>\n      <th>Uranus</th>\n      <td>8</td>\n    </tr>\n    <tr>\n      <th>Neptune</th>\n      <td>9</td>\n    </tr>\n    <tr>\n      <th>Ceres</th>\n      <td>5</td>\n    </tr>\n    <tr>\n      <th>Pluto</th>\n      <td>10</td>\n    </tr>\n  </tbody>\n</table>\n</div>"
     },
     "metadata": {},
     "execution_count": 105
    }
   ],
   "source": [
    "solar_system.ix['Earth': 'Pluto', 1:2]"
   ]
  },
  {
   "cell_type": "markdown",
   "metadata": {},
   "source": [
    "### Get index of row "
   ]
  },
  {
   "cell_type": "code",
   "execution_count": 12,
   "metadata": {
    "tags": []
   },
   "outputs": [
    {
     "output_type": "stream",
     "name": "stdout",
     "text": "Sun\n"
    }
   ],
   "source": [
    "print(solar_system.index[0])"
   ]
  },
  {
   "cell_type": "markdown",
   "metadata": {},
   "source": [
    "### Loop through dataframe"
   ]
  },
  {
   "cell_type": "code",
   "execution_count": 13,
   "metadata": {
    "tags": []
   },
   "outputs": [
    {
     "output_type": "stream",
     "name": "stdout",
     "text": "Star 333000.0\nTerrestrial planet 0.055\nTerrestrial planet 0.815\nTerrestrial planet 1.0\nTerrestrial planet 0.107\nGas giant 318.0\nGas giant 95.0\nGas giant 15.0\nGas giant 17.0\nDwarf planet 0.00016\nDwarf planet 0.002\nDwarf planet 0.0007\nDwarf planet 0.00067\nDwarf planet 0.0028\n"
    }
   ],
   "source": [
    "for index, row in solar_system.iterrows():\n",
    "    print(row['Type'], row['Mass'])"
   ]
  },
  {
   "cell_type": "markdown",
   "metadata": {},
   "source": [
    "## 6, Modify Data"
   ]
  },
  {
   "cell_type": "markdown",
   "metadata": {},
   "source": [
    "### delete row using index, col\n",
    "```\n",
    "df.drop([index_list]))\n",
    "df.drop([column_list], axis = 1)\n",
    "```\n"
   ]
  },
  {
   "cell_type": "code",
   "execution_count": 14,
   "metadata": {},
   "outputs": [
    {
     "output_type": "execute_result",
     "data": {
      "text/plain": "          a         b  c\nA  0.562205  0.528560  2\nB  0.202138  0.968834  2\nC  0.539917  0.022196  2\nD  0.091753  0.358568  2\nE  0.925872  0.615933  2",
      "text/html": "<div>\n<style scoped>\n    .dataframe tbody tr th:only-of-type {\n        vertical-align: middle;\n    }\n\n    .dataframe tbody tr th {\n        vertical-align: top;\n    }\n\n    .dataframe thead th {\n        text-align: right;\n    }\n</style>\n<table border=\"1\" class=\"dataframe\">\n  <thead>\n    <tr style=\"text-align: right;\">\n      <th></th>\n      <th>a</th>\n      <th>b</th>\n      <th>c</th>\n    </tr>\n  </thead>\n  <tbody>\n    <tr>\n      <th>A</th>\n      <td>0.562205</td>\n      <td>0.528560</td>\n      <td>2</td>\n    </tr>\n    <tr>\n      <th>B</th>\n      <td>0.202138</td>\n      <td>0.968834</td>\n      <td>2</td>\n    </tr>\n    <tr>\n      <th>C</th>\n      <td>0.539917</td>\n      <td>0.022196</td>\n      <td>2</td>\n    </tr>\n    <tr>\n      <th>D</th>\n      <td>0.091753</td>\n      <td>0.358568</td>\n      <td>2</td>\n    </tr>\n    <tr>\n      <th>E</th>\n      <td>0.925872</td>\n      <td>0.615933</td>\n      <td>2</td>\n    </tr>\n  </tbody>\n</table>\n</div>"
     },
     "metadata": {},
     "execution_count": 14
    }
   ],
   "source": [
    "\n",
    "m = np.random.rand(5,3)\n",
    "df = pd.DataFrame(m, columns=['a', 'b', 'c'], index=['A','B','C','D','E'])\n",
    "df.iloc[:, 2] = 2\n",
    "df"
   ]
  },
  {
   "cell_type": "markdown",
   "metadata": {},
   "source": [
    "## 7, Add column using math\n"
   ]
  },
  {
   "cell_type": "code",
   "execution_count": 15,
   "metadata": {},
   "outputs": [
    {
     "output_type": "execute_result",
     "data": {
      "text/plain": "             mass  diameter  gravity   period        volume\nMercury     0.330    4879.0      3.7     88.0  2.736551e+11\nVenus       4.870   12104.0      8.9    224.7  4.178283e+12\nEarth       5.970   12756.0      9.8    365.2  4.890516e+12\nMars        0.642    6792.0      3.7    687.0  7.382512e+11\nJupiter  1898.000  142984.0     23.1   4331.0  6.887688e+15\nSaturn    568.000  120536.0      9.0  10747.0  4.126306e+15\nUranus     86.800   51118.0      8.7  30589.0  3.147261e+14\nNeptune   102.000   49528.0     11.0  59800.0  2.862619e+14",
      "text/html": "<div>\n<style scoped>\n    .dataframe tbody tr th:only-of-type {\n        vertical-align: middle;\n    }\n\n    .dataframe tbody tr th {\n        vertical-align: top;\n    }\n\n    .dataframe thead th {\n        text-align: right;\n    }\n</style>\n<table border=\"1\" class=\"dataframe\">\n  <thead>\n    <tr style=\"text-align: right;\">\n      <th></th>\n      <th>mass</th>\n      <th>diameter</th>\n      <th>gravity</th>\n      <th>period</th>\n      <th>volume</th>\n    </tr>\n  </thead>\n  <tbody>\n    <tr>\n      <th>Mercury</th>\n      <td>0.330</td>\n      <td>4879.0</td>\n      <td>3.7</td>\n      <td>88.0</td>\n      <td>2.736551e+11</td>\n    </tr>\n    <tr>\n      <th>Venus</th>\n      <td>4.870</td>\n      <td>12104.0</td>\n      <td>8.9</td>\n      <td>224.7</td>\n      <td>4.178283e+12</td>\n    </tr>\n    <tr>\n      <th>Earth</th>\n      <td>5.970</td>\n      <td>12756.0</td>\n      <td>9.8</td>\n      <td>365.2</td>\n      <td>4.890516e+12</td>\n    </tr>\n    <tr>\n      <th>Mars</th>\n      <td>0.642</td>\n      <td>6792.0</td>\n      <td>3.7</td>\n      <td>687.0</td>\n      <td>7.382512e+11</td>\n    </tr>\n    <tr>\n      <th>Jupiter</th>\n      <td>1898.000</td>\n      <td>142984.0</td>\n      <td>23.1</td>\n      <td>4331.0</td>\n      <td>6.887688e+15</td>\n    </tr>\n    <tr>\n      <th>Saturn</th>\n      <td>568.000</td>\n      <td>120536.0</td>\n      <td>9.0</td>\n      <td>10747.0</td>\n      <td>4.126306e+15</td>\n    </tr>\n    <tr>\n      <th>Uranus</th>\n      <td>86.800</td>\n      <td>51118.0</td>\n      <td>8.7</td>\n      <td>30589.0</td>\n      <td>3.147261e+14</td>\n    </tr>\n    <tr>\n      <th>Neptune</th>\n      <td>102.000</td>\n      <td>49528.0</td>\n      <td>11.0</td>\n      <td>59800.0</td>\n      <td>2.862619e+14</td>\n    </tr>\n  </tbody>\n</table>\n</div>"
     },
     "metadata": {},
     "execution_count": 15
    }
   ],
   "source": [
    "import math\n",
    "planets['volume'] = 3/4 * math.pi * planets['diameter'] ** 3\n",
    "planets"
   ]
  },
  {
   "cell_type": "markdown",
   "metadata": {},
   "source": [
    "## 8, Grouping data and Aggregation\n",
    "\n",
    "One of the most powerful uses for dataframes is to reorganize your data into groups and perform data aggregations.\n",
    "\n",
    "<img src = \"https://1.bp.blogspot.com/-4kPLaL_ykYM/Xzv418A9VzI/AAAAAAAACzQ/JMnqh6dUdkU7GqS8TaFkxeE68zFsUCJQACLcBGAsYHQ/s0/Screenshot%2Bfrom%2B2020-08-18%2B22-49-41.png\">"
   ]
  },
  {
   "cell_type": "code",
   "execution_count": 16,
   "metadata": {},
   "outputs": [
    {
     "output_type": "execute_result",
     "data": {
      "text/plain": "                        Type  Order from Sun   Diameter          Mass\nName                                                                 \nSun                     Star               0  1392000.0  333000.00000\nMercury   Terrestrial planet               1     4878.0       0.05500\nVenus     Terrestrial planet               2    12104.0       0.81500\nEarth     Terrestrial planet               3    12756.0       1.00000\nMars      Terrestrial planet               4     6787.0       0.10700\nJupiter            Gas giant               6   142800.0     318.00000\nSaturn             Gas giant               7   120000.0      95.00000\nUranus             Gas giant               8    51118.0      15.00000\nNeptune            Gas giant               9    49528.0      17.00000\nCeres           Dwarf planet               5      974.6       0.00016\nPluto           Dwarf planet              10     2300.0       0.00200\nHaumea          Dwarf planet              11     1300.0       0.00070\nMakemake        Dwarf planet              12     1420.0       0.00067\nEris            Dwarf planet              13     2326.0       0.00280",
      "text/html": "<div>\n<style scoped>\n    .dataframe tbody tr th:only-of-type {\n        vertical-align: middle;\n    }\n\n    .dataframe tbody tr th {\n        vertical-align: top;\n    }\n\n    .dataframe thead th {\n        text-align: right;\n    }\n</style>\n<table border=\"1\" class=\"dataframe\">\n  <thead>\n    <tr style=\"text-align: right;\">\n      <th></th>\n      <th>Type</th>\n      <th>Order from Sun</th>\n      <th>Diameter</th>\n      <th>Mass</th>\n    </tr>\n    <tr>\n      <th>Name</th>\n      <th></th>\n      <th></th>\n      <th></th>\n      <th></th>\n    </tr>\n  </thead>\n  <tbody>\n    <tr>\n      <th>Sun</th>\n      <td>Star</td>\n      <td>0</td>\n      <td>1392000.0</td>\n      <td>333000.00000</td>\n    </tr>\n    <tr>\n      <th>Mercury</th>\n      <td>Terrestrial planet</td>\n      <td>1</td>\n      <td>4878.0</td>\n      <td>0.05500</td>\n    </tr>\n    <tr>\n      <th>Venus</th>\n      <td>Terrestrial planet</td>\n      <td>2</td>\n      <td>12104.0</td>\n      <td>0.81500</td>\n    </tr>\n    <tr>\n      <th>Earth</th>\n      <td>Terrestrial planet</td>\n      <td>3</td>\n      <td>12756.0</td>\n      <td>1.00000</td>\n    </tr>\n    <tr>\n      <th>Mars</th>\n      <td>Terrestrial planet</td>\n      <td>4</td>\n      <td>6787.0</td>\n      <td>0.10700</td>\n    </tr>\n    <tr>\n      <th>Jupiter</th>\n      <td>Gas giant</td>\n      <td>6</td>\n      <td>142800.0</td>\n      <td>318.00000</td>\n    </tr>\n    <tr>\n      <th>Saturn</th>\n      <td>Gas giant</td>\n      <td>7</td>\n      <td>120000.0</td>\n      <td>95.00000</td>\n    </tr>\n    <tr>\n      <th>Uranus</th>\n      <td>Gas giant</td>\n      <td>8</td>\n      <td>51118.0</td>\n      <td>15.00000</td>\n    </tr>\n    <tr>\n      <th>Neptune</th>\n      <td>Gas giant</td>\n      <td>9</td>\n      <td>49528.0</td>\n      <td>17.00000</td>\n    </tr>\n    <tr>\n      <th>Ceres</th>\n      <td>Dwarf planet</td>\n      <td>5</td>\n      <td>974.6</td>\n      <td>0.00016</td>\n    </tr>\n    <tr>\n      <th>Pluto</th>\n      <td>Dwarf planet</td>\n      <td>10</td>\n      <td>2300.0</td>\n      <td>0.00200</td>\n    </tr>\n    <tr>\n      <th>Haumea</th>\n      <td>Dwarf planet</td>\n      <td>11</td>\n      <td>1300.0</td>\n      <td>0.00070</td>\n    </tr>\n    <tr>\n      <th>Makemake</th>\n      <td>Dwarf planet</td>\n      <td>12</td>\n      <td>1420.0</td>\n      <td>0.00067</td>\n    </tr>\n    <tr>\n      <th>Eris</th>\n      <td>Dwarf planet</td>\n      <td>13</td>\n      <td>2326.0</td>\n      <td>0.00280</td>\n    </tr>\n  </tbody>\n</table>\n</div>"
     },
     "metadata": {},
     "execution_count": 16
    }
   ],
   "source": [
    "solar_system"
   ]
  },
  {
   "cell_type": "code",
   "execution_count": 17,
   "metadata": {},
   "outputs": [
    {
     "output_type": "execute_result",
     "data": {
      "text/plain": "<pandas.core.groupby.generic.DataFrameGroupBy object at 0x7f0d20dbce50>"
     },
     "metadata": {},
     "execution_count": 17
    }
   ],
   "source": [
    "# Create groupby object\n",
    "group_by_type = solar_system.groupby('Type')\n",
    "group_by_type\n"
   ]
  },
  {
   "cell_type": "code",
   "execution_count": 18,
   "metadata": {},
   "outputs": [
    {
     "output_type": "execute_result",
     "data": {
      "text/plain": "                  Type  Order from Sun  Diameter     Mass\nName                                                     \nCeres     Dwarf planet               5     974.6  0.00016\nPluto     Dwarf planet              10    2300.0  0.00200\nHaumea    Dwarf planet              11    1300.0  0.00070\nMakemake  Dwarf planet              12    1420.0  0.00067\nEris      Dwarf planet              13    2326.0  0.00280",
      "text/html": "<div>\n<style scoped>\n    .dataframe tbody tr th:only-of-type {\n        vertical-align: middle;\n    }\n\n    .dataframe tbody tr th {\n        vertical-align: top;\n    }\n\n    .dataframe thead th {\n        text-align: right;\n    }\n</style>\n<table border=\"1\" class=\"dataframe\">\n  <thead>\n    <tr style=\"text-align: right;\">\n      <th></th>\n      <th>Type</th>\n      <th>Order from Sun</th>\n      <th>Diameter</th>\n      <th>Mass</th>\n    </tr>\n    <tr>\n      <th>Name</th>\n      <th></th>\n      <th></th>\n      <th></th>\n      <th></th>\n    </tr>\n  </thead>\n  <tbody>\n    <tr>\n      <th>Ceres</th>\n      <td>Dwarf planet</td>\n      <td>5</td>\n      <td>974.6</td>\n      <td>0.00016</td>\n    </tr>\n    <tr>\n      <th>Pluto</th>\n      <td>Dwarf planet</td>\n      <td>10</td>\n      <td>2300.0</td>\n      <td>0.00200</td>\n    </tr>\n    <tr>\n      <th>Haumea</th>\n      <td>Dwarf planet</td>\n      <td>11</td>\n      <td>1300.0</td>\n      <td>0.00070</td>\n    </tr>\n    <tr>\n      <th>Makemake</th>\n      <td>Dwarf planet</td>\n      <td>12</td>\n      <td>1420.0</td>\n      <td>0.00067</td>\n    </tr>\n    <tr>\n      <th>Eris</th>\n      <td>Dwarf planet</td>\n      <td>13</td>\n      <td>2326.0</td>\n      <td>0.00280</td>\n    </tr>\n  </tbody>\n</table>\n</div>"
     },
     "metadata": {},
     "execution_count": 18
    }
   ],
   "source": [
    "group_by_type.get_group('Dwarf planet')"
   ]
  },
  {
   "cell_type": "markdown",
   "metadata": {},
   "source": [
    "### Iteration over groups"
   ]
  },
  {
   "cell_type": "code",
   "execution_count": 19,
   "metadata": {
    "tags": []
   },
   "outputs": [
    {
     "output_type": "stream",
     "name": "stdout",
     "text": "Dwarf planet (5, 4)\nGas giant (4, 4)\nStar (1, 4)\nTerrestrial planet (4, 4)\n"
    }
   ],
   "source": [
    "for (Type, group) in solar_system.groupby('Type'):\n",
    "    print(Type, group.shape)"
   ]
  },
  {
   "cell_type": "code",
   "execution_count": 20,
   "metadata": {
    "tags": []
   },
   "outputs": [
    {
     "output_type": "execute_result",
     "data": {
      "text/plain": "                    Order from Sun   Diameter          Mass\nType                                                       \nDwarf planet                    51     8320.6       0.00633\nGas giant                       30   363446.0     445.00000\nStar                             0  1392000.0  333000.00000\nTerrestrial planet              10    36525.0       1.97700",
      "text/html": "<div>\n<style scoped>\n    .dataframe tbody tr th:only-of-type {\n        vertical-align: middle;\n    }\n\n    .dataframe tbody tr th {\n        vertical-align: top;\n    }\n\n    .dataframe thead th {\n        text-align: right;\n    }\n</style>\n<table border=\"1\" class=\"dataframe\">\n  <thead>\n    <tr style=\"text-align: right;\">\n      <th></th>\n      <th>Order from Sun</th>\n      <th>Diameter</th>\n      <th>Mass</th>\n    </tr>\n    <tr>\n      <th>Type</th>\n      <th></th>\n      <th></th>\n      <th></th>\n    </tr>\n  </thead>\n  <tbody>\n    <tr>\n      <th>Dwarf planet</th>\n      <td>51</td>\n      <td>8320.6</td>\n      <td>0.00633</td>\n    </tr>\n    <tr>\n      <th>Gas giant</th>\n      <td>30</td>\n      <td>363446.0</td>\n      <td>445.00000</td>\n    </tr>\n    <tr>\n      <th>Star</th>\n      <td>0</td>\n      <td>1392000.0</td>\n      <td>333000.00000</td>\n    </tr>\n    <tr>\n      <th>Terrestrial planet</th>\n      <td>10</td>\n      <td>36525.0</td>\n      <td>1.97700</td>\n    </tr>\n  </tbody>\n</table>\n</div>"
     },
     "metadata": {},
     "execution_count": 20
    }
   ],
   "source": [
    "# get sum, max, min of each of 4 type \n",
    "group_by_type.sum()"
   ]
  },
  {
   "cell_type": "markdown",
   "metadata": {},
   "source": [
    "## 9, Filtering a Dataframe\n",
    "\n",
    "Data in dataframes can also be filtered using boolean operations."
   ]
  },
  {
   "cell_type": "code",
   "execution_count": 21,
   "metadata": {},
   "outputs": [
    {
     "output_type": "execute_result",
     "data": {
      "text/plain": "                        Type  Order from Sun   Diameter          Mass\nName                                                                 \nSun                     Star               0  1392000.0  333000.00000\nMercury   Terrestrial planet               1     4878.0       0.05500\nVenus     Terrestrial planet               2    12104.0       0.81500\nEarth     Terrestrial planet               3    12756.0       1.00000\nMars      Terrestrial planet               4     6787.0       0.10700\nJupiter            Gas giant               6   142800.0     318.00000\nSaturn             Gas giant               7   120000.0      95.00000\nUranus             Gas giant               8    51118.0      15.00000\nNeptune            Gas giant               9    49528.0      17.00000\nCeres           Dwarf planet               5      974.6       0.00016\nPluto           Dwarf planet              10     2300.0       0.00200\nHaumea          Dwarf planet              11     1300.0       0.00070\nMakemake        Dwarf planet              12     1420.0       0.00067\nEris            Dwarf planet              13     2326.0       0.00280",
      "text/html": "<div>\n<style scoped>\n    .dataframe tbody tr th:only-of-type {\n        vertical-align: middle;\n    }\n\n    .dataframe tbody tr th {\n        vertical-align: top;\n    }\n\n    .dataframe thead th {\n        text-align: right;\n    }\n</style>\n<table border=\"1\" class=\"dataframe\">\n  <thead>\n    <tr style=\"text-align: right;\">\n      <th></th>\n      <th>Type</th>\n      <th>Order from Sun</th>\n      <th>Diameter</th>\n      <th>Mass</th>\n    </tr>\n    <tr>\n      <th>Name</th>\n      <th></th>\n      <th></th>\n      <th></th>\n      <th></th>\n    </tr>\n  </thead>\n  <tbody>\n    <tr>\n      <th>Sun</th>\n      <td>Star</td>\n      <td>0</td>\n      <td>1392000.0</td>\n      <td>333000.00000</td>\n    </tr>\n    <tr>\n      <th>Mercury</th>\n      <td>Terrestrial planet</td>\n      <td>1</td>\n      <td>4878.0</td>\n      <td>0.05500</td>\n    </tr>\n    <tr>\n      <th>Venus</th>\n      <td>Terrestrial planet</td>\n      <td>2</td>\n      <td>12104.0</td>\n      <td>0.81500</td>\n    </tr>\n    <tr>\n      <th>Earth</th>\n      <td>Terrestrial planet</td>\n      <td>3</td>\n      <td>12756.0</td>\n      <td>1.00000</td>\n    </tr>\n    <tr>\n      <th>Mars</th>\n      <td>Terrestrial planet</td>\n      <td>4</td>\n      <td>6787.0</td>\n      <td>0.10700</td>\n    </tr>\n    <tr>\n      <th>Jupiter</th>\n      <td>Gas giant</td>\n      <td>6</td>\n      <td>142800.0</td>\n      <td>318.00000</td>\n    </tr>\n    <tr>\n      <th>Saturn</th>\n      <td>Gas giant</td>\n      <td>7</td>\n      <td>120000.0</td>\n      <td>95.00000</td>\n    </tr>\n    <tr>\n      <th>Uranus</th>\n      <td>Gas giant</td>\n      <td>8</td>\n      <td>51118.0</td>\n      <td>15.00000</td>\n    </tr>\n    <tr>\n      <th>Neptune</th>\n      <td>Gas giant</td>\n      <td>9</td>\n      <td>49528.0</td>\n      <td>17.00000</td>\n    </tr>\n    <tr>\n      <th>Ceres</th>\n      <td>Dwarf planet</td>\n      <td>5</td>\n      <td>974.6</td>\n      <td>0.00016</td>\n    </tr>\n    <tr>\n      <th>Pluto</th>\n      <td>Dwarf planet</td>\n      <td>10</td>\n      <td>2300.0</td>\n      <td>0.00200</td>\n    </tr>\n    <tr>\n      <th>Haumea</th>\n      <td>Dwarf planet</td>\n      <td>11</td>\n      <td>1300.0</td>\n      <td>0.00070</td>\n    </tr>\n    <tr>\n      <th>Makemake</th>\n      <td>Dwarf planet</td>\n      <td>12</td>\n      <td>1420.0</td>\n      <td>0.00067</td>\n    </tr>\n    <tr>\n      <th>Eris</th>\n      <td>Dwarf planet</td>\n      <td>13</td>\n      <td>2326.0</td>\n      <td>0.00280</td>\n    </tr>\n  </tbody>\n</table>\n</div>"
     },
     "metadata": {},
     "execution_count": 21
    }
   ],
   "source": [
    "solar_system"
   ]
  },
  {
   "cell_type": "code",
   "execution_count": 22,
   "metadata": {},
   "outputs": [
    {
     "output_type": "execute_result",
     "data": {
      "text/plain": "Name\nMars         4\nJupiter      6\nSaturn       7\nUranus       8\nNeptune      9\nCeres        5\nPluto       10\nHaumea      11\nMakemake    12\nEris        13\nName: Order from Sun, dtype: int64"
     },
     "metadata": {},
     "execution_count": 22
    }
   ],
   "source": [
    "solar_system[solar_system['Order from Sun'] > 3].iloc[:, 1]"
   ]
  },
  {
   "source": [
    "## 10, Concat and Append row \n"
   ],
   "cell_type": "markdown",
   "metadata": {}
  },
  {
   "cell_type": "markdown",
   "metadata": {},
   "source": [
    "### Concat"
   ]
  },
  {
   "cell_type": "code",
   "execution_count": 23,
   "metadata": {},
   "outputs": [],
   "source": [
    "def make_df(cols, ind):\n",
    "    \"\"\"Quickly make a DataFrame\"\"\"\n",
    "    data = {c: [str(c) + str(i) for i in ind]\n",
    "    for c in cols}\n",
    "    return pd.DataFrame(data, ind)"
   ]
  },
  {
   "cell_type": "code",
   "execution_count": 24,
   "metadata": {
    "tags": []
   },
   "outputs": [
    {
     "output_type": "stream",
     "name": "stdout",
     "text": "A   B\n1  A1  B1\n2  A2  B2\n    A   B\n3  A3  B3\n4  A4  B4\n    A   B\n1  A1  B1\n2  A2  B2\n3  A3  B3\n4  A4  B4\n"
    }
   ],
   "source": [
    "# thêm vào theo hướng ngang dọc bảng default axis = 0 \n",
    "df1 = make_df('AB', [1, 2])\n",
    "df2 = make_df('AB', [3, 4])\n",
    "print(df1); print(df2); print(pd.concat([df1, df2]))"
   ]
  },
  {
   "cell_type": "code",
   "execution_count": 25,
   "metadata": {
    "tags": []
   },
   "outputs": [
    {
     "output_type": "stream",
     "name": "stdout",
     "text": "A   B\n0  A0  B0\n1  A1  B1\n    C   D\n0  C0  D0\n1  C1  D1\n    A   B   C   D\n0  A0  B0  C0  D0\n1  A1  B1  C1  D1\n"
    }
   ],
   "source": [
    "# thêm vào theo hướng ngang bảng axis = 1\n",
    "df3 = make_df('AB', [0, 1])\n",
    "df4 = make_df('CD', [0, 1])\n",
    "print(df3); print(df4); print(pd.concat([df3, df4], axis=1))"
   ]
  },
  {
   "cell_type": "code",
   "execution_count": 26,
   "metadata": {
    "tags": []
   },
   "outputs": [
    {
     "output_type": "stream",
     "name": "stdout",
     "text": "A   B\n0  A0  B0\n1  A1  B1\n0  A2  B2\n1  A3  B3\n    A   B\n0  A0  B0\n1  A1  B1\n2  A2  B2\n3  A3  B3\n"
    }
   ],
   "source": [
    "# Handle duplicate index\n",
    "x = make_df('AB', [0, 1])\n",
    "y = make_df('AB', [2, 3])\n",
    "y.index = x.index\n",
    "print(pd.concat([x, y]))\n",
    "\n",
    "#ignore_index bool, default False, if True, the resulting will be labeled 0, 1, …, n - 1.\n",
    "print(pd.concat([x, y], ignore_index = True))\n"
   ]
  },
  {
   "cell_type": "code",
   "execution_count": 27,
   "metadata": {
    "tags": []
   },
   "outputs": [
    {
     "output_type": "stream",
     "name": "stdout",
     "text": "A   B   C\n1  A1  B1  C1\n2  A2  B2  C2\n    B   C   D\n3  B3  C3  D3\n4  B4  C4  D4\n     A   B   C    D\n1   A1  B1  C1  NaN\n2   A2  B2  C2  NaN\n3  NaN  B3  C3   D3\n4  NaN  B4  C4   D4\n    B   C\n1  B1  C1\n2  B2  C2\n3  B3  C3\n4  B4  C4\n     A   B   C\n1   A1  B1  C1\n2   A2  B2  C2\n3  NaN  B3  C3\n4  NaN  B4  C4\n"
    }
   ],
   "source": [
    "# concatenation with join \n",
    "df5 = make_df('ABC', [1, 2])\n",
    "df6 = make_df('BCD', [3, 4])\n",
    "print(df5); print(df6); \n",
    "# Default: thấy cột mới thì tự thêm vào\n",
    "print(pd.concat([df5, df6]))\n",
    "# Inner join: chỉ lấy data các cột chung trong 2 df\n",
    "print(pd.concat([df5, df6], join = 'inner'))\n",
    "# Tự chọn các cột \n",
    "print(pd.concat([df5, df6], join_axes=[df5.columns]))"
   ]
  },
  {
   "cell_type": "markdown",
   "metadata": {},
   "source": [
    "### Append"
   ]
  },
  {
   "cell_type": "code",
   "execution_count": 28,
   "metadata": {
    "tags": []
   },
   "outputs": [
    {
     "output_type": "stream",
     "name": "stdout",
     "text": "A   B\n1  A1  B1\n2  A2  B2\n    A   B\n1  A1  B1\n2  A2  B2\n3  A3  B3\n4  A4  B4\n"
    }
   ],
   "source": [
    "df1 = make_df('AB', [1, 2])\n",
    "df2 = make_df('AB', [3, 4])\n",
    "\n",
    "# tương tự như concat([df1, df2]))\n",
    "# Keep in mind that unlike the append() and extend() methods of Python lists, the append() method in Pandas does not modify the original object—instead, it creates a new object with the combined data => tốn time vcl => nên tạo list df trước rồi concat cùng lúc OR tạo list data rồi cho vào một df\n",
    "\n",
    "df1.append(df2) \n",
    "# df1 ko đổi \n",
    "print(df1)\n",
    "# bùm, thay đổi \n",
    "df1 = df1.append(df2)\n",
    "print(df1)\n",
    "\n"
   ]
  },
  {
   "source": [
    "## 11, Handle missing data\n",
    "<a href = \"https://lh3.googleusercontent.com/-bnfvGw0aqGQ/X29DbJzlgRI/AAAAAAAAC8o/etpToEC7Hh0Vlvc9SeV1lWBbZYTXVzoSACLcBGAsYHQ/image.png\">Pandas handling of NAs by type</a>\n",
    "    "
   ],
   "cell_type": "markdown",
   "metadata": {}
  },
  {
   "source": [
    "### Python missing data - None"
   ],
   "cell_type": "markdown",
   "metadata": {}
  },
  {
   "cell_type": "code",
   "execution_count": 49,
   "metadata": {},
   "outputs": [
    {
     "output_type": "execute_result",
     "data": {
      "text/plain": "array([1, None, 3, 4], dtype=object)"
     },
     "metadata": {},
     "execution_count": 49
    }
   ],
   "source": [
    "# dtype = object \n",
    "vals1 = np.array([1, None, 3, 4])\n",
    "vals1"
   ]
  },
  {
   "cell_type": "code",
   "execution_count": 54,
   "metadata": {},
   "outputs": [
    {
     "output_type": "error",
     "ename": "TypeError",
     "evalue": "unsupported operand type(s) for +: 'int' and 'NoneType'",
     "traceback": [
      "\u001b[0;31m---------------------------------------------------------------------------\u001b[0m",
      "\u001b[0;31mTypeError\u001b[0m                                 Traceback (most recent call last)",
      "\u001b[0;32m<ipython-input-54-636de7dbba82>\u001b[0m in \u001b[0;36m<module>\u001b[0;34m\u001b[0m\n\u001b[1;32m      1\u001b[0m \u001b[0;31m# aggregate retrieve error\u001b[0m\u001b[0;34m\u001b[0m\u001b[0;34m\u001b[0m\u001b[0;34m\u001b[0m\u001b[0m\n\u001b[0;32m----> 2\u001b[0;31m \u001b[0mvals1\u001b[0m\u001b[0;34m.\u001b[0m\u001b[0msum\u001b[0m\u001b[0;34m(\u001b[0m\u001b[0;34m)\u001b[0m\u001b[0;34m\u001b[0m\u001b[0;34m\u001b[0m\u001b[0m\n\u001b[0m",
      "\u001b[0;32m~/miniconda3/lib/python3.7/site-packages/numpy/core/_methods.py\u001b[0m in \u001b[0;36m_sum\u001b[0;34m(a, axis, dtype, out, keepdims, initial, where)\u001b[0m\n\u001b[1;32m     36\u001b[0m def _sum(a, axis=None, dtype=None, out=None, keepdims=False,\n\u001b[1;32m     37\u001b[0m          initial=_NoValue, where=True):\n\u001b[0;32m---> 38\u001b[0;31m     \u001b[0;32mreturn\u001b[0m \u001b[0mumr_sum\u001b[0m\u001b[0;34m(\u001b[0m\u001b[0ma\u001b[0m\u001b[0;34m,\u001b[0m \u001b[0maxis\u001b[0m\u001b[0;34m,\u001b[0m \u001b[0mdtype\u001b[0m\u001b[0;34m,\u001b[0m \u001b[0mout\u001b[0m\u001b[0;34m,\u001b[0m \u001b[0mkeepdims\u001b[0m\u001b[0;34m,\u001b[0m \u001b[0minitial\u001b[0m\u001b[0;34m,\u001b[0m \u001b[0mwhere\u001b[0m\u001b[0;34m)\u001b[0m\u001b[0;34m\u001b[0m\u001b[0;34m\u001b[0m\u001b[0m\n\u001b[0m\u001b[1;32m     39\u001b[0m \u001b[0;34m\u001b[0m\u001b[0m\n\u001b[1;32m     40\u001b[0m def _prod(a, axis=None, dtype=None, out=None, keepdims=False,\n",
      "\u001b[0;31mTypeError\u001b[0m: unsupported operand type(s) for +: 'int' and 'NoneType'"
     ]
    }
   ],
   "source": [
    "# aggregate retrieve error\n",
    "vals1.sum()"
   ]
  },
  {
   "cell_type": "code",
   "execution_count": 52,
   "metadata": {
    "tags": []
   },
   "outputs": [
    {
     "output_type": "stream",
     "name": "stdout",
     "text": "dtype = object\n69.1 ms ± 3.04 ms per loop (mean ± std. dev. of 7 runs, 10 loops each)\n\ndtype = int\n2.38 ms ± 141 µs per loop (mean ± std. dev. of 7 runs, 100 loops each)\n\n"
    }
   ],
   "source": [
    "# tốc độ khá chậm in comparision with int \n",
    "for dtype in ['object', 'int']:\n",
    "    print(\"dtype =\", dtype)\n",
    "    %timeit np.arange(1E6, dtype=dtype).sum()\n",
    "    print()"
   ]
  },
  {
   "source": [
    "### NaN - Not a Number: numerical missing data \n",
    "There is no NaN for int, string,... Only for float"
   ],
   "cell_type": "markdown",
   "metadata": {}
  },
  {
   "cell_type": "code",
   "execution_count": 67,
   "metadata": {},
   "outputs": [
    {
     "output_type": "execute_result",
     "data": {
      "text/plain": "(dtype('float64'), array([ 1., nan,  3.,  4.]))"
     },
     "metadata": {},
     "execution_count": 67
    }
   ],
   "source": [
    "vals2 = np.array([1, np.nan, 3, 4])\n",
    "vals2.dtype, vals2"
   ]
  },
  {
   "cell_type": "code",
   "execution_count": 63,
   "metadata": {},
   "outputs": [
    {
     "output_type": "execute_result",
     "data": {
      "text/plain": "(nan, nan, nan)"
     },
     "metadata": {},
     "execution_count": 63
    }
   ],
   "source": [
    "# aggregate retrieve nan\n",
    "vals2.sum(), vals2.min(), vals2.max()"
   ]
  },
  {
   "cell_type": "code",
   "execution_count": 69,
   "metadata": {},
   "outputs": [
    {
     "output_type": "execute_result",
     "data": {
      "text/plain": "4.0"
     },
     "metadata": {},
     "execution_count": 69
    }
   ],
   "source": [
    "# special method to work with nan\n",
    "np.nanmax(vals2)"
   ]
  },
  {
   "cell_type": "code",
   "execution_count": 70,
   "metadata": {},
   "outputs": [
    {
     "output_type": "execute_result",
     "data": {
      "text/plain": "0    0\n1    1\ndtype: int64"
     },
     "metadata": {},
     "execution_count": 70
    }
   ],
   "source": [
    "# in addition to casting the integer array to floating point, Pandas automatically converts the None to a NaN value\n",
    "x = pd.Series(range(2), dtype=int)\n",
    "x"
   ]
  },
  {
   "cell_type": "code",
   "execution_count": 71,
   "metadata": {},
   "outputs": [
    {
     "output_type": "execute_result",
     "data": {
      "text/plain": "0    NaN\n1    1.0\ndtype: float64"
     },
     "metadata": {},
     "execution_count": 71
    }
   ],
   "source": [
    "x[0] = None\n",
    "x"
   ]
  },
  {
   "cell_type": "code",
   "execution_count": 74,
   "metadata": {},
   "outputs": [
    {
     "output_type": "execute_result",
     "data": {
      "text/plain": "0    1.0\n1    2.0\n2    NaN\ndtype: float64"
     },
     "metadata": {},
     "execution_count": 74
    }
   ],
   "source": [
    "y = pd.Series([1, 2, None])\n",
    "y"
   ]
  },
  {
   "source": [
    "### Operating on null values"
   ],
   "cell_type": "markdown",
   "metadata": {}
  },
  {
   "cell_type": "code",
   "execution_count": 80,
   "metadata": {},
   "outputs": [
    {
     "output_type": "execute_result",
     "data": {
      "text/plain": "(0    False\n 1     True\n 2    False\n 3     True\n dtype: bool,\n 0     True\n 1    False\n 2     True\n 3    False\n dtype: bool,\n 0     1\n 2    hi\n dtype: object)"
     },
     "metadata": {},
     "execution_count": 80
    }
   ],
   "source": [
    "# isnull() - notnull(): detect null value \n",
    "data = pd.Series([1, np.nan, 'hi', None])\n",
    "data.isnull(), data.notnull()"
   ]
  },
  {
   "cell_type": "code",
   "execution_count": 82,
   "metadata": {},
   "outputs": [
    {
     "output_type": "execute_result",
     "data": {
      "text/plain": "1     NaN\n3    None\ndtype: object"
     },
     "metadata": {},
     "execution_count": 82
    }
   ],
   "source": [
    "## pick nhanh các ô null trong Series (Df ko đc)\n",
    "data[data.isnull()]"
   ]
  },
  {
   "cell_type": "code",
   "execution_count": 87,
   "metadata": {
    "tags": []
   },
   "outputs": [
    {
     "output_type": "execute_result",
     "data": {
      "text/plain": "     0    1  2   3\n1  2.0  3.0  5 NaN",
      "text/html": "<div>\n<style scoped>\n    .dataframe tbody tr th:only-of-type {\n        vertical-align: middle;\n    }\n\n    .dataframe tbody tr th {\n        vertical-align: top;\n    }\n\n    .dataframe thead th {\n        text-align: right;\n    }\n</style>\n<table border=\"1\" class=\"dataframe\">\n  <thead>\n    <tr style=\"text-align: right;\">\n      <th></th>\n      <th>0</th>\n      <th>1</th>\n      <th>2</th>\n      <th>3</th>\n    </tr>\n  </thead>\n  <tbody>\n    <tr>\n      <th>1</th>\n      <td>2.0</td>\n      <td>3.0</td>\n      <td>5</td>\n      <td>NaN</td>\n    </tr>\n  </tbody>\n</table>\n</div>"
     },
     "metadata": {},
     "execution_count": 87
    }
   ],
   "source": [
    "# dropna(): dropping null value \n",
    "df = pd.DataFrame([[1,np.nan, 2, np.nan],[2,3,5,np.nan],[np.nan, 4, 6,np.nan]])\n",
    "\n",
    "# drop all columns with null value \n",
    "df.dropna(axis = 1)\n",
    "\n",
    "# kept all rows has >= 3 not-null value\n",
    "df.dropna(axis = 0, thresh = 3) "
   ]
  },
  {
   "cell_type": "code",
   "execution_count": 92,
   "metadata": {},
   "outputs": [
    {
     "output_type": "execute_result",
     "data": {
      "text/plain": "(     0    1    2   3\n 0  1.0  2.0  2.0 NaN\n 1  2.0  3.0  5.0 NaN\n 2  4.0  4.0  6.0 NaN,)"
     },
     "metadata": {},
     "execution_count": 92
    }
   ],
   "source": [
    "# fillna(): fill null value with something\n",
    "df.fillna(2001, axis = 1)"
   ]
  },
  {
   "cell_type": "code",
   "execution_count": 97,
   "metadata": {},
   "outputs": [
    {
     "output_type": "execute_result",
     "data": {
      "text/plain": "(     0    1  2   3\n 0  1.0  NaN  2 NaN\n 1  2.0  3.0  5 NaN\n 2  NaN  4.0  6 NaN,\n      0    1  2   3\n 0  1.0  NaN  2 NaN\n 1  2.0  3.0  5 NaN\n 2  2.0  4.0  6 NaN)"
     },
     "metadata": {},
     "execution_count": 97
    }
   ],
   "source": [
    "# fill giống thằng liền trước theo cột (đhs index lại thành cột)\n",
    "df, df.fillna(method='ffill', axis='index')"
   ]
  },
  {
   "cell_type": "code",
   "execution_count": 98,
   "metadata": {},
   "outputs": [
    {
     "output_type": "execute_result",
     "data": {
      "text/plain": "(     0    1  2   3\n 0  1.0  NaN  2 NaN\n 1  2.0  3.0  5 NaN\n 2  NaN  4.0  6 NaN,\n      0    1    2   3\n 0  1.0  2.0  2.0 NaN\n 1  2.0  3.0  5.0 NaN\n 2  4.0  4.0  6.0 NaN)"
     },
     "metadata": {},
     "execution_count": 98
    }
   ],
   "source": [
    "# fill giống thằng liên sau theo hàng (đhs columns lại thanh hàng)\n",
    "df, df.fillna(method='bfill', axis='columns')"
   ]
  },
  {
   "cell_type": "markdown",
   "metadata": {},
   "source": [
    "# Stuff \n",
    "1. convert str to dict\n",
    "```\n",
    " import json\n",
    " dictionary = json.loads(string)\n",
    "```"
   ]
  }
 ]
}