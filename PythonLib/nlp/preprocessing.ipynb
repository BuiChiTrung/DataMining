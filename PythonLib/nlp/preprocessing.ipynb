{
 "metadata": {
  "language_info": {
   "codemirror_mode": {
    "name": "ipython",
    "version": 3
   },
   "file_extension": ".py",
   "mimetype": "text/x-python",
   "name": "python",
   "nbconvert_exporter": "python",
   "pygments_lexer": "ipython3",
   "version": "3.7.4-final"
  },
  "orig_nbformat": 2,
  "kernelspec": {
   "name": "python_defaultSpec_1601685280295",
   "display_name": "Python 3.7.4 64-bit ('base': conda)"
  }
 },
 "nbformat": 4,
 "nbformat_minor": 2,
 "cells": [
  {
   "source": [
    "### Initialize"
   ],
   "cell_type": "markdown",
   "metadata": {}
  },
  {
   "cell_type": "code",
   "execution_count": 13,
   "metadata": {},
   "outputs": [],
   "source": [
    "from pyvi import ViTokenizer, ViPosTagger\n",
    "from pyvi import ViUtils\n",
    "from sklearn.metrics import accuracy_score\n",
    "from sklearn.model_selection import train_test_split\n",
    "import pandas as pd \n",
    "\n",
    "TRAINING_FILE = \"/home/straw/Data_mining/Pandas_Matplotlib/nlp/training.csv\"\n",
    "TRAINING_FILE_1000 = \"/home/straw/Data_mining/Pandas_Matplotlib/nlp/training_1000.csv\"\n",
    "TESTING_FILE = \"/home/straw/Data_mining/Pandas_Matplotlib/nlp/testing.txt\""
   ]
  },
  {
   "source": [
    "### Read stopwords file"
   ],
   "cell_type": "markdown",
   "metadata": {}
  },
  {
   "cell_type": "code",
   "execution_count": 14,
   "metadata": {},
   "outputs": [],
   "source": [
    "stop_words = []\n",
    "with open(\"/home/straw/Data_mining/Pandas_Matplotlib/nlp/stop_words.txt\", 'r') as inp_file:\n",
    "    for line in inp_file.readlines():\n",
    "        stop_words.append(line.strip('\\n'))\n",
    "    inp_file.close()"
   ]
  },
  {
   "source": [
    "### Extract label, text from file"
   ],
   "cell_type": "markdown",
   "metadata": {}
  },
  {
   "cell_type": "code",
   "execution_count": 3,
   "metadata": {
    "tags": []
   },
   "outputs": [],
   "source": [
    "with open(TRAINING_FILE, 'r') as inp_file:\n",
    "    data = inp_file.readlines()\n",
    "    corpus = []\n",
    "    nlp_y = []\n",
    "\n",
    "    for line in data:\n",
    "        line = line.split('\\\"')\n",
    "        nlp_y.append(line[1])\n",
    "        corpus.append(line[3])"
   ]
  },
  {
   "cell_type": "code",
   "execution_count": 15,
   "metadata": {},
   "outputs": [],
   "source": [
    "# with open(TESTING_FILE, 'r') as inp_file:\n",
    "#     data = inp_file.readlines()\n",
    "#     corpus = []\n",
    "#     nlp_y = []\n",
    "\n",
    "#     for line in data:\n",
    "#         corpus.append(line)"
   ]
  },
  {
   "source": [
    "### Eliminate useless part in text such as: \n",
    "1. preposition - E, pronoun - P, auxiliary, modal words - T,...(pyvi convention)\n",
    "2. stopwords (stopwords list above)"
   ],
   "cell_type": "markdown",
   "metadata": {}
  },
  {
   "cell_type": "code",
   "execution_count": 16,
   "metadata": {},
   "outputs": [],
   "source": [
    "nlp_y = pd.Series(nlp_y)\n",
    "useless_tags = ['E','I', 'L', 'T','R','S', 'F']\n",
    "#useful_tags = ['A', 'L', 'N', 'Nc', 'Ny', 'Nu', 'S', 'V']\n",
    "\n",
    "for i in range(len(corpus)):\n",
    "    n_grams, tags = list(ViPosTagger.postagging(ViTokenizer.tokenize(f\"{corpus[i]}\")))\n",
    "    \n",
    "    corpus[i] = \"\"\n",
    "    for j in range(len(n_grams)):\n",
    "        if tags[j] not in useless_tagsand n_grams[j] not in stop_words:\n",
    "            corpus[i] += n_grams[j] + ' '"
   ]
  },
  {
   "source": [
    "### Write handled data to a new file "
   ],
   "cell_type": "markdown",
   "metadata": {}
  },
  {
   "cell_type": "code",
   "execution_count": 20,
   "metadata": {},
   "outputs": [],
   "source": [
    "with open (\"/home/straw/Data_mining/Pandas_Matplotlib/nlp/testing_handled.csv\", \"w\") as out_file:\n",
    "    for i in range (len(corpus)):\n",
    "        out_file.write('\\\"' + nlp_y[i] + '\\\"' + ',' + '\\\"' + corpus[i] + '\\n')"
   ]
  },
  {
   "cell_type": "code",
   "execution_count": null,
   "metadata": {},
   "outputs": [],
   "source": []
  }
 ]
}