{
 "metadata": {
  "language_info": {
   "codemirror_mode": {
    "name": "ipython",
    "version": 3
   },
   "file_extension": ".py",
   "mimetype": "text/x-python",
   "name": "python",
   "nbconvert_exporter": "python",
   "pygments_lexer": "ipython3",
   "version": "3.7.4-final"
  },
  "orig_nbformat": 2,
  "kernelspec": {
   "name": "python_defaultSpec_1601811272971",
   "display_name": "Python 3.7.4 64-bit ('base': conda)"
  }
 },
 "nbformat": 4,
 "nbformat_minor": 2,
 "cells": [
  {
   "source": [
    "## I. Initialize"
   ],
   "cell_type": "markdown",
   "metadata": {}
  },
  {
   "cell_type": "code",
   "execution_count": 484,
   "metadata": {},
   "outputs": [],
   "source": [
    "import pandas as pd\n",
    "import numpy as np\n",
    "import matplotlib as plt\n",
    "from sklearn.metrics import accuracy_score\n",
    "from sklearn.model_selection import train_test_split\n",
    "\n",
    "TRAIN_FILE = \"/home/straw/Data_mining/TechnicalTutorial/PythonLib/titanic/train.csv\"\n",
    "TEST_FILE = \"/home/straw/Data_mining/TechnicalTutorial/PythonLib/titanic/test.csv\""
   ]
  },
  {
   "cell_type": "code",
   "execution_count": 485,
   "metadata": {
    "tags": []
   },
   "outputs": [
    {
     "output_type": "stream",
     "name": "stdout",
     "text": "PassengerId  Survived  Pclass  \\\n0              1         0       3   \n1              2         1       1   \n2              3         1       3   \n3              4         1       1   \n4              5         0       3   \n..           ...       ...     ...   \n886          887         0       2   \n887          888         1       1   \n888          889         0       3   \n889          890         1       1   \n890          891         0       3   \n\n                                                  Name     Sex   Age  SibSp  \\\n0                              Braund, Mr. Owen Harris    male  22.0      1   \n1    Cumings, Mrs. John Bradley (Florence Briggs Th...  female  38.0      1   \n2                               Heikkinen, Miss. Laina  female  26.0      0   \n3         Futrelle, Mrs. Jacques Heath (Lily May Peel)  female  35.0      1   \n4                             Allen, Mr. William Henry    male  35.0      0   \n..                                                 ...     ...   ...    ...   \n886                              Montvila, Rev. Juozas    male  27.0      0   \n887                       Graham, Miss. Margaret Edith  female  19.0      0   \n888           Johnston, Miss. Catherine Helen \"Carrie\"  female   NaN      1   \n889                              Behr, Mr. Karl Howell    male  26.0      0   \n890                                Dooley, Mr. Patrick    male  32.0      0   \n\n     Parch            Ticket     Fare Cabin Embarked  \n0        0         A/5 21171   7.2500   NaN        S  \n1        0          PC 17599  71.2833   C85        C  \n2        0  STON/O2. 3101282   7.9250   NaN        S  \n3        0            113803  53.1000  C123        S  \n4        0            373450   8.0500   NaN        S  \n..     ...               ...      ...   ...      ...  \n886      0            211536  13.0000   NaN        S  \n887      0            112053  30.0000   B42        S  \n888      2        W./C. 6607  23.4500   NaN        S  \n889      0            111369  30.0000  C148        C  \n890      0            370376   7.7500   NaN        Q  \n\n[891 rows x 12 columns]\n     PassengerId  Pclass                                          Name  \\\n0            892       3                              Kelly, Mr. James   \n1            893       3              Wilkes, Mrs. James (Ellen Needs)   \n2            894       2                     Myles, Mr. Thomas Francis   \n3            895       3                              Wirz, Mr. Albert   \n4            896       3  Hirvonen, Mrs. Alexander (Helga E Lindqvist)   \n..           ...     ...                                           ...   \n413         1305       3                            Spector, Mr. Woolf   \n414         1306       1                  Oliva y Ocana, Dona. Fermina   \n415         1307       3                  Saether, Mr. Simon Sivertsen   \n416         1308       3                           Ware, Mr. Frederick   \n417         1309       3                      Peter, Master. Michael J   \n\n        Sex   Age  SibSp  Parch              Ticket      Fare Cabin Embarked  \n0      male  34.5      0      0              330911    7.8292   NaN        Q  \n1    female  47.0      1      0              363272    7.0000   NaN        S  \n2      male  62.0      0      0              240276    9.6875   NaN        Q  \n3      male  27.0      0      0              315154    8.6625   NaN        S  \n4    female  22.0      1      1             3101298   12.2875   NaN        S  \n..      ...   ...    ...    ...                 ...       ...   ...      ...  \n413    male   NaN      0      0           A.5. 3236    8.0500   NaN        S  \n414  female  39.0      0      0            PC 17758  108.9000  C105        C  \n415    male  38.5      0      0  SOTON/O.Q. 3101262    7.2500   NaN        S  \n416    male   NaN      0      0              359309    8.0500   NaN        S  \n417    male   NaN      1      1                2668   22.3583   NaN        C  \n\n[418 rows x 11 columns]\n"
    }
   ],
   "source": [
    "titanic_train = pd.read_csv(TRAIN_FILE)\n",
    "titanic_train_y = titanic_train['Survived']\n",
    "titanic_test = pd.read_csv(TEST_FILE)\n",
    "print(titanic_train)\n",
    "print(titanic_test)"
   ]
  },
  {
   "source": [
    "## II.Preprocessing Data"
   ],
   "cell_type": "markdown",
   "metadata": {}
  },
  {
   "cell_type": "code",
   "execution_count": 486,
   "metadata": {},
   "outputs": [
    {
     "output_type": "execute_result",
     "data": {
      "text/plain": "       Age Cabin Embarked      Fare  \\\n0     22.0   NaN        S    7.2500   \n1     38.0   C85        C   71.2833   \n2     26.0   NaN        S    7.9250   \n3     35.0  C123        S   53.1000   \n4     35.0   NaN        S    8.0500   \n...    ...   ...      ...       ...   \n1304   NaN   NaN        S    8.0500   \n1305  39.0  C105        C  108.9000   \n1306  38.5   NaN        S    7.2500   \n1307   NaN   NaN        S    8.0500   \n1308   NaN   NaN        C   22.3583   \n\n                                                   Name  Parch  PassengerId  \\\n0                               Braund, Mr. Owen Harris      0            1   \n1     Cumings, Mrs. John Bradley (Florence Briggs Th...      0            2   \n2                                Heikkinen, Miss. Laina      0            3   \n3          Futrelle, Mrs. Jacques Heath (Lily May Peel)      0            4   \n4                              Allen, Mr. William Henry      0            5   \n...                                                 ...    ...          ...   \n1304                                 Spector, Mr. Woolf      0         1305   \n1305                       Oliva y Ocana, Dona. Fermina      0         1306   \n1306                       Saether, Mr. Simon Sivertsen      0         1307   \n1307                                Ware, Mr. Frederick      0         1308   \n1308                           Peter, Master. Michael J      1         1309   \n\n      Pclass     Sex  SibSp  Survived              Ticket  \n0          3    male      1       0.0           A/5 21171  \n1          1  female      1       1.0            PC 17599  \n2          3  female      0       1.0    STON/O2. 3101282  \n3          1  female      1       1.0              113803  \n4          3    male      0       0.0              373450  \n...      ...     ...    ...       ...                 ...  \n1304       3    male      0       NaN           A.5. 3236  \n1305       1  female      0       NaN            PC 17758  \n1306       3    male      0       NaN  SOTON/O.Q. 3101262  \n1307       3    male      0       NaN              359309  \n1308       3    male      1       NaN                2668  \n\n[1309 rows x 12 columns]",
      "text/html": "<div>\n<style scoped>\n    .dataframe tbody tr th:only-of-type {\n        vertical-align: middle;\n    }\n\n    .dataframe tbody tr th {\n        vertical-align: top;\n    }\n\n    .dataframe thead th {\n        text-align: right;\n    }\n</style>\n<table border=\"1\" class=\"dataframe\">\n  <thead>\n    <tr style=\"text-align: right;\">\n      <th></th>\n      <th>Age</th>\n      <th>Cabin</th>\n      <th>Embarked</th>\n      <th>Fare</th>\n      <th>Name</th>\n      <th>Parch</th>\n      <th>PassengerId</th>\n      <th>Pclass</th>\n      <th>Sex</th>\n      <th>SibSp</th>\n      <th>Survived</th>\n      <th>Ticket</th>\n    </tr>\n  </thead>\n  <tbody>\n    <tr>\n      <th>0</th>\n      <td>22.0</td>\n      <td>NaN</td>\n      <td>S</td>\n      <td>7.2500</td>\n      <td>Braund, Mr. Owen Harris</td>\n      <td>0</td>\n      <td>1</td>\n      <td>3</td>\n      <td>male</td>\n      <td>1</td>\n      <td>0.0</td>\n      <td>A/5 21171</td>\n    </tr>\n    <tr>\n      <th>1</th>\n      <td>38.0</td>\n      <td>C85</td>\n      <td>C</td>\n      <td>71.2833</td>\n      <td>Cumings, Mrs. John Bradley (Florence Briggs Th...</td>\n      <td>0</td>\n      <td>2</td>\n      <td>1</td>\n      <td>female</td>\n      <td>1</td>\n      <td>1.0</td>\n      <td>PC 17599</td>\n    </tr>\n    <tr>\n      <th>2</th>\n      <td>26.0</td>\n      <td>NaN</td>\n      <td>S</td>\n      <td>7.9250</td>\n      <td>Heikkinen, Miss. Laina</td>\n      <td>0</td>\n      <td>3</td>\n      <td>3</td>\n      <td>female</td>\n      <td>0</td>\n      <td>1.0</td>\n      <td>STON/O2. 3101282</td>\n    </tr>\n    <tr>\n      <th>3</th>\n      <td>35.0</td>\n      <td>C123</td>\n      <td>S</td>\n      <td>53.1000</td>\n      <td>Futrelle, Mrs. Jacques Heath (Lily May Peel)</td>\n      <td>0</td>\n      <td>4</td>\n      <td>1</td>\n      <td>female</td>\n      <td>1</td>\n      <td>1.0</td>\n      <td>113803</td>\n    </tr>\n    <tr>\n      <th>4</th>\n      <td>35.0</td>\n      <td>NaN</td>\n      <td>S</td>\n      <td>8.0500</td>\n      <td>Allen, Mr. William Henry</td>\n      <td>0</td>\n      <td>5</td>\n      <td>3</td>\n      <td>male</td>\n      <td>0</td>\n      <td>0.0</td>\n      <td>373450</td>\n    </tr>\n    <tr>\n      <th>...</th>\n      <td>...</td>\n      <td>...</td>\n      <td>...</td>\n      <td>...</td>\n      <td>...</td>\n      <td>...</td>\n      <td>...</td>\n      <td>...</td>\n      <td>...</td>\n      <td>...</td>\n      <td>...</td>\n      <td>...</td>\n    </tr>\n    <tr>\n      <th>1304</th>\n      <td>NaN</td>\n      <td>NaN</td>\n      <td>S</td>\n      <td>8.0500</td>\n      <td>Spector, Mr. Woolf</td>\n      <td>0</td>\n      <td>1305</td>\n      <td>3</td>\n      <td>male</td>\n      <td>0</td>\n      <td>NaN</td>\n      <td>A.5. 3236</td>\n    </tr>\n    <tr>\n      <th>1305</th>\n      <td>39.0</td>\n      <td>C105</td>\n      <td>C</td>\n      <td>108.9000</td>\n      <td>Oliva y Ocana, Dona. Fermina</td>\n      <td>0</td>\n      <td>1306</td>\n      <td>1</td>\n      <td>female</td>\n      <td>0</td>\n      <td>NaN</td>\n      <td>PC 17758</td>\n    </tr>\n    <tr>\n      <th>1306</th>\n      <td>38.5</td>\n      <td>NaN</td>\n      <td>S</td>\n      <td>7.2500</td>\n      <td>Saether, Mr. Simon Sivertsen</td>\n      <td>0</td>\n      <td>1307</td>\n      <td>3</td>\n      <td>male</td>\n      <td>0</td>\n      <td>NaN</td>\n      <td>SOTON/O.Q. 3101262</td>\n    </tr>\n    <tr>\n      <th>1307</th>\n      <td>NaN</td>\n      <td>NaN</td>\n      <td>S</td>\n      <td>8.0500</td>\n      <td>Ware, Mr. Frederick</td>\n      <td>0</td>\n      <td>1308</td>\n      <td>3</td>\n      <td>male</td>\n      <td>0</td>\n      <td>NaN</td>\n      <td>359309</td>\n    </tr>\n    <tr>\n      <th>1308</th>\n      <td>NaN</td>\n      <td>NaN</td>\n      <td>C</td>\n      <td>22.3583</td>\n      <td>Peter, Master. Michael J</td>\n      <td>1</td>\n      <td>1309</td>\n      <td>3</td>\n      <td>male</td>\n      <td>1</td>\n      <td>NaN</td>\n      <td>2668</td>\n    </tr>\n  </tbody>\n</table>\n<p>1309 rows × 12 columns</p>\n</div>"
     },
     "metadata": {},
     "execution_count": 486
    }
   ],
   "source": [
    "# concat test and training data \n",
    "titanic_all = pd.concat([titanic_train, titanic_test], ignore_index=True)\n",
    "titanic_all"
   ]
  },
  {
   "cell_type": "code",
   "execution_count": 487,
   "metadata": {
    "tags": []
   },
   "outputs": [
    {
     "output_type": "stream",
     "name": "stdout",
     "text": "Age missing 263 value\nCabin missing 1014 value\nEmbarked missing 0 value\nFare missing 0 value\nName missing 0 value\nParch missing 0 value\nPassengerId missing 0 value\nPclass missing 0 value\nSex missing 0 value\nSibSp missing 0 value\nSurvived missing 418 value\nTicket missing 0 value\n"
    }
   ],
   "source": [
    "# view missing data of each feature \n",
    "for column in titanic_all.columns.to_list():\n",
    "    print(f\"{column} missing \" + str(titanic_all[column].isnull().sum())  + \" value\")"
   ]
  },
  {
   "source": [
    "### Handle missing value\n",
    "1. Embarked, Fare: Embarked chỉ thiếu 2, Fare thiếu 1 nên em điền tay luôn vào file (trên mạng có thông tin về Embarked của 2 người bị thiếu, Fare em điền bừa)\n",
    "2. Age: Sau khi xem xét mối tương quan giữa Age và các Feature khác, nhận thấy Age có mối tương quan lớn nhất với Pclass. Nên sẽ điền các giá trị của Age dựa theo việc lấy trung bình Age giữa các group Pclass.  "
   ],
   "cell_type": "markdown",
   "metadata": {}
  },
  {
   "cell_type": "code",
   "execution_count": 488,
   "metadata": {},
   "outputs": [
    {
     "output_type": "execute_result",
     "data": {
      "text/plain": "Age            1.000000\nFare           0.177278\nParch          0.150917\nPassengerId    0.028814\nPclass         0.408106\nSibSp          0.243699\nSurvived       0.077221\nName: Age, dtype: float64"
     },
     "metadata": {},
     "execution_count": 488
    }
   ],
   "source": [
    "titanic_all.corr().abs()['Age']"
   ]
  },
  {
   "cell_type": "code",
   "execution_count": 489,
   "metadata": {
    "tags": []
   },
   "outputs": [
    {
     "output_type": "execute_result",
     "data": {
      "text/plain": "Sex     Pclass\nfemale  1         36.0\n        2         28.0\n        3         22.0\nmale    1         42.0\n        2         29.5\n        3         25.0\nName: Age, dtype: float64"
     },
     "metadata": {},
     "execution_count": 489
    }
   ],
   "source": [
    "median_age_by_sex_pclass = titanic_all.groupby(['Sex', 'Pclass'])['Age'].median()\n",
    "missing_age_row_list = titanic_all[titanic_all['Age'].isnull()]['Age'].index.to_list()\n",
    "\n",
    "for row in missing_age_row_list:\n",
    "    sex = titanic_all.ix[row, 'Sex']\n",
    "    pclass = titanic_all.ix[row, 'Pclass']\n",
    "    \n",
    "    titanic_all.ix[row, 'Age'] = median_age_by_sex_pclass[sex][pclass]\n",
    "median_age_by_sex_pclass\n"
   ]
  },
  {
   "source": [
    "### Add new feature\n",
    "1. Title: để tận dụng đc name ta sẽ thu gọn female về dạng Miss/Mrs/Ms, male về dạng Dr/Military/Noble/Clergy.   \n",
    "2. Family Size: tổng Parch và SibSP  "
   ],
   "cell_type": "markdown",
   "metadata": {}
  },
  {
   "cell_type": "code",
   "execution_count": 490,
   "metadata": {},
   "outputs": [],
   "source": [
    "titanic_all['Title'] = titanic_all['Name'].str.split(', ', expand=True)[1].str.split('.', expand=True)[0]\n",
    "titanic_all['Title'] = titanic_all['Title'].replace(['Miss', 'Mrs','Ms', 'Mlle', 'Lady', 'Mme', 'the Countess', 'Dona'], 'Miss/Mrs/Ms')\n",
    "titanic_all['Title'] = titanic_all['Title'].replace(['Dr', 'Col', 'Major', 'Jonkheer', 'Capt', 'Sir', 'Don', 'Rev'], 'Dr/Military/Noble/Clergy')\n"
   ]
  },
  {
   "cell_type": "code",
   "execution_count": 491,
   "metadata": {},
   "outputs": [],
   "source": [
    "titanic_all['FamilySize'] = titanic_all['Parch'] + titanic_all['SibSp'] + 1\n",
    "#titanic_all['Age*Class'] = titanic_all['Age']*titanic_all['Pclass']"
   ]
  },
  {
   "source": [
    "### Convert String data to int\n",
    "#### Để đưa đc dữ liệu vào model chúng phải có dạng float hoặc int "
   ],
   "cell_type": "markdown",
   "metadata": {}
  },
  {
   "cell_type": "code",
   "execution_count": 492,
   "metadata": {},
   "outputs": [],
   "source": [
    "titanic_all.loc[titanic_all['Sex'] == \"male\", \"Sex\"] = 1\n",
    "titanic_all.loc[titanic_all['Sex'] == \"female\", \"Sex\"] = 0"
   ]
  },
  {
   "source": [
    "### Onehot encode Title and Embarked\n",
    "#### Title và Embarked cx phải chuyển về int hoặc float nhưng nếu chỉ thành 0, 1, 2, ..n  như trên thì ta vô tình tạo ra khoảng cách giữa n với 0. Dùng Onehot encode để các kiểu dữ liệu trong một feature bình đẳng với nhau\n",
    "#### Đoc thêm về onehot <a href = \"https://viblo.asia/p/feature-engineering-phan-3-feature-engineering-voi-du-lieu-dang-phan-loai-categorical-data-GrLZDQx2lk0\">Onehot</a>"
   ],
   "cell_type": "markdown",
   "metadata": {}
  },
  {
   "cell_type": "code",
   "execution_count": 493,
   "metadata": {},
   "outputs": [
    {
     "output_type": "execute_result",
     "data": {
      "text/plain": "       Age Cabin Embarked      Fare  \\\n0     22.0   NaN        S    7.2500   \n1     38.0   C85        C   71.2833   \n2     26.0   NaN        S    7.9250   \n3     35.0  C123        S   53.1000   \n4     35.0   NaN        S    8.0500   \n...    ...   ...      ...       ...   \n1304  25.0   NaN        S    8.0500   \n1305  39.0  C105        C  108.9000   \n1306  38.5   NaN        S    7.2500   \n1307  25.0   NaN        S    8.0500   \n1308  25.0   NaN        C   22.3583   \n\n                                                   Name  Parch  PassengerId  \\\n0                               Braund, Mr. Owen Harris      0            1   \n1     Cumings, Mrs. John Bradley (Florence Briggs Th...      0            2   \n2                                Heikkinen, Miss. Laina      0            3   \n3          Futrelle, Mrs. Jacques Heath (Lily May Peel)      0            4   \n4                              Allen, Mr. William Henry      0            5   \n...                                                 ...    ...          ...   \n1304                                 Spector, Mr. Woolf      0         1305   \n1305                       Oliva y Ocana, Dona. Fermina      0         1306   \n1306                       Saether, Mr. Simon Sivertsen      0         1307   \n1307                                Ware, Mr. Frederick      0         1308   \n1308                           Peter, Master. Michael J      1         1309   \n\n      Pclass  Sex  SibSp  ...              Ticket        Title FamilySize  \\\n0          3    1      1  ...           A/5 21171           Mr          2   \n1          1    0      1  ...            PC 17599  Miss/Mrs/Ms          2   \n2          3    0      0  ...    STON/O2. 3101282  Miss/Mrs/Ms          1   \n3          1    0      1  ...              113803  Miss/Mrs/Ms          2   \n4          3    1      0  ...              373450           Mr          1   \n...      ...  ...    ...  ...                 ...          ...        ...   \n1304       3    1      0  ...           A.5. 3236           Mr          1   \n1305       1    0      0  ...            PC 17758  Miss/Mrs/Ms          1   \n1306       3    1      0  ...  SOTON/O.Q. 3101262           Mr          1   \n1307       3    1      0  ...              359309           Mr          1   \n1308       3    1      1  ...                2668       Master          3   \n\n      Embarked_C  Embarked_Q  Embarked_S  Title_Dr/Military/Noble/Clergy  \\\n0            0.0         0.0         1.0                             0.0   \n1            1.0         0.0         0.0                             0.0   \n2            0.0         0.0         1.0                             0.0   \n3            0.0         0.0         1.0                             0.0   \n4            0.0         0.0         1.0                             0.0   \n...          ...         ...         ...                             ...   \n1304         0.0         0.0         1.0                             0.0   \n1305         1.0         0.0         0.0                             0.0   \n1306         0.0         0.0         1.0                             0.0   \n1307         0.0         0.0         1.0                             0.0   \n1308         1.0         0.0         0.0                             0.0   \n\n      Title_Master  Title_Miss/Mrs/Ms  Title_Mr  \n0              0.0                0.0       1.0  \n1              0.0                1.0       0.0  \n2              0.0                1.0       0.0  \n3              0.0                1.0       0.0  \n4              0.0                0.0       1.0  \n...            ...                ...       ...  \n1304           0.0                0.0       1.0  \n1305           0.0                1.0       0.0  \n1306           0.0                0.0       1.0  \n1307           0.0                0.0       1.0  \n1308           1.0                0.0       0.0  \n\n[1309 rows x 21 columns]",
      "text/html": "<div>\n<style scoped>\n    .dataframe tbody tr th:only-of-type {\n        vertical-align: middle;\n    }\n\n    .dataframe tbody tr th {\n        vertical-align: top;\n    }\n\n    .dataframe thead th {\n        text-align: right;\n    }\n</style>\n<table border=\"1\" class=\"dataframe\">\n  <thead>\n    <tr style=\"text-align: right;\">\n      <th></th>\n      <th>Age</th>\n      <th>Cabin</th>\n      <th>Embarked</th>\n      <th>Fare</th>\n      <th>Name</th>\n      <th>Parch</th>\n      <th>PassengerId</th>\n      <th>Pclass</th>\n      <th>Sex</th>\n      <th>SibSp</th>\n      <th>...</th>\n      <th>Ticket</th>\n      <th>Title</th>\n      <th>FamilySize</th>\n      <th>Embarked_C</th>\n      <th>Embarked_Q</th>\n      <th>Embarked_S</th>\n      <th>Title_Dr/Military/Noble/Clergy</th>\n      <th>Title_Master</th>\n      <th>Title_Miss/Mrs/Ms</th>\n      <th>Title_Mr</th>\n    </tr>\n  </thead>\n  <tbody>\n    <tr>\n      <th>0</th>\n      <td>22.0</td>\n      <td>NaN</td>\n      <td>S</td>\n      <td>7.2500</td>\n      <td>Braund, Mr. Owen Harris</td>\n      <td>0</td>\n      <td>1</td>\n      <td>3</td>\n      <td>1</td>\n      <td>1</td>\n      <td>...</td>\n      <td>A/5 21171</td>\n      <td>Mr</td>\n      <td>2</td>\n      <td>0.0</td>\n      <td>0.0</td>\n      <td>1.0</td>\n      <td>0.0</td>\n      <td>0.0</td>\n      <td>0.0</td>\n      <td>1.0</td>\n    </tr>\n    <tr>\n      <th>1</th>\n      <td>38.0</td>\n      <td>C85</td>\n      <td>C</td>\n      <td>71.2833</td>\n      <td>Cumings, Mrs. John Bradley (Florence Briggs Th...</td>\n      <td>0</td>\n      <td>2</td>\n      <td>1</td>\n      <td>0</td>\n      <td>1</td>\n      <td>...</td>\n      <td>PC 17599</td>\n      <td>Miss/Mrs/Ms</td>\n      <td>2</td>\n      <td>1.0</td>\n      <td>0.0</td>\n      <td>0.0</td>\n      <td>0.0</td>\n      <td>0.0</td>\n      <td>1.0</td>\n      <td>0.0</td>\n    </tr>\n    <tr>\n      <th>2</th>\n      <td>26.0</td>\n      <td>NaN</td>\n      <td>S</td>\n      <td>7.9250</td>\n      <td>Heikkinen, Miss. Laina</td>\n      <td>0</td>\n      <td>3</td>\n      <td>3</td>\n      <td>0</td>\n      <td>0</td>\n      <td>...</td>\n      <td>STON/O2. 3101282</td>\n      <td>Miss/Mrs/Ms</td>\n      <td>1</td>\n      <td>0.0</td>\n      <td>0.0</td>\n      <td>1.0</td>\n      <td>0.0</td>\n      <td>0.0</td>\n      <td>1.0</td>\n      <td>0.0</td>\n    </tr>\n    <tr>\n      <th>3</th>\n      <td>35.0</td>\n      <td>C123</td>\n      <td>S</td>\n      <td>53.1000</td>\n      <td>Futrelle, Mrs. Jacques Heath (Lily May Peel)</td>\n      <td>0</td>\n      <td>4</td>\n      <td>1</td>\n      <td>0</td>\n      <td>1</td>\n      <td>...</td>\n      <td>113803</td>\n      <td>Miss/Mrs/Ms</td>\n      <td>2</td>\n      <td>0.0</td>\n      <td>0.0</td>\n      <td>1.0</td>\n      <td>0.0</td>\n      <td>0.0</td>\n      <td>1.0</td>\n      <td>0.0</td>\n    </tr>\n    <tr>\n      <th>4</th>\n      <td>35.0</td>\n      <td>NaN</td>\n      <td>S</td>\n      <td>8.0500</td>\n      <td>Allen, Mr. William Henry</td>\n      <td>0</td>\n      <td>5</td>\n      <td>3</td>\n      <td>1</td>\n      <td>0</td>\n      <td>...</td>\n      <td>373450</td>\n      <td>Mr</td>\n      <td>1</td>\n      <td>0.0</td>\n      <td>0.0</td>\n      <td>1.0</td>\n      <td>0.0</td>\n      <td>0.0</td>\n      <td>0.0</td>\n      <td>1.0</td>\n    </tr>\n    <tr>\n      <th>...</th>\n      <td>...</td>\n      <td>...</td>\n      <td>...</td>\n      <td>...</td>\n      <td>...</td>\n      <td>...</td>\n      <td>...</td>\n      <td>...</td>\n      <td>...</td>\n      <td>...</td>\n      <td>...</td>\n      <td>...</td>\n      <td>...</td>\n      <td>...</td>\n      <td>...</td>\n      <td>...</td>\n      <td>...</td>\n      <td>...</td>\n      <td>...</td>\n      <td>...</td>\n      <td>...</td>\n    </tr>\n    <tr>\n      <th>1304</th>\n      <td>25.0</td>\n      <td>NaN</td>\n      <td>S</td>\n      <td>8.0500</td>\n      <td>Spector, Mr. Woolf</td>\n      <td>0</td>\n      <td>1305</td>\n      <td>3</td>\n      <td>1</td>\n      <td>0</td>\n      <td>...</td>\n      <td>A.5. 3236</td>\n      <td>Mr</td>\n      <td>1</td>\n      <td>0.0</td>\n      <td>0.0</td>\n      <td>1.0</td>\n      <td>0.0</td>\n      <td>0.0</td>\n      <td>0.0</td>\n      <td>1.0</td>\n    </tr>\n    <tr>\n      <th>1305</th>\n      <td>39.0</td>\n      <td>C105</td>\n      <td>C</td>\n      <td>108.9000</td>\n      <td>Oliva y Ocana, Dona. Fermina</td>\n      <td>0</td>\n      <td>1306</td>\n      <td>1</td>\n      <td>0</td>\n      <td>0</td>\n      <td>...</td>\n      <td>PC 17758</td>\n      <td>Miss/Mrs/Ms</td>\n      <td>1</td>\n      <td>1.0</td>\n      <td>0.0</td>\n      <td>0.0</td>\n      <td>0.0</td>\n      <td>0.0</td>\n      <td>1.0</td>\n      <td>0.0</td>\n    </tr>\n    <tr>\n      <th>1306</th>\n      <td>38.5</td>\n      <td>NaN</td>\n      <td>S</td>\n      <td>7.2500</td>\n      <td>Saether, Mr. Simon Sivertsen</td>\n      <td>0</td>\n      <td>1307</td>\n      <td>3</td>\n      <td>1</td>\n      <td>0</td>\n      <td>...</td>\n      <td>SOTON/O.Q. 3101262</td>\n      <td>Mr</td>\n      <td>1</td>\n      <td>0.0</td>\n      <td>0.0</td>\n      <td>1.0</td>\n      <td>0.0</td>\n      <td>0.0</td>\n      <td>0.0</td>\n      <td>1.0</td>\n    </tr>\n    <tr>\n      <th>1307</th>\n      <td>25.0</td>\n      <td>NaN</td>\n      <td>S</td>\n      <td>8.0500</td>\n      <td>Ware, Mr. Frederick</td>\n      <td>0</td>\n      <td>1308</td>\n      <td>3</td>\n      <td>1</td>\n      <td>0</td>\n      <td>...</td>\n      <td>359309</td>\n      <td>Mr</td>\n      <td>1</td>\n      <td>0.0</td>\n      <td>0.0</td>\n      <td>1.0</td>\n      <td>0.0</td>\n      <td>0.0</td>\n      <td>0.0</td>\n      <td>1.0</td>\n    </tr>\n    <tr>\n      <th>1308</th>\n      <td>25.0</td>\n      <td>NaN</td>\n      <td>C</td>\n      <td>22.3583</td>\n      <td>Peter, Master. Michael J</td>\n      <td>1</td>\n      <td>1309</td>\n      <td>3</td>\n      <td>1</td>\n      <td>1</td>\n      <td>...</td>\n      <td>2668</td>\n      <td>Master</td>\n      <td>3</td>\n      <td>1.0</td>\n      <td>0.0</td>\n      <td>0.0</td>\n      <td>0.0</td>\n      <td>1.0</td>\n      <td>0.0</td>\n      <td>0.0</td>\n    </tr>\n  </tbody>\n</table>\n<p>1309 rows × 21 columns</p>\n</div>"
     },
     "metadata": {},
     "execution_count": 493
    }
   ],
   "source": [
    "from sklearn.preprocessing import OneHotEncoder\n",
    "\n",
    "embarked_onehot = OneHotEncoder()\n",
    "embarked = [['C'], ['Q'], ['S']]\n",
    "embarked_onehot.fit(embarked)\n",
    "\n",
    "embarked_df = pd.DataFrame(embarked_onehot.transform(titanic_all['Embarked'].values.reshape(-1, 1)).toarray(), \n",
    "                  columns = embarked_onehot.get_feature_names(['Embarked']))\n",
    "\n",
    "\n",
    "title_onehot = OneHotEncoder()\n",
    "title = [['Dr/Military/Noble/Clergy'], ['Miss/Mrs/Ms'], ['Mr'], ['Master']]\n",
    "title_onehot.fit(title)\n",
    "\n",
    "title_df = pd.DataFrame(title_onehot.transform(titanic_all['Title'].values.reshape(-1, 1)).toarray(), \n",
    "                  columns = title_onehot.get_feature_names(['Title']))\n",
    "\n",
    "titanic_all = pd.concat([titanic_all, embarked_df, title_df], axis=1)\n",
    "titanic_all"
   ]
  },
  {
   "cell_type": "code",
   "execution_count": null,
   "metadata": {},
   "outputs": [],
   "source": []
  },
  {
   "source": [
    "### Drop columns: drop unimportant columns (thực ra là Cabin với Ticket em ko xử lí dc) "
   ],
   "cell_type": "markdown",
   "metadata": {}
  },
  {
   "cell_type": "code",
   "execution_count": 494,
   "metadata": {},
   "outputs": [],
   "source": [
    "titanic_all = titanic_all.drop(['Name', 'Cabin', 'Embarked', 'Title', 'Survived', 'Ticket'], axis = 1)\n",
    "\n"
   ]
  },
  {
   "source": [
    "### Update train, test data"
   ],
   "cell_type": "markdown",
   "metadata": {}
  },
  {
   "cell_type": "code",
   "execution_count": 495,
   "metadata": {},
   "outputs": [
    {
     "output_type": "execute_result",
     "data": {
      "text/plain": "(418, 15)"
     },
     "metadata": {},
     "execution_count": 495
    }
   ],
   "source": [
    "titanic_train = titanic_all.loc[:890, :]\n",
    "titanic_test = titanic_all.loc[891:, :]\n",
    "titanic_test.shape"
   ]
  },
  {
   "source": [
    "### Write all data "
   ],
   "cell_type": "markdown",
   "metadata": {}
  },
  {
   "cell_type": "code",
   "execution_count": 496,
   "metadata": {},
   "outputs": [],
   "source": [
    "with open(\"/home/straw/Data_mining/TechnicalTutorial/PythonLib/titanic/all.csv\", \"w\") as out_file:\n",
    "    for column in titanic_all.columns.tolist():\n",
    "        out_file.write(column + \",\")\n",
    "    out_file.write('\\n')\n",
    "\n",
    "    for index, row in titanic_all.iterrows():\n",
    "        for column in titanic_all.columns.tolist():\n",
    "            out_file.write(str(row[column]) + \",\")\n",
    "        out_file.write('\\n')\n",
    "    out_file.close()"
   ]
  },
  {
   "source": [
    "## III. Train Model "
   ],
   "cell_type": "markdown",
   "metadata": {}
  },
  {
   "source": [
    "### Define each Model as an object of class Classifier Model \n",
    "#### Ps: cái này e tham khảo idol Nguyễn Minh Quang - aka Moi\n"
   ],
   "cell_type": "markdown",
   "metadata": {}
  },
  {
   "cell_type": "code",
   "execution_count": 497,
   "metadata": {},
   "outputs": [],
   "source": [
    "from sklearn.metrics import classification_report\n",
    "\n",
    "class ClassifierModel(object):\n",
    "    def __init__(self, features_train = None, labels_train = None,  estimator = None, features_test = None, labels_test = None):\n",
    "        self.features_train = features_train\n",
    "        self.features_test = features_test\n",
    "        self.labels_train = labels_train\n",
    "        self.labels_test = labels_test\n",
    "        self.estimator = estimator\n",
    "    def get_estimator(self):\n",
    "        return self.estimator\n",
    "    def train(self):\n",
    "        self.estimator.fit(self.features_train, self.labels_train)\n",
    "        self.get_result()\n",
    "    def predict(self,input):\n",
    "        return self.estimator.predict(input)\n",
    "    \"\"\"\n",
    "        predict and retrive classificatino_report (precision, recall, accuracy, f1 score)\n",
    "    \"\"\"\n",
    "    def get_result(self):\n",
    "        y_true, y_pred = self.labels_test, self.estimator.predict(self.features_test)\n",
    "        print(classification_report(y_true, y_pred))"
   ]
  },
  {
   "cell_type": "code",
   "execution_count": 498,
   "metadata": {},
   "outputs": [],
   "source": [
    "# split training data using 5-fold cross validation\n",
    "from sklearn.model_selection import train_test_split\n",
    "train_X, test_X, train_y, test_y = train_test_split(titanic_train, titanic_train_y, train_size = 0.8, shuffle = True, random_state = 21)"
   ]
  },
  {
   "source": [
    "### Naive Model\n",
    "#### Naive cho kết quả khá tốt, tốc độ chạy cũng nhanh "
   ],
   "cell_type": "markdown",
   "metadata": {}
  },
  {
   "cell_type": "code",
   "execution_count": 499,
   "metadata": {
    "tags": []
   },
   "outputs": [
    {
     "output_type": "stream",
     "name": "stdout",
     "text": "precision    recall  f1-score   support\n\n           0       0.84      0.87      0.85       105\n           1       0.80      0.77      0.79        74\n\n    accuracy                           0.83       179\n   macro avg       0.82      0.82      0.82       179\nweighted avg       0.83      0.83      0.83       179\n\n"
    }
   ],
   "source": [
    "from sklearn.naive_bayes import GaussianNB\n",
    "naive = ClassifierModel(train_X, train_y, GaussianNB(), test_X, test_y)\n",
    "naive.train()"
   ]
  },
  {
   "source": [
    "### RandomForest \n",
    "#### Kết quả cải thiện hơn Naive một chút "
   ],
   "cell_type": "markdown",
   "metadata": {}
  },
  {
   "cell_type": "code",
   "execution_count": 500,
   "metadata": {
    "tags": []
   },
   "outputs": [
    {
     "output_type": "stream",
     "name": "stdout",
     "text": "precision    recall  f1-score   support\n\n           0       0.83      0.90      0.87       105\n           1       0.85      0.74      0.79        74\n\n    accuracy                           0.84       179\n   macro avg       0.84      0.82      0.83       179\nweighted avg       0.84      0.84      0.84       179\n\n"
    }
   ],
   "source": [
    "from sklearn.ensemble import RandomForestClassifier\n",
    "random_forest = ClassifierModel(train_X, train_y, RandomForestClassifier(criterion='entropy', \n",
    "                                                                        n_estimators=1100,\n",
    "                                                                        max_depth=5,\n",
    "                                                                        min_samples_split=4,\n",
    "                                                                        min_samples_leaf=5,\n",
    "                                                                        oob_score=True,\n",
    "                                                                        random_state=21), \n",
    "                                test_X, test_y)\n",
    "random_forest.train()"
   ]
  },
  {
   "source": [
    "### SGDClassifier \n",
    "#### Em muốn chọn một mô hình nữa để làm VotingClassifire giữa 3 model. SGD trả ra kết quả tốt hơn so vơi Kmeans và SVM nên em chọn cái này làm model thứ 3 cho VotingClassifier. Nhưng ko hiệu quả lắm vì độ chính xác của SGD hơi thấp "
   ],
   "cell_type": "markdown",
   "metadata": {}
  },
  {
   "cell_type": "code",
   "execution_count": 501,
   "metadata": {
    "tags": []
   },
   "outputs": [
    {
     "output_type": "stream",
     "name": "stdout",
     "text": "precision    recall  f1-score   support\n\n           0       0.63      0.87      0.73       105\n           1       0.59      0.27      0.37        74\n\n    accuracy                           0.62       179\n   macro avg       0.61      0.57      0.55       179\nweighted avg       0.61      0.62      0.58       179\n\n"
    }
   ],
   "source": [
    "from sklearn.linear_model import SGDClassifier\n",
    "sgd = ClassifierModel(train_X, train_y, SGDClassifier(), test_X, test_y)\n",
    "sgd.train()"
   ]
  },
  {
   "cell_type": "code",
   "execution_count": 502,
   "metadata": {
    "tags": []
   },
   "outputs": [
    {
     "output_type": "stream",
     "name": "stdout",
     "text": "precision    recall  f1-score   support\n\n           0       0.84      0.90      0.87       105\n           1       0.85      0.76      0.80        74\n\n    accuracy                           0.84       179\n   macro avg       0.84      0.83      0.84       179\nweighted avg       0.84      0.84      0.84       179\n\n"
    }
   ],
   "source": [
    "from sklearn.ensemble import VotingClassifier\n",
    "voting_classifier_hard = ClassifierModel(train_X, train_y, \n",
    "                                         VotingClassifier(estimators=[(\"naive\", naive.get_estimator()),\n",
    "                                                                    (\"random_forest\", random_forest.get_estimator()),\n",
    "                                                                    (\"sgd\", sgd.get_estimator())],\n",
    "                                                          voting = \"hard\",\n",
    "                                                          weights = [2, 2.5, 1]), \n",
    "                                         test_X, test_y)\n",
    "voting_classifier_hard.train()"
   ]
  },
  {
   "source": [
    "### Predict with RandomForest"
   ],
   "cell_type": "markdown",
   "metadata": {}
  },
  {
   "cell_type": "code",
   "execution_count": 503,
   "metadata": {
    "tags": []
   },
   "outputs": [
    {
     "output_type": "execute_result",
     "data": {
      "text/plain": "(418,)"
     },
     "metadata": {},
     "execution_count": 503
    }
   ],
   "source": [
    "titanic_pred = random_forest.predict(titanic_test)\n",
    "with open(\"/home/straw/Data_mining/TechnicalTutorial/PythonLib/titanic/predict.csv\", \"w\") as out_file:\n",
    "    out_file.write(\"PassengerId,Survived\\n\")\n",
    "    for i in range(len(titanic_pred)):\n",
    "        out_file.write(str(i + 892) + \",\" + str(titanic_pred[i]) + '\\n')\n",
    "    out_file.close()\n",
    "titanic_pred.shape"
   ]
  }
 ]
}